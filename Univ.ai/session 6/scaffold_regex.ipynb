{
 "cells": [
  {
   "attachments": {},
   "cell_type": "markdown",
   "metadata": {},
   "source": [
    "## Regular Expressions using the `re` module"
   ]
  },
  {
   "attachments": {},
   "cell_type": "markdown",
   "metadata": {},
   "source": [
    "### ⏸ Finding multiple matches\n",
    "which of the following gives the output `['+91 7775998489,'+91 9223234422']`\n",
    "\n",
    "For the string `mystr = 'My number is +91 7775998489 but your number is +91 9223234422'`\n",
    "\n",
    "#### A. `re.findall(r'\\+91\\s\\d{10}',mystr)`\n",
    "#### B. `re.search(r'\\+91\\s\\d{10}',mystr)`\n",
    "#### C. `re.findall(r'+91\\s\\d{10}',mystr)`\n",
    "#### D. `re.searchall(r'\\+91\\s\\d{10}',mystr)`"
   ]
  },
  {
   "cell_type": "code",
   "execution_count": 1,
   "metadata": {},
   "outputs": [],
   "source": [
    "### edTest(test_chow1) ###\n",
    "\n",
    "# Submit an answer choice as a string below (eg. if you choose option C, put 'C')\n",
    "answer1 = 'A'"
   ]
  },
  {
   "cell_type": "code",
   "execution_count": 2,
   "metadata": {},
   "outputs": [],
   "source": [
    "# Import the regular expressions library\n",
    "import re"
   ]
  },
  {
   "attachments": {},
   "cell_type": "markdown",
   "metadata": {},
   "source": [
    "## Part 1: Toll free numbers\n",
    "In the first subsection, you will go through a chunk of text which contains the name of companies and their phone numbers. \n",
    "\n",
    "From this, you are required to extract the name of the company and its phone number.\n",
    "\n",
    "e.g. In the string `Indian Airlines 1800 180 1407` we should look to match `1800 180 1407`"
   ]
  },
  {
   "cell_type": "code",
   "execution_count": 3,
   "metadata": {},
   "outputs": [],
   "source": [
    "# First open the 'tollfree.txt' file and read its contents to `phone_nums` variable\n",
    "with open('tollfree.txt') as f:\n",
    "    phone_nums = f.read()"
   ]
  },
  {
   "cell_type": "code",
   "execution_count": 4,
   "metadata": {},
   "outputs": [
    {
     "name": "stdout",
     "output_type": "stream",
     "text": [
      "Toll Free Numbers in India Airlines Indian Airlines 1800 180 1407 Jet Airways 1800 22 5522 Spice Jet\n"
     ]
    }
   ],
   "source": [
    "# print a small sub-section of the file to see its contents\n",
    "print(phone_nums[:100])"
   ]
  },
  {
   "cell_type": "code",
   "execution_count": 5,
   "metadata": {},
   "outputs": [
    {
     "name": "stdout",
     "output_type": "stream",
     "text": [
      "['1800 180 1407', '1800 180 3333', '1800 180 0101', '1800 425 1400', '1800 425 6664', '1800 424 1800', '1800 180 8080', '1800 180 1104', '1800 180 1225', '1901 180 9999', '1800 180 8000', '1800 425 4255']\n"
     ]
    }
   ],
   "source": [
    "### edTest(test_nums) ###\n",
    "# Create a regular expression which extracts the toll free phone numbers\n",
    "# of the form XXXX XXX XXXX\n",
    "pattern = r'\\b\\d{4} \\d{3} \\d{4}\\b'\n",
    "# Use re.findall() to get an extracted list of phone numbers\n",
    "nums = re.findall(pattern,  phone_nums)\n",
    "print(nums)"
   ]
  },
  {
   "attachments": {},
   "cell_type": "markdown",
   "metadata": {},
   "source": [
    "## Part 2: Email IDs\n",
    "In this subsection, you will dig through a blob of text for email ids."
   ]
  },
  {
   "cell_type": "code",
   "execution_count": 6,
   "metadata": {},
   "outputs": [],
   "source": [
    "# Next open the 'emails.txt' file using the .read() function\n",
    "with open('emails.txt') as f:\n",
    "    email_text = f.read()"
   ]
  },
  {
   "cell_type": "code",
   "execution_count": 7,
   "metadata": {},
   "outputs": [
    {
     "name": "stdout",
     "output_type": "stream",
     "text": [
      "\n",
      "INFOHINDIHUB.IN\n",
      "SUBSCRIBE\n",
      "\n",
      "SEARCH\n",
      "\n",
      "Home Contact Us About Us Download Aadhar Computer\n",
      ".\n",
      "Free Bulk Email ID List - 1000 Active Email Data For Free 1 To 200\n",
      "March 03, 2021\n",
      "अगर आप Email Marketing करते है या करना चाहते है, तो आपको लोगो को email करने पड़ते है जिससे आप की वेबसाइट की marketing होती है. Email Marketing से हम बौहत अच्छी earning कर सकते है लकिन problem यह है की हमे email id कैसे मिले। free bulk email id list कैसे मिले. Free Email List कहा से Download करे. इस website की सहायता से हम आप को ज़ादा से ज़ादा free email address database देंगे। अगर आप google पर search कर रहे है की email id list kahan se nikale. तो आप को कही और जाने की ज़रूरत नही है. आप इस Email database को कॉपी एंड पेस्ट कर के इस्तिमाल कर सकते है.\n",
      "\n",
      "Bulk Email ID\n",
      "Aaradhykumar@gmail.com\n",
      "Aarhantkumar@gmail.com\n",
      "\n",
      "Aarishkumar@gmail.c\n"
     ]
    }
   ],
   "source": [
    "# print a small sub-section of the file to see its contents\n",
    "print(email_text[:800])"
   ]
  },
  {
   "cell_type": "code",
   "execution_count": 8,
   "metadata": {},
   "outputs": [
    {
     "name": "stdout",
     "output_type": "stream",
     "text": [
      "293\n"
     ]
    }
   ],
   "source": [
    "### edTest(test_email) ###\n",
    "# Create a regular expression which extracts the email ids from the above text blob\n",
    "# of the form xxxx@xxx.xxx\n",
    "pattern = r\"[a-zA-Z0-9_.+-]+@[a-zA-Z0-9-]+\\.[a-zA-Z]+\"\n",
    "# Use re.findall() to get an extracted list of emails\n",
    "emails = re.findall(pattern,email_text)\n",
    "print(len(emails))"
   ]
  },
  {
   "attachments": {},
   "cell_type": "markdown",
   "metadata": {},
   "source": [
    "### ⏸ How many email ids from the `email_text` string are *Yahoo!* accounts ?\n",
    "\n",
    "\n",
    "#### A. 24\n",
    "#### B. 14\n",
    "#### C. 16\n",
    "#### D. 2"
   ]
  },
  {
   "cell_type": "code",
   "execution_count": 9,
   "metadata": {},
   "outputs": [],
   "source": [
    "### edTest(test_chow2) ###\n",
    "\n",
    "# Submit an answer choice as a string below (eg. if you choose option C, put 'C')\n",
    "answer2 = 'A'"
   ]
  }
 ],
 "metadata": {
  "kernelspec": {
   "display_name": "Python 3 (ipykernel)",
   "language": "python",
   "name": "python3"
  },
  "language_info": {
   "codemirror_mode": {
    "name": "ipython",
    "version": 3
   },
   "file_extension": ".py",
   "mimetype": "text/x-python",
   "name": "python",
   "nbconvert_exporter": "python",
   "pygments_lexer": "ipython3",
   "version": "3.9.7"
  }
 },
 "nbformat": 4,
 "nbformat_minor": 4
}
