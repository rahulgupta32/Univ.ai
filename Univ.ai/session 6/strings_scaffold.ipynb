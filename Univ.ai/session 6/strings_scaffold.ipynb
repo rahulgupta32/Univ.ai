{
 "cells": [
  {
   "attachments": {},
   "cell_type": "markdown",
   "metadata": {},
   "source": [
    "## String exercise "
   ]
  },
  {
   "cell_type": "code",
   "execution_count": 1,
   "metadata": {},
   "outputs": [
    {
     "name": "stdout",
     "output_type": "stream",
     "text": [
      "Hello my name is Rahul Kumar Gupta and I am 20 years old\n"
     ]
    }
   ],
   "source": [
    "### edTest(test_f) ###\n",
    "# Fill in your name\n",
    "name = 'Rahul Kumar Gupta'\n",
    "# Fill in your age\n",
    "age = 20\n",
    "\n",
    "# Write a custom string that takes values from the variables \n",
    "# defined above\n",
    "custom_string = f'Hello my name is {name} and I am {age} years old'\n",
    "\n",
    "# Print the string\n",
    "print(custom_string)"
   ]
  },
  {
   "cell_type": "code",
   "execution_count": 2,
   "metadata": {},
   "outputs": [
    {
     "name": "stdout",
     "output_type": "stream",
     "text": [
      "This is a line\n",
      "This is another line \tHuge space here\n",
      "This is a line\\nThis is another line \\tHuge space here\n"
     ]
    }
   ],
   "source": [
    "# Given below is a normal python string\n",
    "normal_string = 'This is a line\\nThis is another line \\tHuge space here'\n",
    "print(normal_string)\n",
    "\n",
    "# Convert the above into a python raw string literal \n",
    "raw_string = r'This is a line\\nThis is another line \\tHuge space here'\n",
    "\n",
    "# Print the raw string and how it's different from the regular string\n",
    "print(raw_string)\n"
   ]
  },
  {
   "cell_type": "code",
   "execution_count": 3,
   "metadata": {},
   "outputs": [
    {
     "name": "stdout",
     "output_type": "stream",
     "text": [
      "Hello \\nmy name is Rahul Kumar Gupta\\nI am 20 years old\n"
     ]
    }
   ],
   "source": [
    "# We can even combine raw string literals with formatted string literals \n",
    "# using the fr'' prefix\n",
    "# Combine the raw and literal strings in the sentence below\n",
    "formatted_raw_string = fr'Hello \\nmy name is {name}\\nI am {age} years old'\n",
    "print(formatted_raw_string)"
   ]
  },
  {
   "attachments": {},
   "cell_type": "markdown",
   "metadata": {},
   "source": [
    "## `str.strip()`"
   ]
  },
  {
   "cell_type": "code",
   "execution_count": 5,
   "metadata": {},
   "outputs": [
    {
     "name": "stdout",
     "output_type": "stream",
     "text": [
      "\n",
      " \n",
      " \n",
      " \t No Such Thing As Bad Student, \t \t \n",
      " \t Only Bad Teacher.\n",
      "Teacher Say, Student Do.\n",
      "\n",
      "\n",
      "\n",
      "\n",
      "- Mr. Miyagi \n",
      " \n",
      "\n"
     ]
    }
   ],
   "source": [
    "# Take a sample sentence such as the quote below\n",
    "# from the 1986 movie 'The Karate Kid'\n",
    "sample_sentence = '\\n \\n \\n \\t No Such Thing As Bad Student, \\t \\t \\n \\t Only Bad Teacher.\\nTeacher Say, Student Do.\\n\\n\\n\\n\\n- Mr. Miyagi \\n \\n'\n",
    "print(sample_sentence)"
   ]
  },
  {
   "cell_type": "code",
   "execution_count": 7,
   "metadata": {},
   "outputs": [
    {
     "name": "stdout",
     "output_type": "stream",
     "text": [
      "Original sentence:\n",
      " \n",
      " \n",
      " \n",
      " \t No Such Thing As Bad Student, \t \t \n",
      " \t Only Bad Teacher.\n",
      "Teacher Say, Student Do.\n",
      "\n",
      "\n",
      "\n",
      "\n",
      "- Mr. Miyagi \n",
      " \n",
      "\n",
      "Number of characters above 109\n",
      "\n",
      "Stripped Sentence:\n",
      " No Such Thing As Bad Student, \t \t \n",
      " \t Only Bad Teacher.\n",
      "Teacher Say, Student Do.\n",
      "\n",
      "\n",
      "\n",
      "\n",
      "- Mr. Miyagi\n",
      "Number of characters above 97\n"
     ]
    }
   ],
   "source": [
    "# As you see above, there is a lot of unnecessary \n",
    "# space occupied while printing\n",
    "# Use the string method 'strip' to remove the formatting \n",
    "# at the start and end of the sentence\n",
    "stripped = sample_sentence.strip()\n",
    "\n",
    "print(f'Original sentence:\\n {sample_sentence}')\n",
    "print(f'Number of characters above {len(sample_sentence)}')\n",
    "print(f'\\nStripped Sentence:\\n {stripped}')\n",
    "print(f'Number of characters above {len(stripped)}')"
   ]
  },
  {
   "attachments": {},
   "cell_type": "markdown",
   "metadata": {},
   "source": [
    "## `str.split()` & `str.join()`\n",
    "\n",
    "As you can see, although `strip()` is useful, we still have space in between our sentences which is still untouched.\n",
    "\n",
    "To get access to individual substrings, we can use `str.split()` method, and recombine using the `str.join()` method.\n",
    "\n",
    "Read more about `.split()` and `.join()` [here](https://sites.pitt.edu/~naraehan/python3/split_join.html)."
   ]
  },
  {
   "cell_type": "code",
   "execution_count": 8,
   "metadata": {},
   "outputs": [
    {
     "name": "stdout",
     "output_type": "stream",
     "text": [
      "['No', 'Such', 'Thing', 'As', 'Bad', 'Student,', 'Only', 'Bad', 'Teacher.', 'Teacher', 'Say,', 'Student', 'Do.', '-', 'Mr.', 'Miyagi']\n"
     ]
    }
   ],
   "source": [
    "# Make a list of words using the `.split()` method\n",
    "word_list = sample_sentence.split()\n",
    "\n",
    "# print the list of split strings\n",
    "print(word_list)"
   ]
  },
  {
   "cell_type": "code",
   "execution_count": 9,
   "metadata": {},
   "outputs": [
    {
     "name": "stdout",
     "output_type": "stream",
     "text": [
      "['\\n \\n \\n \\t No Such Thing As Bad Student', ' \\t \\t \\n \\t Only Bad Teacher.\\nTeacher Say', ' Student Do.\\n\\n\\n\\n\\n- Mr. Miyagi \\n \\n']\n"
     ]
    }
   ],
   "source": [
    "# By default the strings are split by whitespaces\n",
    "# and trailing '\\n', '\\t' are cleaned up as well\n",
    "# However, we can specify our own delimiter\n",
    "# Specify the ',' as the delimiter in the .split() method\n",
    "comma_separated = sample_sentence.split(',')\n",
    "\n",
    "# print the new list \n",
    "print(comma_separated)"
   ]
  },
  {
   "cell_type": "code",
   "execution_count": 10,
   "metadata": {},
   "outputs": [
    {
     "name": "stdout",
     "output_type": "stream",
     "text": [
      "No Such Thing As Bad Student Only Bad Teacher Teacher Say Student Do - Mr Miyagi\n"
     ]
    }
   ],
   "source": [
    "### edTest(test_clean) ###\n",
    "# Now we are ready to clean up our sentence\n",
    "# define a new empty list called `new_sentence`\n",
    "new_sentence = []\n",
    "\n",
    "# Iterate through the words in the word_list\n",
    "for word in word_list:\n",
    "    # Strip each word of delimiters such as ',' and '.'\n",
    "    cleaned_word = word.strip(',').strip('.')\n",
    "    # Append the cleaned_word to the new_sentence list\n",
    "    new_sentence.append(cleaned_word)\n",
    "\n",
    "# Join the cleaned words using white spaces\n",
    "cleaned_sentence = ' '.join(new_sentence)\n",
    "print(cleaned_sentence)\n"
   ]
  },
  {
   "cell_type": "code",
   "execution_count": 11,
   "metadata": {},
   "outputs": [
    {
     "name": "stdout",
     "output_type": "stream",
     "text": [
      "No,Such,Thing,As,Bad,Student,Only,Bad,Teacher,Teacher,Say,Student,Do,-,Mr,Miyagi\n"
     ]
    }
   ],
   "source": [
    "# We could also join the sentence by any other delimiter\n",
    "# Join the new_sentence by the ',' delimiter\n",
    "comma_sentence = ','.join(new_sentence)\n",
    "print(comma_sentence)\n"
   ]
  },
  {
   "cell_type": "code",
   "execution_count": 12,
   "metadata": {},
   "outputs": [
    {
     "name": "stdout",
     "output_type": "stream",
     "text": [
      "Original sentence:\n",
      " \n",
      " \n",
      " \n",
      " \t No Such Thing As Bad Student, \t \t \n",
      " \t Only Bad Teacher.\n",
      "Teacher Say, Student Do.\n",
      "\n",
      "\n",
      "\n",
      "\n",
      "- Mr. Miyagi \n",
      " \n",
      "\n",
      "Number of characters above 109\n",
      "\n",
      "Cleaned Sentence:\n",
      " No Such Thing As Bad Student Only Bad Teacher Teacher Say Student Do - Mr Miyagi\n",
      "Number of characters above 80\n"
     ]
    }
   ],
   "source": [
    "# Lets see how we compare with the original sentence\n",
    "# run the cell below for a comparison\n",
    "print(f'Original sentence:\\n {sample_sentence}')\n",
    "print(f'Number of characters above {len(sample_sentence)}')\n",
    "print(f'\\nCleaned Sentence:\\n {cleaned_sentence}')\n",
    "print(f'Number of characters above {len(cleaned_sentence)}')"
   ]
  },
  {
   "attachments": {},
   "cell_type": "markdown",
   "metadata": {},
   "source": [
    "## `str.lower()` & `str.upper()`\n",
    "\n",
    "We can even convert all strings to lower case or upper case.\n",
    "This applies to the entire string, i.e.\n",
    "`This iS An annOYYING stRING'.lower()` will result in:\n",
    "`this is an annoyying string`"
   ]
  },
  {
   "cell_type": "code",
   "execution_count": 13,
   "metadata": {},
   "outputs": [
    {
     "name": "stdout",
     "output_type": "stream",
     "text": [
      "no such thing as bad student only bad teacher teacher say student do - mr miyagi\n"
     ]
    }
   ],
   "source": [
    "# Use the `cleaned_sentence` and convert to lowercase\n",
    "lower = cleaned_sentence.lower()\n",
    "print(lower)"
   ]
  },
  {
   "cell_type": "code",
   "execution_count": 14,
   "metadata": {},
   "outputs": [
    {
     "name": "stdout",
     "output_type": "stream",
     "text": [
      "NO SUCH THING AS BAD STUDENT ONLY BAD TEACHER TEACHER SAY STUDENT DO - MR MIYAGI\n"
     ]
    }
   ],
   "source": [
    "# Use the `cleaned_sentence` and convert to uppercase\n",
    "upper = cleaned_sentence.upper()\n",
    "print(upper)"
   ]
  },
  {
   "attachments": {},
   "cell_type": "markdown",
   "metadata": {},
   "source": [
    "## `str.capitalize()`\n",
    "\n",
    "This method converts the first character of a string to capital and converts everything else to lowercase.\n",
    "\n",
    "`'hi MY nAME iS sHivAS'.capitalize()` will result in:\n",
    "`Hi my name is shivas`"
   ]
  },
  {
   "cell_type": "code",
   "execution_count": 15,
   "metadata": {},
   "outputs": [
    {
     "name": "stdout",
     "output_type": "stream",
     "text": [
      "hi MY nAME iS RAHUL KUMAR GUPTA\n",
      "Hi my name is rahul kumar gupta\n"
     ]
    }
   ],
   "source": [
    "# define a new sample string based on the `name` variable defined above`\n",
    "sample_string = f'hi MY nAME iS {name.upper()}'\n",
    "\n",
    "# capitalize the `sample_string` defined above\n",
    "capitalized_string = sample_string.capitalize()\n",
    "\n",
    "# print the two strings\n",
    "print(sample_string)\n",
    "print(capitalized_string)"
   ]
  },
  {
   "attachments": {},
   "cell_type": "markdown",
   "metadata": {},
   "source": [
    "### ⏸ How to capitalize() each word in a string ? \n",
    "\n",
    "How will you convert the string \n",
    "\n",
    "`no such thing as bad student only bad teacher teacher say student do - mr miyagi` \n",
    "\n",
    "to\n",
    "\n",
    "`No Such Thing As Bad Student Only Bad Teacher Teacher Say Student Do - Mr Miyagi`\n",
    "\n",
    "\n",
    "\n",
    "#### A. `\" \".join([i.capitalize() for i in cleaned_sentence.split()])`\n",
    "#### B. `\" \".join([i.capitalize() for i in cleaned_sentence])`\n",
    "#### C. `\" \".join([i for i in cleaned_sentence.split()]).capitalize()`\n",
    "#### D. `\" \".capitalize().join([i for i in cleaned_sentence.split()])`"
   ]
  },
  {
   "cell_type": "code",
   "execution_count": 16,
   "metadata": {},
   "outputs": [],
   "source": [
    "### edTest(test_chow2) ###\n",
    "\n",
    "# Submit an answer choice as a string below \n",
    "#(eg. if you choose option C, put 'C')\n",
    "answer2 = 'A'"
   ]
  }
 ],
 "metadata": {
  "kernelspec": {
   "display_name": "Python 3 (ipykernel)",
   "language": "python",
   "name": "python3"
  },
  "language_info": {
   "codemirror_mode": {
    "name": "ipython",
    "version": 3
   },
   "file_extension": ".py",
   "mimetype": "text/x-python",
   "name": "python",
   "nbconvert_exporter": "python",
   "pygments_lexer": "ipython3",
   "version": "3.9.7"
  }
 },
 "nbformat": 4,
 "nbformat_minor": 4
}
