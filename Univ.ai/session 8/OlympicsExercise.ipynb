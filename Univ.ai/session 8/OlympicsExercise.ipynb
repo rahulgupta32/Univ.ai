{
 "cells": [
  {
   "attachments": {},
   "cell_type": "markdown",
   "id": "39d3c324",
   "metadata": {},
   "source": [
    "## AI0 Olympics : 100m dash\n",
    "We are going to have 4 of our team members compete against each other in the 100m dash."
   ]
  },
  {
   "cell_type": "code",
   "execution_count": 14,
   "id": "4104bdaf",
   "metadata": {},
   "outputs": [
    {
     "data": {
      "text/plain": [
       "<contextlib.ExitStack at 0x7f06cc689970>"
      ]
     },
     "execution_count": 14,
     "metadata": {},
     "output_type": "execute_result"
    }
   ],
   "source": [
    "# Importing libraries\n",
    "import logging\n",
    "logging.getLogger('matplotlib.font_manager').setLevel(logging.ERROR)\n",
    "import numpy as np\n",
    "from time import sleep\n",
    "import os\n",
    "from IPython.display import clear_output\n",
    "from collections import Counter\n",
    "import numpy as np\n",
    "from IPython.display import clear_output\n",
    "from time import sleep\n",
    "import matplotlib.pyplot as plt\n",
    "from prettytable import PrettyTable\n",
    "plt.xkcd(scale=0,randomness=4)"
   ]
  },
  {
   "cell_type": "code",
   "execution_count": 15,
   "id": "643d719c",
   "metadata": {},
   "outputs": [],
   "source": [
    "# Helper code\n",
    "class Sprinter:\n",
    "    \n",
    "    def __init__(self,base_speed,variance):\n",
    "        self.base_speed = base_speed\n",
    "        self.variance = variance\n",
    "    \n",
    "    @property\n",
    "    def time(self):\n",
    "        return np.random.normal(loc= self.base_speed,scale=self.variance)\n",
    "\n",
    "def run_sim(race,winner, time):\n",
    "    for i in range(1,11):\n",
    "        clear_output(wait=True)\n",
    "        print(\"|START|\"+\"\\n|START|\".join(['----'*min(10,int((15*i)/race[runner]))+ '    '*(10-min(10,int((15*i)/race[runner])))+'|'+runner for runner in race.keys()]))\n",
    "        sleep(0.5)\n",
    "    \n",
    "    print(f'\\nThe winner is {winner} with a time of {time:.2f}s!')   "
   ]
  },
  {
   "attachments": {},
   "cell_type": "markdown",
   "id": "b6e5e7cd",
   "metadata": {},
   "source": [
    "## Taking a look at the competitors\n",
    "Each participant has a characteristic assigned to him. The characteristic has 2 parts :\n",
    "\n",
    "1. Base speed : This is the time they gave in a non-competitive environment.\n",
    "2. Performance variance : Based on the mood, weather and other conditions this measure determines how much a participant's time will vary."
   ]
  },
  {
   "cell_type": "code",
   "execution_count": 16,
   "id": "0abe7d3a",
   "metadata": {},
   "outputs": [],
   "source": [
    "# Name of sprinters\n",
    "sprinters = ['Pavlos','Shivas','Sheetal','Nawang']\n",
    "\n",
    "# Defining charactersistics, ('Base pace','performance variance')\n",
    "characteristics = [(13,0.25),(12.5,0.5),(12.25,1),(14.5,1)]\n",
    "sprinters_dict = {}\n",
    "for idx,sprinter in enumerate(sprinters):\n",
    "    sprinters_dict[sprinter] = Sprinter(*characteristics[idx])"
   ]
  },
  {
   "attachments": {},
   "cell_type": "markdown",
   "id": "75bb8ca2",
   "metadata": {},
   "source": [
    "## Running a race\n",
    "`sprinters_dict` has keys as the name of each participant, and the value as a class. The `time` attribute of the class is the time taken by that person to run a race. \n",
    "- Call `sprinters_dict['Pavlos'].time` for 10 different times. (Run the code block 10 times)"
   ]
  },
  {
   "cell_type": "code",
   "execution_count": 17,
   "id": "dfe885a8",
   "metadata": {},
   "outputs": [
    {
     "name": "stdout",
     "output_type": "stream",
     "text": [
      "Time taken by Pavlos in race 1: 12.86s\n",
      "Time taken by Pavlos in race 2: 13.31s\n",
      "Time taken by Pavlos in race 3: 12.77s\n",
      "Time taken by Pavlos in race 4: 13.32s\n",
      "Time taken by Pavlos in race 5: 13.07s\n",
      "Time taken by Pavlos in race 6: 12.90s\n",
      "Time taken by Pavlos in race 7: 13.44s\n",
      "Time taken by Pavlos in race 8: 12.96s\n",
      "Time taken by Pavlos in race 9: 13.57s\n",
      "Time taken by Pavlos in race 10: 12.93s\n"
     ]
    }
   ],
   "source": [
    "# Call time attribute\n",
    "for i in range(10):\n",
    "    pavlos_time = sprinters_dict['Pavlos'].time\n",
    "    print(f'Time taken by Pavlos in race {i + 1}: {pavlos_time:.2f}s')"
   ]
  },
  {
   "attachments": {},
   "cell_type": "markdown",
   "id": "17bb33fc",
   "metadata": {},
   "source": [
    "## ⏸ Pause & Think\n",
    "Run the cell above, once again. What do you observe?\n",
    "\n",
    "A. Output is different because the python compile memory location has changed\n",
    "\n",
    "B. Output is the same\n",
    "\n",
    "C. Output changes because it is a new sample from random process"
   ]
  },
  {
   "cell_type": "code",
   "execution_count": 18,
   "id": "aa2ccd52",
   "metadata": {},
   "outputs": [],
   "source": [
    "### edTest(test_chow0) ###\n",
    "\n",
    "# Submit an answer choice as a string below (eg. if you choose option A put 'A')\n",
    "\n",
    "answer = 'C'"
   ]
  },
  {
   "attachments": {},
   "cell_type": "markdown",
   "id": "678eeb81",
   "metadata": {},
   "source": [
    "- Get the times for each participant by calling the `time` attribute and create a dictionary called `race`, which has the key as the name of the participant and value as the time taken by participant to run the race.\n",
    "- Sort `race.items()` according to time and get the item in dictionary with the least time taken to finish and assign it to `winner`. "
   ]
  },
  {
   "cell_type": "code",
   "execution_count": 20,
   "id": "2ab83128",
   "metadata": {},
   "outputs": [],
   "source": [
    "### edTest(test_race) ###\n",
    "\n",
    "# Get the times for each participant and make a dictionary\n",
    "race = {name: sprinter.time for name, sprinter in sprinters_dict.items()}\n",
    "# Then sort the items of the dictionary to get the winner\n",
    "sorted_race = sorted(race.items(), key=lambda x: x[1])\n",
    "# Hint: Remember to sort by the values and not the keys\n",
    "winner = sorted_race[0]"
   ]
  },
  {
   "attachments": {},
   "cell_type": "markdown",
   "id": "d67fc5b6",
   "metadata": {},
   "source": [
    "## Race simulation\n",
    "\n",
    "As you would have noticed, every time you make a new dictionary `race`, the results would differ.\n",
    "\n",
    "Redefine the `race` dictionary, and run the cell below for a simulation of the race! "
   ]
  },
  {
   "cell_type": "code",
   "execution_count": 21,
   "id": "c6da8773",
   "metadata": {},
   "outputs": [],
   "source": [
    "# Again get the times for each participant and make a dictionary\n",
    "race = {name: sprinter.time for name, sprinter in sprinters_dict.items()}\n",
    "# Then sort the items of the dictionary to get the winner and time\n",
    "sorted_race = sorted(race.items(), key=lambda x: x[1])\n",
    "winner, time =  sorted_race[0]\n",
    "\n",
    "# Uncomment and execute the following code\n",
    "# run_sim(race,winner, time)"
   ]
  },
  {
   "attachments": {},
   "cell_type": "markdown",
   "id": "cb73d9ab",
   "metadata": {},
   "source": [
    "## Multiple simulations\n",
    "Earlier was just one race, we want to find out who performs better over multiple races. So let's run the race 5 times\n",
    "\n",
    "- Run a loop for 5 times\n",
    "- In each loop generate the race dictionary as done earlier, and get the winner after sorting `race.items()`\n",
    "- Append name of the winners to the `winner_list`"
   ]
  },
  {
   "attachments": {},
   "cell_type": "markdown",
   "id": "4a445bfa",
   "metadata": {},
   "source": [
    "Keep track of everyone's timings"
   ]
  },
  {
   "cell_type": "code",
   "execution_count": 24,
   "id": "62ffb93b",
   "metadata": {},
   "outputs": [
    {
     "name": "stdout",
     "output_type": "stream",
     "text": [
      "['Shivas', 'Sheetal', 'Nawang', 'Sheetal', 'Shivas']\n"
     ]
    }
   ],
   "source": [
    "# Run the simulation and append winners to the winner_list\n",
    "# Create an empty list\n",
    "winner_list = []\n",
    "# Run a simulation for 5 loops\n",
    "for simulation in range(5):\n",
    "    # Get the times for each participant and create the race dictionary\n",
    "    race = {name: sprinter.time for name, sprinter in sprinters_dict.items()}\n",
    "    \n",
    "    # Sort the items of the dictionary by values (race times)\n",
    "    sorted_race = sorted(race.items(), key=lambda x: x[1])\n",
    "    \n",
    "    # Get the winner (the item with the least time taken to finish)\n",
    "    winner, time = sorted_race[0]\n",
    "    \n",
    "    # Append the name of the winner to the winner_list\n",
    "    winner_list.append(winner)\n",
    "    \n",
    "print(winner_list)\n"
   ]
  },
  {
   "attachments": {},
   "cell_type": "markdown",
   "id": "757e657d",
   "metadata": {},
   "source": [
    "### Even more simulations\n",
    "\n",
    "We will run 10,000 simulations and use the `Counter` to see who wins how many times.\n",
    "\n",
    "Check the hints for how to use `Counter()`."
   ]
  },
  {
   "cell_type": "code",
   "execution_count": 25,
   "id": "770d65a8",
   "metadata": {},
   "outputs": [
    {
     "data": {
      "text/plain": [
       "[('Sheetal', 5678), ('Shivas', 3664), ('Pavlos', 512), ('Nawang', 146)]"
      ]
     },
     "execution_count": 25,
     "metadata": {},
     "output_type": "execute_result"
    }
   ],
   "source": [
    "# Run the simulation and append winners to the winner_list\n",
    "# Create an empty list\n",
    "winner_list = []\n",
    "# Run a simulation for 10,000 loops\n",
    "for simulation in range(10000):\n",
    "    # Get the times for each participant and create the race dictionary\n",
    "    race = {name: sprinter.time for name, sprinter in sprinters_dict.items()}\n",
    "    \n",
    "    # Sort the items of the dictionary by values (race times)\n",
    "    sorted_race = sorted(race.items(), key=lambda x: x[1])\n",
    "    \n",
    "    # Get the winner (the item with the least time taken to finish)\n",
    "    winner, time = sorted_race[0]\n",
    "    \n",
    "    # Append the name of the winner to the winner_list\n",
    "    winner_list.append(winner)\n",
    "    \n",
    "    # Use Counter to count how many times each participant wins\n",
    "winner_counts = Counter(winner_list)\n",
    "    \n",
    "# Display first 5 entries from winner_list\n",
    "top_winners = winner_counts.most_common(5)\n",
    "top_winners"
   ]
  },
  {
   "cell_type": "code",
   "execution_count": 26,
   "id": "f3eedce2",
   "metadata": {},
   "outputs": [
    {
     "name": "stdout",
     "output_type": "stream",
     "text": [
      "Counter({'Sheetal': 5678, 'Shivas': 3664, 'Pavlos': 512, 'Nawang': 146})\n"
     ]
    }
   ],
   "source": [
    "### edTest(test_wins) ###\n",
    "from collections import Counter\n",
    "# Get the counts for each person winning the race\n",
    "wins = Counter(winner_list)\n",
    "\n",
    "# Print wins to see the output of the simulation\n",
    "print(wins)\n"
   ]
  },
  {
   "cell_type": "code",
   "execution_count": 27,
   "id": "0b77fc14",
   "metadata": {},
   "outputs": [
    {
     "data": {
      "image/png": "[encoded data removed]",
      "text/plain": [
       "<Figure size 640x480 with 1 Axes>"
      ]
     },
     "metadata": {},
     "output_type": "display_data"
    }
   ],
   "source": [
    "# Execute the code\n",
    "plt.bar(list(wins.keys()),list(wins.values()),alpha=0.5)\n",
    "plt.xlabel('Sprinters')\n",
    "plt.ylabel('Race wins',rotation=90,labelpad=30)\n",
    "plt.tight_layout()\n",
    "plt.show()"
   ]
  },
  {
   "attachments": {},
   "cell_type": "markdown",
   "id": "35e41c16",
   "metadata": {},
   "source": [
    "## Why is Sheetal winning so much ?\n",
    "\n",
    "Let us analyze why exactly is Sheetal winning so frequently in our simulations.\n",
    "But first, we will need to record the sprint timings for each sprinter in every simulation."
   ]
  },
  {
   "attachments": {},
   "cell_type": "markdown",
   "id": "063e04f4",
   "metadata": {},
   "source": [
    "We will again run 10,000 simulations but this time record the individual sprint timings for each simulation instead.\n",
    "\n",
    "- Make a new dictionary `race_results` with keys as the name of sprinters and the value as an empty list. We will append race results to this list after each simulation.\n",
    "- Run a simulation loop for 10000 times\n",
    "- In each simulation loop over `sprinters_dict.items()` and for each participant:\n",
    "    - Calculate time by calling `.time` \n",
    "    - `append` time to the list for particular key of `race_results`"
   ]
  },
  {
   "cell_type": "code",
   "execution_count": 28,
   "id": "a9e25cd8",
   "metadata": {},
   "outputs": [],
   "source": [
    "# Run the earlier simulation loop for 10000 times\n",
    "# Loop over the sprinters_dict items and for each participant\n",
    "# Call time and append to the corresponding list in race_results\n",
    "\n",
    "race_results = {name: [] for name in sprinters_dict.keys()}\n",
    "for simulation in range(10000):\n",
    "    for sprinter, sample_run in sprinters_dict.items():\n",
    "        # For a given participant, call the .time attribute to get sprint timing\n",
    "        sprint_timing = sample_run.time\n",
    "        \n",
    "        # Append the sprint_timing to the corresponding list in race_results\n",
    "        race_results[sprinter].append(sprint_timing)\n",
    "\n",
    "      "
   ]
  },
  {
   "attachments": {},
   "cell_type": "markdown",
   "id": "3b7001ba",
   "metadata": {},
   "source": [
    "### Sample mean $\\bar{x}$ sample standard deviation $s$\n",
    "\n",
    "\n",
    "Now we have a list of times given by each participant. We have the complete distribution, so let's calculate the mean, standard deviation and confidence interval.\n",
    "\n",
    "As discussed in the lecture, if we have a given sample, we can quickly compute the mean and standard deviation using `np.mean()` and `np.std()`.\n",
    "\n",
    "Let's begin with the race results for `Pavlos`."
   ]
  },
  {
   "cell_type": "code",
   "execution_count": 29,
   "id": "df6d261a",
   "metadata": {},
   "outputs": [
    {
     "name": "stdout",
     "output_type": "stream",
     "text": [
      "The average pace of Pavlos is 13.00 and the sample std is 0.250525\n"
     ]
    }
   ],
   "source": [
    "# Using the race_results dictionary, find the mean\n",
    "# and std for 'Pavlos'\n",
    "\n",
    "pavlos_mean = np.mean(race_results['Pavlos'])\n",
    "pavlos_std = np.std(race_results['Pavlos'])\n",
    "print(f'The average pace of Pavlos is {pavlos_mean:.2f} and the sample std is {pavlos_std:2f}')"
   ]
  },
  {
   "attachments": {},
   "cell_type": "markdown",
   "id": "f05b2472",
   "metadata": {},
   "source": [
    "### Sample mean $\\bar{x}$ sample standard deviation $s$ for all sprinters\n",
    "\n",
    "For each sprinter in the `race_results` dicitionary, find the mean and standard deviation of the 10,000 simulations using the `np.mean()` and `np.std()` functions.\n",
    "\n",
    "Store your findings in a new dictionary called `race_stats`."
   ]
  },
  {
   "cell_type": "code",
   "execution_count": 30,
   "id": "de06500d",
   "metadata": {},
   "outputs": [],
   "source": [
    "# Calculate mean and std of each participant\n",
    "\n",
    "\n",
    "# Initialize an empty dictionary\n",
    "race_stats = {}\n",
    "# Loop over race_results.keys()\n",
    "for sprinter in race_results.keys():\n",
    "    # Calculate mean and standard deviation for the participant\n",
    "    sprinter_mean = np.mean(race_results[sprinter])\n",
    "    sprinter_std = np.std(race_results[sprinter])\n",
    "    \n",
    "    # Store the results as a list [mean, std] in race_stats\n",
    "    race_stats[sprinter] = [sprinter_mean, sprinter_std]"
   ]
  },
  {
   "cell_type": "code",
   "execution_count": 31,
   "id": "28d0d3c0",
   "metadata": {},
   "outputs": [
    {
     "name": "stdout",
     "output_type": "stream",
     "text": [
      "+----------+-------------+------------+\n",
      "| Sprinter | Sample mean | Sample std |\n",
      "+----------+-------------+------------+\n",
      "|  Pavlos  |    13.002   |   0.251    |\n",
      "|  Shivas  |    12.496   |   0.502    |\n",
      "| Sheetal  |    12.249   |   1.001    |\n",
      "|  Nawang  |    14.487   |   1.012    |\n",
      "+----------+-------------+------------+\n"
     ]
    }
   ],
   "source": [
    "# Use the helper code below to print your findings\n",
    "pt = PrettyTable()\n",
    "\n",
    "pt.field_names = [\"Sprinter\", \"Sample mean\", \"Sample std\"]\n",
    "\n",
    "for sprinter,stats in race_stats.items():\n",
    "    pt.add_row([sprinter, round(stats[0],3),round(stats[1],3)])\n",
    "\n",
    "print(pt)"
   ]
  },
  {
   "attachments": {},
   "cell_type": "markdown",
   "id": "90908491",
   "metadata": {},
   "source": [
    "### Confidence Interval\n",
    "Confidence interval is the range of values for which we can claim a certain confidence level(95% mostly). The confidence interval represents values for the population parameter for which the difference between the parameter and the observed estimate is not significant at the 5% level.\n",
    "\n",
    "- Calculate the 95% CI by getting `np.percentile` at 2.5 and 97.5.\n",
    "- Calculate and append these to the list of stats in the `race_stats` dictionary, for each participant"
   ]
  },
  {
   "cell_type": "code",
   "execution_count": 32,
   "id": "54f89918",
   "metadata": {},
   "outputs": [
    {
     "name": "stdout",
     "output_type": "stream",
     "text": [
      "The 95% confidence interval for Pavlos is 12.51 - 13.49\n",
      "The 95% confidence interval for Shivas is 11.51 - 13.49\n",
      "The 95% confidence interval for Sheetal is 10.27 - 14.19\n",
      "The 95% confidence interval for Nawang is 12.49 - 16.5\n"
     ]
    }
   ],
   "source": [
    "# By using the race_results dictionary defined above,\n",
    "# Find the 2.5 and 97.5 percentile of Shivas' race runs.\n",
    "# Hint : Use race_results['Shivas']\n",
    "for sprinter in race_results.keys():\n",
    "    # Calculate the 95% CI using np.percentile for the participant's race runs\n",
    "    CI = np.percentile(race_results[sprinter], [2.5, 97.5])\n",
    "    \n",
    "    # Append the CI values to the list of stats in the race_stats dictionary\n",
    "    race_stats[sprinter].append(CI)\n",
    "\n",
    "    # Print the 95% CI for the participant\n",
    "    print(f'The 95% confidence interval for {sprinter} is {round(CI[0], 2)} - {round(CI[1], 2)}')"
   ]
  },
  {
   "attachments": {},
   "cell_type": "markdown",
   "id": "e4f7b790",
   "metadata": {},
   "source": [
    "### Confidence intervals for all sprinters.\n",
    "\n",
    "Let's repeat the above for each sprinter.\n",
    "You will add this information to your `race_stats` dictionary.\n",
    "\n",
    "We expect you to extend stats list with the $2.5$ and the $97.5$ percentile values for each sprinter.\n",
    "\n",
    "For e.g., if for `Pavlos`, we have `mean=13.00`, `std=0.1`, and CI as `(12.8,13.2)`, your `race_stats['Pavlos']` must look like: `[13.00,0.1,12.8,13.2]`."
   ]
  },
  {
   "cell_type": "code",
   "execution_count": 33,
   "id": "6f7b8883",
   "metadata": {},
   "outputs": [],
   "source": [
    "# Now lets repeat the same, but for every sprinter\n",
    "# run through the race_results dictionary for each sprinter\n",
    "# find the confidence interval, and add it to the race_stats dictionary \n",
    "# defined above\n",
    "\n",
    "for sprinter,runs in race_results.items():\n",
    "    # Calculate the mean, std, and CI for the participant's race runs\n",
    "    sprinter_mean = np.mean(runs)\n",
    "    sprinter_std = np.std(runs)\n",
    "    CI = np.percentile(runs, [2.5, 97.5])\n",
    "    \n",
    "    # Extend the existing list of stats for the sprinter in race_stats\n",
    "    race_stats[sprinter].extend([sprinter_mean, sprinter_std, CI[0], CI[1]])"
   ]
  },
  {
   "cell_type": "code",
   "execution_count": 16,
   "id": "975286c9",
   "metadata": {},
   "outputs": [],
   "source": [
    "# Use the helper code below to print your findings\n",
    "pt = PrettyTable()\n",
    "\n",
    "pt.field_names = [\"Sprinter\", \"Sample mean\", \"Sample std\",\"95% CI\"]\n",
    "\n",
    "for sprinter,stats in race_stats.items():\n",
    "    mean = round(stats[0],3)\n",
    "    std = round(stats[1],3)\n",
    "    confidence_interval = (round(stats[2],3),round(stats[3],3))\n",
    "    pt.add_row([sprinter, mean,std,confidence_interval])\n",
    "\n",
    "print(pt)"
   ]
  },
  {
   "attachments": {},
   "cell_type": "markdown",
   "id": "f9993ab5",
   "metadata": {},
   "source": [
    "## Histogram plot for each sprinter\n",
    "\n",
    "Run the following cell to get a cool plot for distribution of times."
   ]
  },
  {
   "cell_type": "code",
   "execution_count": 34,
   "id": "186c6067",
   "metadata": {},
   "outputs": [
    {
     "data": {
      "image/png": "[encoded data removed]",
      "text/plain": [
       "<Figure size 1000x600 with 1 Axes>"
      ]
     },
     "metadata": {},
     "output_type": "display_data"
    }
   ],
   "source": [
    "# Execute the code below\n",
    "# Ignore the contents of the code for now\n",
    "\n",
    "fig = plt.gcf()\n",
    "fig.set_size_inches(10,6)\n",
    "bins = np.linspace(10, 17, 50)\n",
    "\n",
    "for sprinter,runs in race_results.items():\n",
    "    height, bins, patches = plt.hist(runs, bins, alpha=0.5, \\\n",
    "                            label=sprinter,density=True,edgecolor='k')\n",
    "    plt.fill_betweenx([0, height.max()], race_stats[sprinter][2], race_stats[sprinter][3], alpha=0.2)\n",
    "plt.legend(loc='upper left',fontsize=16)\n",
    "plt.xlabel('Seconds')\n",
    "plt.ylabel('Frequency',rotation=90,labelpad=25)\n",
    "ax = plt.gca()\n",
    "ax.spines['right'].set_visible(False)\n",
    "ax.spines['top'].set_visible(False)\n",
    "ax.set_title('Time distribution for sprinters')\n",
    "plt.tight_layout()\n",
    "plt.show()"
   ]
  },
  {
   "attachments": {},
   "cell_type": "markdown",
   "id": "54b95f3e",
   "metadata": {},
   "source": [
    "## ⏸ Pause & Think\n",
    "\n",
    "Take a look at the histograms for each participant and comment on why do you think is Sheetal winning more races?"
   ]
  },
  {
   "cell_type": "code",
   "execution_count": 35,
   "id": "ffb31e8f",
   "metadata": {},
   "outputs": [],
   "source": [
    "### edTest(test_chow1) ###\n",
    "\n",
    "# Write your answer as a string below\n",
    "\n",
    "answer=\"Sheetal consistently finishes races faster than other competitors, as evidenced by the histogram, which displays that she has a lower time distribution. This can be as a result of her better speed, technique, or performance consistency.\""
   ]
  },
  {
   "attachments": {},
   "cell_type": "markdown",
   "id": "28a2523c",
   "metadata": {},
   "source": [
    "## ⏸ Pause & Think\n",
    "What **one parameter** should Shivas change in order to win more races?\n",
    "\n",
    "**Note : Pick one that is most influential**\n",
    "\n",
    "A. Improve consistency\n",
    "\n",
    "B. Reduce base time\n",
    "\n",
    "C. Increase base time\n",
    "\n",
    "D. Relax and hydrate before the race"
   ]
  },
  {
   "cell_type": "code",
   "execution_count": 36,
   "id": "ad2be259",
   "metadata": {},
   "outputs": [],
   "source": [
    "### edTest(test_chow2) ###\n",
    "\n",
    "# Submit an answer choice as a string below (eg. if you choose option A put 'A')\n",
    "\n",
    "answer = 'B'"
   ]
  },
  {
   "cell_type": "markdown",
   "id": "6f2dd76e",
   "metadata": {},
   "source": [
    "#### Before you click 'submit', please comment out the run_sim function above"
   ]
  },
  {
   "attachments": {},
   "cell_type": "markdown",
   "id": "53c5a689",
   "metadata": {},
   "source": [
    "## 👩🏻‍🎓 Bonus (Not graded)\n",
    "\n",
    "Find out who among has would have the most podium finishes (top 3)."
   ]
  },
  {
   "cell_type": "code",
   "execution_count": 18,
   "id": "9df76520",
   "metadata": {},
   "outputs": [],
   "source": [
    "# Your code here"
   ]
  }
 ],
 "metadata": {
  "kernelspec": {
   "display_name": "Python 3 (ipykernel)",
   "language": "python",
   "name": "python3"
  },
  "language_info": {
   "codemirror_mode": {
    "name": "ipython",
    "version": 3
   },
   "file_extension": ".py",
   "mimetype": "text/x-python",
   "name": "python",
   "nbconvert_exporter": "python",
   "pygments_lexer": "ipython3",
   "version": "3.9.7"
  }
 },
 "nbformat": 4,
 "nbformat_minor": 5
}
