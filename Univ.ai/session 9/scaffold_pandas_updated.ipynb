{
 "cells": [
  {
   "cell_type": "code",
   "execution_count": 3,
   "metadata": {},
   "outputs": [],
   "source": [
    "import pandas as pd"
   ]
  },
  {
   "cell_type": "code",
   "execution_count": 4,
   "metadata": {},
   "outputs": [],
   "source": [
    "# Use the pd.read_csv() method to load a dataframe\n",
    "# We can load .csv files, but also .zip files which contain .csv files\n",
    "# Load the file 'mini_cast.zip'\n",
    "df = pd.read_csv('mini_cast.zip') \n"
   ]
  },
  {
   "cell_type": "code",
   "execution_count": 5,
   "metadata": {},
   "outputs": [
    {
     "data": {
      "text/html": [
       "<div>\n",
       "<style scoped>\n",
       "    .dataframe tbody tr th:only-of-type {\n",
       "        vertical-align: middle;\n",
       "    }\n",
       "\n",
       "    .dataframe tbody tr th {\n",
       "        vertical-align: top;\n",
       "    }\n",
       "\n",
       "    .dataframe thead th {\n",
       "        text-align: right;\n",
       "    }\n",
       "</style>\n",
       "<table border=\"1\" class=\"dataframe\">\n",
       "  <thead>\n",
       "    <tr style=\"text-align: right;\">\n",
       "      <th></th>\n",
       "      <th>title</th>\n",
       "      <th>year</th>\n",
       "      <th>name</th>\n",
       "      <th>type</th>\n",
       "      <th>character</th>\n",
       "      <th>n</th>\n",
       "    </tr>\n",
       "  </thead>\n",
       "  <tbody>\n",
       "    <tr>\n",
       "      <th>0</th>\n",
       "      <td>Demony wojny wedlug Goi</td>\n",
       "      <td>1998</td>\n",
       "      <td>Olaf Lubaszenko</td>\n",
       "      <td>actor</td>\n",
       "      <td>Lt. Czacki</td>\n",
       "      <td>6.0</td>\n",
       "    </tr>\n",
       "    <tr>\n",
       "      <th>1</th>\n",
       "      <td>Boone: The Bounty Hunter</td>\n",
       "      <td>2017</td>\n",
       "      <td>Osric Chau</td>\n",
       "      <td>actor</td>\n",
       "      <td>Denny</td>\n",
       "      <td>2.0</td>\n",
       "    </tr>\n",
       "    <tr>\n",
       "      <th>2</th>\n",
       "      <td>Lang ist es her...</td>\n",
       "      <td>1931</td>\n",
       "      <td>Renee May</td>\n",
       "      <td>actor</td>\n",
       "      <td>Reserl, ihre Tochter</td>\n",
       "      <td>2.0</td>\n",
       "    </tr>\n",
       "    <tr>\n",
       "      <th>3</th>\n",
       "      <td>Miss Malini</td>\n",
       "      <td>1947</td>\n",
       "      <td>Javar Seetharaman</td>\n",
       "      <td>actor</td>\n",
       "      <td>Director of Kala Mandhiram</td>\n",
       "      <td>NaN</td>\n",
       "    </tr>\n",
       "    <tr>\n",
       "      <th>4</th>\n",
       "      <td>American Wrestler: The Wizard</td>\n",
       "      <td>2016</td>\n",
       "      <td>Daniel (XIII) Pacheco</td>\n",
       "      <td>actor</td>\n",
       "      <td>East Petaluma Wrestler</td>\n",
       "      <td>34.0</td>\n",
       "    </tr>\n",
       "    <tr>\n",
       "      <th>5</th>\n",
       "      <td>Bad boy dak gung</td>\n",
       "      <td>2000</td>\n",
       "      <td>Blackie Shou Liang Ko</td>\n",
       "      <td>actor</td>\n",
       "      <td>Dark Tung</td>\n",
       "      <td>8.0</td>\n",
       "    </tr>\n",
       "    <tr>\n",
       "      <th>6</th>\n",
       "      <td>Excuses!</td>\n",
       "      <td>2003</td>\n",
       "      <td>Mar Colàs</td>\n",
       "      <td>actress</td>\n",
       "      <td>Verònica</td>\n",
       "      <td>6.0</td>\n",
       "    </tr>\n",
       "    <tr>\n",
       "      <th>7</th>\n",
       "      <td>Alan &amp; Naomi</td>\n",
       "      <td>1992</td>\n",
       "      <td>Michael Gross</td>\n",
       "      <td>actor</td>\n",
       "      <td>Sol Silverman</td>\n",
       "      <td>3.0</td>\n",
       "    </tr>\n",
       "    <tr>\n",
       "      <th>8</th>\n",
       "      <td>10 jours en or</td>\n",
       "      <td>2012</td>\n",
       "      <td>Alain Buron</td>\n",
       "      <td>actor</td>\n",
       "      <td>Chef de rayon supermarché</td>\n",
       "      <td>18.0</td>\n",
       "    </tr>\n",
       "    <tr>\n",
       "      <th>9</th>\n",
       "      <td>Guest iin London</td>\n",
       "      <td>2017</td>\n",
       "      <td>Moe Bilal</td>\n",
       "      <td>actor</td>\n",
       "      <td>Funeral Ward Man</td>\n",
       "      <td>NaN</td>\n",
       "    </tr>\n",
       "    <tr>\n",
       "      <th>10</th>\n",
       "      <td>The Girls' Room</td>\n",
       "      <td>2000</td>\n",
       "      <td>Lela Lee</td>\n",
       "      <td>actress</td>\n",
       "      <td>Chloe</td>\n",
       "      <td>10.0</td>\n",
       "    </tr>\n",
       "    <tr>\n",
       "      <th>11</th>\n",
       "      <td>Yankee Doodle in Berlin</td>\n",
       "      <td>1919</td>\n",
       "      <td>Harry Gribbon</td>\n",
       "      <td>actor</td>\n",
       "      <td>German Guard</td>\n",
       "      <td>NaN</td>\n",
       "    </tr>\n",
       "    <tr>\n",
       "      <th>12</th>\n",
       "      <td>The Forbidden Note</td>\n",
       "      <td>2016</td>\n",
       "      <td>Paul (X) Johnston</td>\n",
       "      <td>actor</td>\n",
       "      <td>Benzarts Youth Gang</td>\n",
       "      <td>36.0</td>\n",
       "    </tr>\n",
       "    <tr>\n",
       "      <th>13</th>\n",
       "      <td>Buddy Solitaire</td>\n",
       "      <td>2016</td>\n",
       "      <td>Shawn Cahill</td>\n",
       "      <td>actor</td>\n",
       "      <td>Monk</td>\n",
       "      <td>NaN</td>\n",
       "    </tr>\n",
       "    <tr>\n",
       "      <th>14</th>\n",
       "      <td>Unhinged (V)</td>\n",
       "      <td>2017</td>\n",
       "      <td>Julie (VII) Richardson</td>\n",
       "      <td>actress</td>\n",
       "      <td>Estelle</td>\n",
       "      <td>NaN</td>\n",
       "    </tr>\n",
       "    <tr>\n",
       "      <th>15</th>\n",
       "      <td>Crossroads</td>\n",
       "      <td>2014</td>\n",
       "      <td>Kari Nissena</td>\n",
       "      <td>actress</td>\n",
       "      <td>Laura</td>\n",
       "      <td>NaN</td>\n",
       "    </tr>\n",
       "    <tr>\n",
       "      <th>16</th>\n",
       "      <td>Small Town Saturday Night</td>\n",
       "      <td>2010</td>\n",
       "      <td>Perry Anzilotti</td>\n",
       "      <td>actor</td>\n",
       "      <td>Claude Cline</td>\n",
       "      <td>25.0</td>\n",
       "    </tr>\n",
       "    <tr>\n",
       "      <th>17</th>\n",
       "      <td>While London Sleeps</td>\n",
       "      <td>1926</td>\n",
       "      <td>Carl Stockdale</td>\n",
       "      <td>actor</td>\n",
       "      <td>Stokes</td>\n",
       "      <td>8.0</td>\n",
       "    </tr>\n",
       "    <tr>\n",
       "      <th>18</th>\n",
       "      <td>The Harvest Project</td>\n",
       "      <td>2008</td>\n",
       "      <td>Edan Armstrong</td>\n",
       "      <td>actor</td>\n",
       "      <td>Male cadaver</td>\n",
       "      <td>33.0</td>\n",
       "    </tr>\n",
       "    <tr>\n",
       "      <th>19</th>\n",
       "      <td>DisOrientation</td>\n",
       "      <td>2012</td>\n",
       "      <td>David (XLII) Scott</td>\n",
       "      <td>actor</td>\n",
       "      <td>Officer Kosar</td>\n",
       "      <td>NaN</td>\n",
       "    </tr>\n",
       "  </tbody>\n",
       "</table>\n",
       "</div>"
      ],
      "text/plain": [
       "                            title  year                    name     type  \\\n",
       "0         Demony wojny wedlug Goi  1998         Olaf Lubaszenko    actor   \n",
       "1        Boone: The Bounty Hunter  2017              Osric Chau    actor   \n",
       "2              Lang ist es her...  1931               Renee May    actor   \n",
       "3                     Miss Malini  1947       Javar Seetharaman    actor   \n",
       "4   American Wrestler: The Wizard  2016   Daniel (XIII) Pacheco    actor   \n",
       "5                Bad boy dak gung  2000   Blackie Shou Liang Ko    actor   \n",
       "6                        Excuses!  2003               Mar Colàs  actress   \n",
       "7                    Alan & Naomi  1992           Michael Gross    actor   \n",
       "8                  10 jours en or  2012             Alain Buron    actor   \n",
       "9                Guest iin London  2017               Moe Bilal    actor   \n",
       "10                The Girls' Room  2000                Lela Lee  actress   \n",
       "11        Yankee Doodle in Berlin  1919           Harry Gribbon    actor   \n",
       "12             The Forbidden Note  2016       Paul (X) Johnston    actor   \n",
       "13                Buddy Solitaire  2016            Shawn Cahill    actor   \n",
       "14                   Unhinged (V)  2017  Julie (VII) Richardson  actress   \n",
       "15                     Crossroads  2014            Kari Nissena  actress   \n",
       "16      Small Town Saturday Night  2010         Perry Anzilotti    actor   \n",
       "17            While London Sleeps  1926          Carl Stockdale    actor   \n",
       "18            The Harvest Project  2008          Edan Armstrong    actor   \n",
       "19                 DisOrientation  2012      David (XLII) Scott    actor   \n",
       "\n",
       "                     character     n  \n",
       "0                   Lt. Czacki   6.0  \n",
       "1                        Denny   2.0  \n",
       "2         Reserl, ihre Tochter   2.0  \n",
       "3   Director of Kala Mandhiram   NaN  \n",
       "4       East Petaluma Wrestler  34.0  \n",
       "5                    Dark Tung   8.0  \n",
       "6                     Verònica   6.0  \n",
       "7                Sol Silverman   3.0  \n",
       "8    Chef de rayon supermarché  18.0  \n",
       "9             Funeral Ward Man   NaN  \n",
       "10                       Chloe  10.0  \n",
       "11                German Guard   NaN  \n",
       "12         Benzarts Youth Gang  36.0  \n",
       "13                        Monk   NaN  \n",
       "14                     Estelle   NaN  \n",
       "15                       Laura   NaN  \n",
       "16                Claude Cline  25.0  \n",
       "17                      Stokes   8.0  \n",
       "18                Male cadaver  33.0  \n",
       "19               Officer Kosar   NaN  "
      ]
     },
     "execution_count": 5,
     "metadata": {},
     "output_type": "execute_result"
    }
   ],
   "source": [
    "# Take a quick look at the first twenty entries of the dataframe\n",
    "df.head(20)"
   ]
  },
  {
   "cell_type": "code",
   "execution_count": 6,
   "metadata": {},
   "outputs": [
    {
     "name": "stdout",
     "output_type": "stream",
     "text": [
      "172145\n"
     ]
    }
   ],
   "source": [
    "### edTest(test_entries) ###\n",
    "# The len() function can be used to see the number of rows in your dataframe\n",
    "# find the number of rows in the original dataframe\n",
    "entries = len(df)\n",
    "print(entries)"
   ]
  },
  {
   "cell_type": "code",
   "execution_count": 7,
   "metadata": {},
   "outputs": [
    {
     "name": "stdout",
     "output_type": "stream",
     "text": [
      "(172145, 6)\n"
     ]
    }
   ],
   "source": [
    "# .shape gives the total number of rows and columns\n",
    "# Check the shape of the original dataframe\n",
    "shape = df.shape\n",
    "print(shape)"
   ]
  },
  {
   "cell_type": "code",
   "execution_count": 8,
   "metadata": {},
   "outputs": [
    {
     "name": "stdout",
     "output_type": "stream",
     "text": [
      "Index(['title', 'year', 'name', 'type', 'character', 'n'], dtype='object')\n"
     ]
    }
   ],
   "source": [
    "# Use .columns to see the columns in the dataframe\n",
    "cols = df.columns\n",
    "print(cols)"
   ]
  },
  {
   "cell_type": "code",
   "execution_count": 9,
   "metadata": {},
   "outputs": [],
   "source": [
    "# You can change the columns to python native lists using .tolist() function on cols\n",
    "col_list = df.columns.tolist()"
   ]
  },
  {
   "cell_type": "code",
   "execution_count": 10,
   "metadata": {},
   "outputs": [
    {
     "name": "stdout",
     "output_type": "stream",
     "text": [
      "['title', 'year', 'name', 'type', 'character', 'role_importance']\n"
     ]
    }
   ],
   "source": [
    "# Change the final column name from 'n' to 'role_importance'\n",
    "col_list[-1] = 'role_importance'\n",
    "print(col_list)"
   ]
  },
  {
   "cell_type": "code",
   "execution_count": 11,
   "metadata": {},
   "outputs": [
    {
     "data": {
      "text/html": [
       "<div>\n",
       "<style scoped>\n",
       "    .dataframe tbody tr th:only-of-type {\n",
       "        vertical-align: middle;\n",
       "    }\n",
       "\n",
       "    .dataframe tbody tr th {\n",
       "        vertical-align: top;\n",
       "    }\n",
       "\n",
       "    .dataframe thead th {\n",
       "        text-align: right;\n",
       "    }\n",
       "</style>\n",
       "<table border=\"1\" class=\"dataframe\">\n",
       "  <thead>\n",
       "    <tr style=\"text-align: right;\">\n",
       "      <th></th>\n",
       "      <th>title</th>\n",
       "      <th>year</th>\n",
       "      <th>name</th>\n",
       "      <th>type</th>\n",
       "      <th>character</th>\n",
       "      <th>role_importance</th>\n",
       "    </tr>\n",
       "  </thead>\n",
       "  <tbody>\n",
       "    <tr>\n",
       "      <th>0</th>\n",
       "      <td>Demony wojny wedlug Goi</td>\n",
       "      <td>1998</td>\n",
       "      <td>Olaf Lubaszenko</td>\n",
       "      <td>actor</td>\n",
       "      <td>Lt. Czacki</td>\n",
       "      <td>6.0</td>\n",
       "    </tr>\n",
       "    <tr>\n",
       "      <th>1</th>\n",
       "      <td>Boone: The Bounty Hunter</td>\n",
       "      <td>2017</td>\n",
       "      <td>Osric Chau</td>\n",
       "      <td>actor</td>\n",
       "      <td>Denny</td>\n",
       "      <td>2.0</td>\n",
       "    </tr>\n",
       "    <tr>\n",
       "      <th>2</th>\n",
       "      <td>Lang ist es her...</td>\n",
       "      <td>1931</td>\n",
       "      <td>Renee May</td>\n",
       "      <td>actor</td>\n",
       "      <td>Reserl, ihre Tochter</td>\n",
       "      <td>2.0</td>\n",
       "    </tr>\n",
       "    <tr>\n",
       "      <th>3</th>\n",
       "      <td>Miss Malini</td>\n",
       "      <td>1947</td>\n",
       "      <td>Javar Seetharaman</td>\n",
       "      <td>actor</td>\n",
       "      <td>Director of Kala Mandhiram</td>\n",
       "      <td>NaN</td>\n",
       "    </tr>\n",
       "    <tr>\n",
       "      <th>4</th>\n",
       "      <td>American Wrestler: The Wizard</td>\n",
       "      <td>2016</td>\n",
       "      <td>Daniel (XIII) Pacheco</td>\n",
       "      <td>actor</td>\n",
       "      <td>East Petaluma Wrestler</td>\n",
       "      <td>34.0</td>\n",
       "    </tr>\n",
       "  </tbody>\n",
       "</table>\n",
       "</div>"
      ],
      "text/plain": [
       "                           title  year                   name   type  \\\n",
       "0        Demony wojny wedlug Goi  1998        Olaf Lubaszenko  actor   \n",
       "1       Boone: The Bounty Hunter  2017             Osric Chau  actor   \n",
       "2             Lang ist es her...  1931              Renee May  actor   \n",
       "3                    Miss Malini  1947      Javar Seetharaman  actor   \n",
       "4  American Wrestler: The Wizard  2016  Daniel (XIII) Pacheco  actor   \n",
       "\n",
       "                    character  role_importance  \n",
       "0                  Lt. Czacki              6.0  \n",
       "1                       Denny              2.0  \n",
       "2        Reserl, ihre Tochter              2.0  \n",
       "3  Director of Kala Mandhiram              NaN  \n",
       "4      East Petaluma Wrestler             34.0  "
      ]
     },
     "execution_count": 11,
     "metadata": {},
     "output_type": "execute_result"
    }
   ],
   "source": [
    "# You can cast the new col_list to the dataframe by setting the df.columns = col_list\n",
    "df.columns = col_list\n",
    "df.head()"
   ]
  },
  {
   "cell_type": "code",
   "execution_count": 12,
   "metadata": {},
   "outputs": [
    {
     "data": {
      "text/html": [
       "<div>\n",
       "<style scoped>\n",
       "    .dataframe tbody tr th:only-of-type {\n",
       "        vertical-align: middle;\n",
       "    }\n",
       "\n",
       "    .dataframe tbody tr th {\n",
       "        vertical-align: top;\n",
       "    }\n",
       "\n",
       "    .dataframe thead th {\n",
       "        text-align: right;\n",
       "    }\n",
       "</style>\n",
       "<table border=\"1\" class=\"dataframe\">\n",
       "  <thead>\n",
       "    <tr style=\"text-align: right;\">\n",
       "      <th></th>\n",
       "      <th>title</th>\n",
       "      <th>year</th>\n",
       "      <th>name</th>\n",
       "    </tr>\n",
       "  </thead>\n",
       "  <tbody>\n",
       "    <tr>\n",
       "      <th>0</th>\n",
       "      <td>Demony wojny wedlug Goi</td>\n",
       "      <td>1998</td>\n",
       "      <td>Olaf Lubaszenko</td>\n",
       "    </tr>\n",
       "    <tr>\n",
       "      <th>1</th>\n",
       "      <td>Boone: The Bounty Hunter</td>\n",
       "      <td>2017</td>\n",
       "      <td>Osric Chau</td>\n",
       "    </tr>\n",
       "    <tr>\n",
       "      <th>2</th>\n",
       "      <td>Lang ist es her...</td>\n",
       "      <td>1931</td>\n",
       "      <td>Renee May</td>\n",
       "    </tr>\n",
       "    <tr>\n",
       "      <th>3</th>\n",
       "      <td>Miss Malini</td>\n",
       "      <td>1947</td>\n",
       "      <td>Javar Seetharaman</td>\n",
       "    </tr>\n",
       "    <tr>\n",
       "      <th>4</th>\n",
       "      <td>American Wrestler: The Wizard</td>\n",
       "      <td>2016</td>\n",
       "      <td>Daniel (XIII) Pacheco</td>\n",
       "    </tr>\n",
       "    <tr>\n",
       "      <th>...</th>\n",
       "      <td>...</td>\n",
       "      <td>...</td>\n",
       "      <td>...</td>\n",
       "    </tr>\n",
       "    <tr>\n",
       "      <th>172140</th>\n",
       "      <td>The Tournament</td>\n",
       "      <td>2005</td>\n",
       "      <td>John Los</td>\n",
       "    </tr>\n",
       "    <tr>\n",
       "      <th>172141</th>\n",
       "      <td>On Air: Storia di un Successo</td>\n",
       "      <td>2016</td>\n",
       "      <td>Luca Alba</td>\n",
       "    </tr>\n",
       "    <tr>\n",
       "      <th>172142</th>\n",
       "      <td>R</td>\n",
       "      <td>2010</td>\n",
       "      <td>Bushra Sadaio</td>\n",
       "    </tr>\n",
       "    <tr>\n",
       "      <th>172143</th>\n",
       "      <td>Una storia moderna - L'ape regina</td>\n",
       "      <td>1963</td>\n",
       "      <td>Walter Giller</td>\n",
       "    </tr>\n",
       "    <tr>\n",
       "      <th>172144</th>\n",
       "      <td>Le crocodile du Botswanga</td>\n",
       "      <td>2014</td>\n",
       "      <td>Franck de la Personne</td>\n",
       "    </tr>\n",
       "  </tbody>\n",
       "</table>\n",
       "<p>172145 rows × 3 columns</p>\n",
       "</div>"
      ],
      "text/plain": [
       "                                    title  year                   name\n",
       "0                 Demony wojny wedlug Goi  1998        Olaf Lubaszenko\n",
       "1                Boone: The Bounty Hunter  2017             Osric Chau\n",
       "2                      Lang ist es her...  1931              Renee May\n",
       "3                             Miss Malini  1947      Javar Seetharaman\n",
       "4           American Wrestler: The Wizard  2016  Daniel (XIII) Pacheco\n",
       "...                                   ...   ...                    ...\n",
       "172140                     The Tournament  2005               John Los\n",
       "172141      On Air: Storia di un Successo  2016              Luca Alba\n",
       "172142                                  R  2010          Bushra Sadaio\n",
       "172143  Una storia moderna - L'ape regina  1963          Walter Giller\n",
       "172144          Le crocodile du Botswanga  2014  Franck de la Personne\n",
       "\n",
       "[172145 rows x 3 columns]"
      ]
     },
     "execution_count": 12,
     "metadata": {},
     "output_type": "execute_result"
    }
   ],
   "source": [
    "### edTest(test_cols) ###\n",
    "# We can subselect particular columns by choosing a sublist\n",
    "few_cols = ['title','year','name']\n",
    "df[few_cols]"
   ]
  },
  {
   "attachments": {},
   "cell_type": "markdown",
   "metadata": {},
   "source": [
    "## ⏸ `df[['x']]` vs `df['x']`\n",
    "\n",
    "What is the difference between the two operations above for a valid dataframe with a column named 'x'.\n",
    "\n",
    "#### A. `df[['x']]` returns a `pd.DataFrame` object  whereas `df['x']` returns a `pd.Series` object\n",
    "#### B. `df[['x']]` returns a `pd.Series` object  whereas `df['x']` returns a `pd.DataFrame` object\n",
    "#### C. `df[['x']]` is an invalid operation\n",
    "#### D. `df['x']` is an invalid operation"
   ]
  },
  {
   "cell_type": "code",
   "execution_count": 13,
   "metadata": {},
   "outputs": [],
   "source": [
    "### edTest(test_chow1) ###\n",
    "\n",
    "# Submit an answer choice as a string below (eg. if you choose option C, put 'C')\n",
    "answer1 = 'A'"
   ]
  },
  {
   "attachments": {},
   "cell_type": "markdown",
   "metadata": {},
   "source": [
    "### 🙋🏻 How many roles are undefined ?"
   ]
  },
  {
   "cell_type": "code",
   "execution_count": 14,
   "metadata": {},
   "outputs": [
    {
     "data": {
      "text/plain": [
       "0          6.0\n",
       "1          2.0\n",
       "2          2.0\n",
       "3          NaN\n",
       "4         34.0\n",
       "          ... \n",
       "172140     NaN\n",
       "172141     4.0\n",
       "172142    25.0\n",
       "172143     3.0\n",
       "172144     5.0\n",
       "Name: role_importance, Length: 172145, dtype: float64"
      ]
     },
     "execution_count": 14,
     "metadata": {},
     "output_type": "execute_result"
    }
   ],
   "source": [
    "# First get the series corresponding to the 'role_importance' column\n",
    "role_series = df['role_importance' ]\n",
    "role_series"
   ]
  },
  {
   "cell_type": "code",
   "execution_count": 15,
   "metadata": {},
   "outputs": [],
   "source": [
    "# Select only the non-NaN values by using .notna() method on 'role_series'\n",
    "boolean_series = role_series.notna()"
   ]
  },
  {
   "cell_type": "code",
   "execution_count": 16,
   "metadata": {},
   "outputs": [
    {
     "name": "stdout",
     "output_type": "stream",
     "text": [
      "105653\n"
     ]
    }
   ],
   "source": [
    "# Index the original dataframe with the 'boolean' mask and find the length\n",
    "num_of_notna_roles = len(df[boolean_series])\n",
    "print(num_of_notna_roles)"
   ]
  },
  {
   "attachments": {},
   "cell_type": "markdown",
   "metadata": {},
   "source": [
    "## Part 2: Series operations"
   ]
  },
  {
   "cell_type": "code",
   "execution_count": 17,
   "metadata": {},
   "outputs": [
    {
     "data": {
      "text/html": [
       "<div>\n",
       "<style scoped>\n",
       "    .dataframe tbody tr th:only-of-type {\n",
       "        vertical-align: middle;\n",
       "    }\n",
       "\n",
       "    .dataframe tbody tr th {\n",
       "        vertical-align: top;\n",
       "    }\n",
       "\n",
       "    .dataframe thead th {\n",
       "        text-align: right;\n",
       "    }\n",
       "</style>\n",
       "<table border=\"1\" class=\"dataframe\">\n",
       "  <thead>\n",
       "    <tr style=\"text-align: right;\">\n",
       "      <th></th>\n",
       "      <th>title</th>\n",
       "      <th>year</th>\n",
       "    </tr>\n",
       "  </thead>\n",
       "  <tbody>\n",
       "    <tr>\n",
       "      <th>0</th>\n",
       "      <td>The Hell with Heroes</td>\n",
       "      <td>1968</td>\n",
       "    </tr>\n",
       "    <tr>\n",
       "      <th>1</th>\n",
       "      <td>Raptola, violola y matola</td>\n",
       "      <td>1989</td>\n",
       "    </tr>\n",
       "    <tr>\n",
       "      <th>2</th>\n",
       "      <td>Kigeki: Otto urimasu</td>\n",
       "      <td>1968</td>\n",
       "    </tr>\n",
       "    <tr>\n",
       "      <th>3</th>\n",
       "      <td>Tanga-Tika</td>\n",
       "      <td>1953</td>\n",
       "    </tr>\n",
       "    <tr>\n",
       "      <th>4</th>\n",
       "      <td>Burning an Illusion</td>\n",
       "      <td>1981</td>\n",
       "    </tr>\n",
       "  </tbody>\n",
       "</table>\n",
       "</div>"
      ],
      "text/plain": [
       "                       title  year\n",
       "0       The Hell with Heroes  1968\n",
       "1  Raptola, violola y matola  1989\n",
       "2       Kigeki: Otto urimasu  1968\n",
       "3                 Tanga-Tika  1953\n",
       "4        Burning an Illusion  1981"
      ]
     },
     "execution_count": 17,
     "metadata": {},
     "output_type": "execute_result"
    }
   ],
   "source": [
    "# Let's call another dataset 'titles.zip'\n",
    "# which has a lot more movies but fewer columns\n",
    "titles = pd.read_csv('titles.zip')\n",
    "\n",
    "# Take a quick look at the dataset\n",
    "titles.head()"
   ]
  },
  {
   "cell_type": "code",
   "execution_count": 18,
   "metadata": {},
   "outputs": [
    {
     "name": "stdout",
     "output_type": "stream",
     "text": [
      "0         1968\n",
      "1         1989\n",
      "2         1968\n",
      "3         1953\n",
      "4         1981\n",
      "          ... \n",
      "226008    1985\n",
      "226009    1963\n",
      "226010    1967\n",
      "226011    1993\n",
      "226012    1957\n",
      "Name: year, Length: 226013, dtype: int64\n"
     ]
    }
   ],
   "source": [
    "# Get a series of the year in which the movies were released\n",
    "year = titles['year']\n",
    "print(year)"
   ]
  },
  {
   "cell_type": "code",
   "execution_count": 19,
   "metadata": {},
   "outputs": [],
   "source": [
    "# Create a boolean series with only the years > 2000\n",
    "boolean_series = titles['year']>2000"
   ]
  },
  {
   "cell_type": "code",
   "execution_count": 20,
   "metadata": {},
   "outputs": [
    {
     "name": "stdout",
     "output_type": "stream",
     "text": [
      "Number of movies released after the year 2000 are 99253\n"
     ]
    }
   ],
   "source": [
    "### edTest(test_counts) ###\n",
    "# Use the .value_counts() method on `boolean_series` to see how many films were released before and after 2000\n",
    "counts = boolean_series.value_counts()\n",
    "\n",
    "# Take the count of the 'True' booleans \n",
    "movies_after_2000 = counts[True]\n",
    "print(f'Number of movies released after the year 2000 are {movies_after_2000}')"
   ]
  },
  {
   "cell_type": "code",
   "execution_count": 21,
   "metadata": {},
   "outputs": [
    {
     "data": {
      "text/html": [
       "<div>\n",
       "<style scoped>\n",
       "    .dataframe tbody tr th:only-of-type {\n",
       "        vertical-align: middle;\n",
       "    }\n",
       "\n",
       "    .dataframe tbody tr th {\n",
       "        vertical-align: top;\n",
       "    }\n",
       "\n",
       "    .dataframe thead th {\n",
       "        text-align: right;\n",
       "    }\n",
       "</style>\n",
       "<table border=\"1\" class=\"dataframe\">\n",
       "  <thead>\n",
       "    <tr style=\"text-align: right;\">\n",
       "      <th></th>\n",
       "      <th>title</th>\n",
       "      <th>year</th>\n",
       "    </tr>\n",
       "  </thead>\n",
       "  <tbody>\n",
       "    <tr>\n",
       "      <th>5</th>\n",
       "      <td>Swades: We, the People</td>\n",
       "      <td>2004</td>\n",
       "    </tr>\n",
       "    <tr>\n",
       "      <th>9</th>\n",
       "      <td>Zutaboro</td>\n",
       "      <td>2015</td>\n",
       "    </tr>\n",
       "    <tr>\n",
       "      <th>10</th>\n",
       "      <td>On_Line</td>\n",
       "      <td>2002</td>\n",
       "    </tr>\n",
       "    <tr>\n",
       "      <th>14</th>\n",
       "      <td>I'm Very Much in Love with You</td>\n",
       "      <td>2018</td>\n",
       "    </tr>\n",
       "    <tr>\n",
       "      <th>18</th>\n",
       "      <td>Umut adasi</td>\n",
       "      <td>2006</td>\n",
       "    </tr>\n",
       "  </tbody>\n",
       "</table>\n",
       "</div>"
      ],
      "text/plain": [
       "                             title  year\n",
       "5           Swades: We, the People  2004\n",
       "9                         Zutaboro  2015\n",
       "10                         On_Line  2002\n",
       "14  I'm Very Much in Love with You  2018\n",
       "18                      Umut adasi  2006"
      ]
     },
     "execution_count": 21,
     "metadata": {},
     "output_type": "execute_result"
    }
   ],
   "source": [
    "# We can even filter the dataframe with the boolean series directly\n",
    "# with the syntax titles[boolean_series]\n",
    "titles_post_2000 = titles[boolean_series]\n",
    "titles_post_2000.head()"
   ]
  },
  {
   "attachments": {},
   "cell_type": "markdown",
   "metadata": {},
   "source": [
    "### 🙋🏻 How many movies in the decade of 2000 ?"
   ]
  },
  {
   "cell_type": "code",
   "execution_count": 22,
   "metadata": {},
   "outputs": [],
   "source": [
    "# To answer the above question, we can operate on the year 'Series' directly \n",
    "# get the series associated with the 'year' column, floor divide it by 10 and multiply by 10\n",
    "# equate this with 2000 to get a boolean series of movies in the year 200x\n",
    "boolean_series = (year // 10 * 10) == 2000"
   ]
  },
  {
   "cell_type": "code",
   "execution_count": 23,
   "metadata": {},
   "outputs": [
    {
     "data": {
      "text/html": [
       "<div>\n",
       "<style scoped>\n",
       "    .dataframe tbody tr th:only-of-type {\n",
       "        vertical-align: middle;\n",
       "    }\n",
       "\n",
       "    .dataframe tbody tr th {\n",
       "        vertical-align: top;\n",
       "    }\n",
       "\n",
       "    .dataframe thead th {\n",
       "        text-align: right;\n",
       "    }\n",
       "</style>\n",
       "<table border=\"1\" class=\"dataframe\">\n",
       "  <thead>\n",
       "    <tr style=\"text-align: right;\">\n",
       "      <th></th>\n",
       "      <th>title</th>\n",
       "      <th>year</th>\n",
       "    </tr>\n",
       "  </thead>\n",
       "  <tbody>\n",
       "    <tr>\n",
       "      <th>5</th>\n",
       "      <td>Swades: We, the People</td>\n",
       "      <td>2004</td>\n",
       "    </tr>\n",
       "    <tr>\n",
       "      <th>10</th>\n",
       "      <td>On_Line</td>\n",
       "      <td>2002</td>\n",
       "    </tr>\n",
       "    <tr>\n",
       "      <th>18</th>\n",
       "      <td>Umut adasi</td>\n",
       "      <td>2006</td>\n",
       "    </tr>\n",
       "    <tr>\n",
       "      <th>27</th>\n",
       "      <td>Valerie's Orchard</td>\n",
       "      <td>2007</td>\n",
       "    </tr>\n",
       "    <tr>\n",
       "      <th>28</th>\n",
       "      <td>Mo Suna Pua</td>\n",
       "      <td>2007</td>\n",
       "    </tr>\n",
       "  </tbody>\n",
       "</table>\n",
       "</div>"
      ],
      "text/plain": [
       "                     title  year\n",
       "5   Swades: We, the People  2004\n",
       "10                 On_Line  2002\n",
       "18              Umut adasi  2006\n",
       "27       Valerie's Orchard  2007\n",
       "28             Mo Suna Pua  2007"
      ]
     },
     "execution_count": 23,
     "metadata": {},
     "output_type": "execute_result"
    }
   ],
   "source": [
    "# Similarly, we can filter out a dataframe with only the movies in the decade of 2000\n",
    "# using the same boolean_series mentioned above\n",
    "titles_2k = titles[boolean_series]\n",
    "titles_2k.head()"
   ]
  },
  {
   "attachments": {},
   "cell_type": "markdown",
   "metadata": {},
   "source": [
    "## Indexing/Slicing Rows of DataFrames\n",
    "- Simple ways of selecting all rows and columns (`df[:]`)\n",
    "- Rows can be accessed via a key or an integer corresponding to the row number. \n",
    "- Omitting a value generally means *all values* before or after an item.\n",
    "- When we retrieve single or mulitiple rows, the result is a Dataframe.\n",
    "- We can do this in several ways, either directly, with `loc` or with `iloc`.\n",
    "\n"
   ]
  },
  {
   "cell_type": "code",
   "execution_count": 24,
   "metadata": {},
   "outputs": [
    {
     "data": {
      "text/html": [
       "<div>\n",
       "<style scoped>\n",
       "    .dataframe tbody tr th:only-of-type {\n",
       "        vertical-align: middle;\n",
       "    }\n",
       "\n",
       "    .dataframe tbody tr th {\n",
       "        vertical-align: top;\n",
       "    }\n",
       "\n",
       "    .dataframe thead th {\n",
       "        text-align: right;\n",
       "    }\n",
       "</style>\n",
       "<table border=\"1\" class=\"dataframe\">\n",
       "  <thead>\n",
       "    <tr style=\"text-align: right;\">\n",
       "      <th></th>\n",
       "      <th>title</th>\n",
       "      <th>year</th>\n",
       "    </tr>\n",
       "  </thead>\n",
       "  <tbody>\n",
       "    <tr>\n",
       "      <th>5</th>\n",
       "      <td>Swades: We, the People</td>\n",
       "      <td>2004</td>\n",
       "    </tr>\n",
       "    <tr>\n",
       "      <th>10</th>\n",
       "      <td>On_Line</td>\n",
       "      <td>2002</td>\n",
       "    </tr>\n",
       "    <tr>\n",
       "      <th>18</th>\n",
       "      <td>Umut adasi</td>\n",
       "      <td>2006</td>\n",
       "    </tr>\n",
       "    <tr>\n",
       "      <th>27</th>\n",
       "      <td>Valerie's Orchard</td>\n",
       "      <td>2007</td>\n",
       "    </tr>\n",
       "    <tr>\n",
       "      <th>28</th>\n",
       "      <td>Mo Suna Pua</td>\n",
       "      <td>2007</td>\n",
       "    </tr>\n",
       "  </tbody>\n",
       "</table>\n",
       "</div>"
      ],
      "text/plain": [
       "                     title  year\n",
       "5   Swades: We, the People  2004\n",
       "10                 On_Line  2002\n",
       "18              Umut adasi  2006\n",
       "27       Valerie's Orchard  2007\n",
       "28             Mo Suna Pua  2007"
      ]
     },
     "execution_count": 24,
     "metadata": {},
     "output_type": "execute_result"
    }
   ],
   "source": [
    "# We can use the boolean series along with loc as well\n",
    "# with syntax titles.loc[boolean_series]\n",
    "titles_2k = titles.loc[boolean_series]\n",
    "titles_2k.head()"
   ]
  },
  {
   "cell_type": "code",
   "execution_count": 25,
   "metadata": {},
   "outputs": [
    {
     "data": {
      "text/html": [
       "<div>\n",
       "<style scoped>\n",
       "    .dataframe tbody tr th:only-of-type {\n",
       "        vertical-align: middle;\n",
       "    }\n",
       "\n",
       "    .dataframe tbody tr th {\n",
       "        vertical-align: top;\n",
       "    }\n",
       "\n",
       "    .dataframe thead th {\n",
       "        text-align: right;\n",
       "    }\n",
       "</style>\n",
       "<table border=\"1\" class=\"dataframe\">\n",
       "  <thead>\n",
       "    <tr style=\"text-align: right;\">\n",
       "      <th></th>\n",
       "      <th>title</th>\n",
       "    </tr>\n",
       "  </thead>\n",
       "  <tbody>\n",
       "    <tr>\n",
       "      <th>5</th>\n",
       "      <td>Swades: We, the People</td>\n",
       "    </tr>\n",
       "    <tr>\n",
       "      <th>10</th>\n",
       "      <td>On_Line</td>\n",
       "    </tr>\n",
       "    <tr>\n",
       "      <th>18</th>\n",
       "      <td>Umut adasi</td>\n",
       "    </tr>\n",
       "    <tr>\n",
       "      <th>27</th>\n",
       "      <td>Valerie's Orchard</td>\n",
       "    </tr>\n",
       "    <tr>\n",
       "      <th>28</th>\n",
       "      <td>Mo Suna Pua</td>\n",
       "    </tr>\n",
       "  </tbody>\n",
       "</table>\n",
       "</div>"
      ],
      "text/plain": [
       "                     title\n",
       "5   Swades: We, the People\n",
       "10                 On_Line\n",
       "18              Umut adasi\n",
       "27       Valerie's Orchard\n",
       "28             Mo Suna Pua"
      ]
     },
     "execution_count": 25,
     "metadata": {},
     "output_type": "execute_result"
    }
   ],
   "source": [
    "# loc takes both rows and columns, so we can specify if we only want the title\n",
    "# with syntax titles.loc[boolean_series,['title']]\n",
    "only_titles = titles.loc[boolean_series, ['title']]\n",
    "only_titles.head()"
   ]
  },
  {
   "attachments": {},
   "cell_type": "markdown",
   "metadata": {},
   "source": [
    "## ⏸ `.loc()` vs `.iloc()`\n",
    "Suppose we have the `toy_df` dataframe below.\n",
    "```python3\n",
    "        name        role\n",
    "1     Pavlos   Architect\n",
    "2      Rahul  Instructor\n",
    "3  Chaitanya          TA\n",
    "4     Hemani          TA\n",
    "5      Viraj          TA\n",
    "6   Abjasree          TA\n",
    "7   Karthiga          TA\n",
    "```\n",
    "\n",
    "Which operation will give you the following output:\n",
    "\n",
    "```python3\n",
    "name       Pavlos\n",
    "role    Architect\n",
    "Name: 1, dtype: object\n",
    "```\n",
    "\n",
    "#### A. `toy_df.iloc[0]`\n",
    "#### B. `toy_df.loc[0]`\n",
    "#### C. `toy_df.iloc[1]`\n",
    "#### D. `toy_df.loc[1]`"
   ]
  },
  {
   "cell_type": "code",
   "execution_count": 26,
   "metadata": {},
   "outputs": [
    {
     "data": {
      "text/html": [
       "<div>\n",
       "<style scoped>\n",
       "    .dataframe tbody tr th:only-of-type {\n",
       "        vertical-align: middle;\n",
       "    }\n",
       "\n",
       "    .dataframe tbody tr th {\n",
       "        vertical-align: top;\n",
       "    }\n",
       "\n",
       "    .dataframe thead th {\n",
       "        text-align: right;\n",
       "    }\n",
       "</style>\n",
       "<table border=\"1\" class=\"dataframe\">\n",
       "  <thead>\n",
       "    <tr style=\"text-align: right;\">\n",
       "      <th></th>\n",
       "      <th>name</th>\n",
       "      <th>role</th>\n",
       "    </tr>\n",
       "  </thead>\n",
       "  <tbody>\n",
       "    <tr>\n",
       "      <th>1</th>\n",
       "      <td>Pavlos</td>\n",
       "      <td>Architect</td>\n",
       "    </tr>\n",
       "    <tr>\n",
       "      <th>2</th>\n",
       "      <td>Rahul</td>\n",
       "      <td>Instructor</td>\n",
       "    </tr>\n",
       "    <tr>\n",
       "      <th>3</th>\n",
       "      <td>Chaitanya</td>\n",
       "      <td>TA</td>\n",
       "    </tr>\n",
       "    <tr>\n",
       "      <th>4</th>\n",
       "      <td>Hemani</td>\n",
       "      <td>TA</td>\n",
       "    </tr>\n",
       "    <tr>\n",
       "      <th>5</th>\n",
       "      <td>Viraj</td>\n",
       "      <td>TA</td>\n",
       "    </tr>\n",
       "  </tbody>\n",
       "</table>\n",
       "</div>"
      ],
      "text/plain": [
       "        name        role\n",
       "1     Pavlos   Architect\n",
       "2      Rahul  Instructor\n",
       "3  Chaitanya          TA\n",
       "4     Hemani          TA\n",
       "5      Viraj          TA"
      ]
     },
     "execution_count": 26,
     "metadata": {},
     "output_type": "execute_result"
    }
   ],
   "source": [
    "toy_df = pd.DataFrame({'name':['Pavlos','Rahul','Chaitanya','Hemani','Viraj', 'Abjasree', 'Karthiga'],'role':['Architect','Instructor','TA','TA','TA','TA','TA']},index = [1,2,3,4,5,6,7])\n",
    "toy_df.head()"
   ]
  },
  {
   "cell_type": "code",
   "execution_count": 27,
   "metadata": {},
   "outputs": [],
   "source": [
    "### edTest(test_chow2) ###\n",
    "# There may be multiple right answers, therefore your answer should be a list, \n",
    "# for example ['a' , 'c' , 'd']\n",
    "answer2 = ['a', 'd']"
   ]
  },
  {
   "cell_type": "code",
   "execution_count": null,
   "metadata": {},
   "outputs": [],
   "source": []
  }
 ],
 "metadata": {
  "kernelspec": {
   "display_name": "Python 3 (ipykernel)",
   "language": "python",
   "name": "python3"
  },
  "language_info": {
   "codemirror_mode": {
    "name": "ipython",
    "version": 3
   },
   "file_extension": ".py",
   "mimetype": "text/x-python",
   "name": "python",
   "nbconvert_exporter": "python",
   "pygments_lexer": "ipython3",
   "version": "3.9.7"
  }
 },
 "nbformat": 4,
 "nbformat_minor": 4
}
