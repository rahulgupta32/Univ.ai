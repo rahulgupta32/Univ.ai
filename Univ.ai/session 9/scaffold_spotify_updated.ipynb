{
 "cells": [
  {
   "attachments": {},
   "cell_type": "markdown",
   "metadata": {},
   "source": [
    "# 🎵 Spotify Quiz\n",
    "\n",
    "Answer the questions below using the `spotify_artists.csv` dataset provided.\n",
    "\n",
    "**NOTE:** Answers to all questions must be made based on the provided dataset."
   ]
  },
  {
   "cell_type": "code",
   "execution_count": 1,
   "metadata": {},
   "outputs": [],
   "source": [
    "# import the pandas library\n",
    "import pandas as pd"
   ]
  },
  {
   "cell_type": "code",
   "execution_count": 3,
   "metadata": {},
   "outputs": [],
   "source": [
    "# read the `spotify_artists.csv` file into a dataframe\n",
    "df = pd.read_csv('spotify_artists.csv')\n"
   ]
  },
  {
   "cell_type": "code",
   "execution_count": 4,
   "metadata": {},
   "outputs": [
    {
     "data": {
      "text/html": [
       "<div>\n",
       "<style scoped>\n",
       "    .dataframe tbody tr th:only-of-type {\n",
       "        vertical-align: middle;\n",
       "    }\n",
       "\n",
       "    .dataframe tbody tr th {\n",
       "        vertical-align: top;\n",
       "    }\n",
       "\n",
       "    .dataframe thead th {\n",
       "        text-align: right;\n",
       "    }\n",
       "</style>\n",
       "<table border=\"1\" class=\"dataframe\">\n",
       "  <thead>\n",
       "    <tr style=\"text-align: right;\">\n",
       "      <th></th>\n",
       "      <th>name</th>\n",
       "      <th>artist</th>\n",
       "      <th>year</th>\n",
       "      <th>duration_ms</th>\n",
       "      <th>popularity</th>\n",
       "      <th>energy</th>\n",
       "      <th>danceability</th>\n",
       "      <th>tempo</th>\n",
       "    </tr>\n",
       "  </thead>\n",
       "  <tbody>\n",
       "    <tr>\n",
       "      <th>0</th>\n",
       "      <td>Singende Bataillone 1. Teil</td>\n",
       "      <td>Carl Woitschach</td>\n",
       "      <td>1928</td>\n",
       "      <td>158648</td>\n",
       "      <td>0</td>\n",
       "      <td>0.1950</td>\n",
       "      <td>0.708</td>\n",
       "      <td>118.469</td>\n",
       "    </tr>\n",
       "    <tr>\n",
       "      <th>1</th>\n",
       "      <td>Fantasiestücke, Op. 111: Più tosto lento</td>\n",
       "      <td>Robert Schumann</td>\n",
       "      <td>1928</td>\n",
       "      <td>282133</td>\n",
       "      <td>0</td>\n",
       "      <td>0.0135</td>\n",
       "      <td>0.379</td>\n",
       "      <td>83.972</td>\n",
       "    </tr>\n",
       "    <tr>\n",
       "      <th>2</th>\n",
       "      <td>Chapter 1.18 - Zamek kaniowski</td>\n",
       "      <td>Seweryn Goszczyński</td>\n",
       "      <td>1928</td>\n",
       "      <td>104300</td>\n",
       "      <td>0</td>\n",
       "      <td>0.2200</td>\n",
       "      <td>0.749</td>\n",
       "      <td>107.177</td>\n",
       "    </tr>\n",
       "    <tr>\n",
       "      <th>3</th>\n",
       "      <td>Bebamos Juntos - Instrumental (Remasterizado)</td>\n",
       "      <td>Francisco Canaro</td>\n",
       "      <td>1928</td>\n",
       "      <td>180760</td>\n",
       "      <td>0</td>\n",
       "      <td>0.1300</td>\n",
       "      <td>0.781</td>\n",
       "      <td>108.003</td>\n",
       "    </tr>\n",
       "    <tr>\n",
       "      <th>4</th>\n",
       "      <td>Polonaise-Fantaisie in A-Flat Major, Op. 61</td>\n",
       "      <td>NaN</td>\n",
       "      <td>1928</td>\n",
       "      <td>687733</td>\n",
       "      <td>1</td>\n",
       "      <td>0.2040</td>\n",
       "      <td>0.210</td>\n",
       "      <td>62.149</td>\n",
       "    </tr>\n",
       "  </tbody>\n",
       "</table>\n",
       "</div>"
      ],
      "text/plain": [
       "                                            name               artist  year  \\\n",
       "0                    Singende Bataillone 1. Teil      Carl Woitschach  1928   \n",
       "1       Fantasiestücke, Op. 111: Più tosto lento      Robert Schumann  1928   \n",
       "2                 Chapter 1.18 - Zamek kaniowski  Seweryn Goszczyński  1928   \n",
       "3  Bebamos Juntos - Instrumental (Remasterizado)     Francisco Canaro  1928   \n",
       "4    Polonaise-Fantaisie in A-Flat Major, Op. 61                  NaN  1928   \n",
       "\n",
       "   duration_ms  popularity  energy  danceability    tempo  \n",
       "0       158648           0  0.1950         0.708  118.469  \n",
       "1       282133           0  0.0135         0.379   83.972  \n",
       "2       104300           0  0.2200         0.749  107.177  \n",
       "3       180760           0  0.1300         0.781  108.003  \n",
       "4       687733           1  0.2040         0.210   62.149  "
      ]
     },
     "execution_count": 4,
     "metadata": {},
     "output_type": "execute_result"
    }
   ],
   "source": [
    "# take a quick look at the data\n",
    "df.head()"
   ]
  },
  {
   "attachments": {},
   "cell_type": "markdown",
   "metadata": {},
   "source": [
    "### 1. How many songs are listed in the dataframe?"
   ]
  },
  {
   "cell_type": "code",
   "execution_count": 5,
   "metadata": {},
   "outputs": [
    {
     "name": "stdout",
     "output_type": "stream",
     "text": [
      "163661\n"
     ]
    }
   ],
   "source": [
    "# your code here\n",
    "num_songs = df.shape[0]\n",
    "print(num_songs)"
   ]
  },
  {
   "cell_type": "code",
   "execution_count": 6,
   "metadata": {},
   "outputs": [],
   "source": [
    "### edTest(test_chow1) ###\n",
    "answer1 = 163661"
   ]
  },
  {
   "cell_type": "code",
   "execution_count": 9,
   "metadata": {},
   "outputs": [
    {
     "name": "stdout",
     "output_type": "stream",
     "text": [
      "163661\n"
     ]
    }
   ],
   "source": [
    "# Take a look at your answer to see if it makes sense\n",
    "print(answer1)"
   ]
  },
  {
   "attachments": {},
   "cell_type": "markdown",
   "metadata": {},
   "source": [
    "### 2. How many days would it take to listen to all the songs in this dataset?\n",
    "\n",
    "**NOTE:** Round the answer to the nearest integer."
   ]
  },
  {
   "cell_type": "code",
   "execution_count": 8,
   "metadata": {},
   "outputs": [
    {
     "name": "stdout",
     "output_type": "stream",
     "text": [
      "437\n"
     ]
    }
   ],
   "source": [
    "# your code here\n",
    "total_duration_ms = df['duration_ms'].sum()\n",
    "milliseconds_per_day = 24 * 60 * 60 * 1000 \n",
    "total_duration_days = total_duration_ms / milliseconds_per_day\n",
    "total_duration_days_rounded = round(total_duration_days)\n",
    "print(total_duration_days_rounded)"
   ]
  },
  {
   "cell_type": "code",
   "execution_count": 10,
   "metadata": {},
   "outputs": [],
   "source": [
    "### edTest(test_chow2) ###\n",
    "answer2 =437"
   ]
  },
  {
   "cell_type": "code",
   "execution_count": 11,
   "metadata": {},
   "outputs": [
    {
     "name": "stdout",
     "output_type": "stream",
     "text": [
      "437\n"
     ]
    }
   ],
   "source": [
    "# Take a look at your answer to see if it makes sense\n",
    "print(answer2)"
   ]
  },
  {
   "attachments": {},
   "cell_type": "markdown",
   "metadata": {},
   "source": [
    "### 3. In the dataframe, how many songs have the title **\"Love\"** (exact match)"
   ]
  },
  {
   "cell_type": "code",
   "execution_count": 12,
   "metadata": {},
   "outputs": [
    {
     "name": "stdout",
     "output_type": "stream",
     "text": [
      "18\n"
     ]
    }
   ],
   "source": [
    "# your code here\n",
    "num_love_songs = len(df[df['name'] == \"Love\"])\n",
    "print(num_love_songs)\n"
   ]
  },
  {
   "cell_type": "code",
   "execution_count": 13,
   "metadata": {},
   "outputs": [],
   "source": [
    "### edTest(test_chow3) ###\n",
    "answer3 = 18"
   ]
  },
  {
   "cell_type": "code",
   "execution_count": 14,
   "metadata": {},
   "outputs": [
    {
     "name": "stdout",
     "output_type": "stream",
     "text": [
      "18\n"
     ]
    }
   ],
   "source": [
    "# Take a look at your answer to see if it makes sense\n",
    "print(answer3)"
   ]
  },
  {
   "attachments": {},
   "cell_type": "markdown",
   "metadata": {},
   "source": [
    "### 4. The most popular song titled \"Love\" was made by which artist?"
   ]
  },
  {
   "cell_type": "code",
   "execution_count": 15,
   "metadata": {},
   "outputs": [
    {
     "name": "stdout",
     "output_type": "stream",
     "text": [
      "Lana Del Rey\n"
     ]
    }
   ],
   "source": [
    "# your code here\n",
    "love_songs = df[df['name'] == \"Love\"]\n",
    "most_popular_love_song = love_songs[love_songs['popularity'] == love_songs['popularity'].max()]\n",
    "most_popular_love_artist = most_popular_love_song['artist'].values[0]\n",
    "print(most_popular_love_artist)\n"
   ]
  },
  {
   "cell_type": "code",
   "execution_count": 16,
   "metadata": {},
   "outputs": [],
   "source": [
    "### edTest(test_chow4) ###\n",
    "answer4 = most_popular_love_artist"
   ]
  },
  {
   "cell_type": "code",
   "execution_count": 17,
   "metadata": {},
   "outputs": [
    {
     "name": "stdout",
     "output_type": "stream",
     "text": [
      "Lana Del Rey\n"
     ]
    }
   ],
   "source": [
    "# Take a look at your answer to see if it makes sense\n",
    "print(answer4)"
   ]
  },
  {
   "attachments": {},
   "cell_type": "markdown",
   "metadata": {},
   "source": [
    "### 5. Which decade has the most number of songs released?\n",
    "\n",
    "**HINT**: You will need to find the total number of songs released in **each** decade and proceed from there.\n",
    "\n",
    "**NOTE**: If your answer is the `80s`, answer should be `1980`."
   ]
  },
  {
   "cell_type": "code",
   "execution_count": 18,
   "metadata": {},
   "outputs": [
    {
     "name": "stdout",
     "output_type": "stream",
     "text": [
      "1990\n"
     ]
    }
   ],
   "source": [
    "# your code here\n",
    "df['decade'] = (df['year'] // 10) * 10\n",
    "songs_per_decade = df['decade'].value_counts()\n",
    "most_songs_decade = songs_per_decade.idxmax()\n",
    "print(most_songs_decade)"
   ]
  },
  {
   "cell_type": "code",
   "execution_count": 20,
   "metadata": {},
   "outputs": [],
   "source": [
    "### edTest(test_chow5) ###\n",
    "answer5 =most_songs_decade"
   ]
  },
  {
   "cell_type": "code",
   "execution_count": 21,
   "metadata": {},
   "outputs": [
    {
     "name": "stdout",
     "output_type": "stream",
     "text": [
      "1990\n"
     ]
    }
   ],
   "source": [
    "# Take a look at your answer to see if it makes sense\n",
    "print(answer5)"
   ]
  },
  {
   "attachments": {},
   "cell_type": "markdown",
   "metadata": {},
   "source": [
    "### 6. Which column has missing data?"
   ]
  },
  {
   "cell_type": "code",
   "execution_count": 22,
   "metadata": {},
   "outputs": [],
   "source": [
    "# your code here\n",
    "column_with_null_value = df.columns[df.isnull().any()][0]"
   ]
  },
  {
   "cell_type": "code",
   "execution_count": 23,
   "metadata": {},
   "outputs": [],
   "source": [
    "### edTest(test_chow6) ###\n",
    "answer6 = column_with_null_value"
   ]
  },
  {
   "cell_type": "code",
   "execution_count": 24,
   "metadata": {},
   "outputs": [
    {
     "name": "stdout",
     "output_type": "stream",
     "text": [
      "name              0\n",
      "artist          871\n",
      "year              0\n",
      "duration_ms       0\n",
      "popularity        0\n",
      "energy            0\n",
      "danceability      0\n",
      "tempo             0\n",
      "decade            0\n",
      "dtype: int64\n"
     ]
    }
   ],
   "source": [
    "# Take a look at your answer to see if it makes sense\n",
    "# Check for missing data in each column and print the counts\n",
    "missing_data_counts = df.isnull().sum()\n",
    "print(missing_data_counts)\n"
   ]
  },
  {
   "attachments": {},
   "cell_type": "markdown",
   "metadata": {},
   "source": [
    "#### Drop all missing values to answer the next set of questions below."
   ]
  },
  {
   "cell_type": "code",
   "execution_count": 25,
   "metadata": {},
   "outputs": [
    {
     "name": "stdout",
     "output_type": "stream",
     "text": [
      "artist\n"
     ]
    }
   ],
   "source": [
    "# your code here\n",
    "print(answer6)"
   ]
  },
  {
   "attachments": {},
   "cell_type": "markdown",
   "metadata": {},
   "source": [
    "### 7. How many unique artists are represented in the dataset ?"
   ]
  },
  {
   "cell_type": "code",
   "execution_count": 26,
   "metadata": {},
   "outputs": [
    {
     "name": "stdout",
     "output_type": "stream",
     "text": [
      "19695\n"
     ]
    }
   ],
   "source": [
    "# your code here\n",
    "unique_artists_count = df['artist'].nunique()\n",
    "\n",
    "print(unique_artists_count)\n"
   ]
  },
  {
   "cell_type": "code",
   "execution_count": 27,
   "metadata": {},
   "outputs": [
    {
     "name": "stdout",
     "output_type": "stream",
     "text": [
      "19695\n"
     ]
    }
   ],
   "source": [
    "### edTest(test_chow7) ###\n",
    "answer7 = unique_artists_count\n",
    "print(answer7)"
   ]
  },
  {
   "attachments": {},
   "cell_type": "markdown",
   "metadata": {},
   "source": [
    "### 8. What is the average energy of all songs by 'Michael Jackson'?"
   ]
  },
  {
   "cell_type": "code",
   "execution_count": 28,
   "metadata": {},
   "outputs": [
    {
     "name": "stdout",
     "output_type": "stream",
     "text": [
      "0.6930836363636363\n"
     ]
    }
   ],
   "source": [
    "# your code here\n",
    "michael_jackson_songs = df[df['artist'] == 'Michael Jackson']\n",
    "average_energy = michael_jackson_songs['energy'].mean()\n",
    "print(average_energy)\n"
   ]
  },
  {
   "cell_type": "code",
   "execution_count": 29,
   "metadata": {},
   "outputs": [
    {
     "name": "stdout",
     "output_type": "stream",
     "text": [
      "0.6930836363636363\n"
     ]
    }
   ],
   "source": [
    "### edTest(test_chow8) ###\n",
    "answer8 = (average_energy)\n",
    "print(average_energy)"
   ]
  },
  {
   "attachments": {},
   "cell_type": "markdown",
   "metadata": {},
   "source": [
    "\n",
    "### 9. Which is Michael Jackson's most energetic song?"
   ]
  },
  {
   "cell_type": "code",
   "execution_count": 30,
   "metadata": {},
   "outputs": [
    {
     "name": "stdout",
     "output_type": "stream",
     "text": [
      "Smooth Criminal - 2012 Remaster\n"
     ]
    }
   ],
   "source": [
    "# your code here \n",
    "michael_jackson_songs = df[df['artist'] == 'Michael Jackson']\n",
    "most_energetic_song = michael_jackson_songs[michael_jackson_songs['energy'] == michael_jackson_songs['energy'].max()]\n",
    "\n",
    "most_energetic_song_name = most_energetic_song['name'].values[0]\n",
    "print(most_energetic_song_name)\n",
    "\n"
   ]
  },
  {
   "cell_type": "code",
   "execution_count": 31,
   "metadata": {},
   "outputs": [
    {
     "name": "stdout",
     "output_type": "stream",
     "text": [
      "Smooth Criminal - 2012 Remaster\n"
     ]
    }
   ],
   "source": [
    "### edTest(test_chow9) ###\n",
    "answer9 = most_energetic_song_name\n",
    "print(answer9)"
   ]
  },
  {
   "attachments": {},
   "cell_type": "markdown",
   "metadata": {},
   "source": [
    "### 10a. Which artist has released the most number of songs since 1960?"
   ]
  },
  {
   "cell_type": "code",
   "execution_count": 32,
   "metadata": {},
   "outputs": [
    {
     "name": "stdout",
     "output_type": "stream",
     "text": [
      "Bob Dylan\n"
     ]
    }
   ],
   "source": [
    "# your code here \n",
    "recent_songs = df[df['year'] >= 1960]\n",
    "artist_song_counts = recent_songs['artist'].value_counts()\n",
    "most_prolific_artist = artist_song_counts.idxmax()\n",
    "print(most_prolific_artist)\n"
   ]
  },
  {
   "cell_type": "code",
   "execution_count": 36,
   "metadata": {},
   "outputs": [
    {
     "name": "stdout",
     "output_type": "stream",
     "text": [
      "Bob Dylan\n"
     ]
    }
   ],
   "source": [
    "### edTest(test_chow10a) ###\n",
    "answer10a =most_prolific_artist\n",
    "print(answer10a)"
   ]
  },
  {
   "attachments": {},
   "cell_type": "markdown",
   "metadata": {},
   "source": [
    "### 10b. For the artist from the previous question, which is the most popular song ?"
   ]
  },
  {
   "cell_type": "code",
   "execution_count": 34,
   "metadata": {},
   "outputs": [
    {
     "name": "stdout",
     "output_type": "stream",
     "text": [
      "Knockin' On Heaven's Door\n"
     ]
    }
   ],
   "source": [
    "# your code here \n",
    "songs_by_most_prolific_artist = recent_songs[recent_songs['artist'] == most_prolific_artist]\n",
    "most_popular_song = songs_by_most_prolific_artist[songs_by_most_prolific_artist['popularity'] == songs_by_most_prolific_artist['popularity'].max()]\n",
    "\n",
    "most_popular_song_name = most_popular_song['name'].values[0]\n",
    "print(most_popular_song_name)\n"
   ]
  },
  {
   "cell_type": "code",
   "execution_count": 35,
   "metadata": {},
   "outputs": [
    {
     "name": "stdout",
     "output_type": "stream",
     "text": [
      "Knockin' On Heaven's Door\n"
     ]
    }
   ],
   "source": [
    "### edTest(test_chow10b) ###\n",
    "answer10b = most_popular_song_name\n",
    "print(answer10b)"
   ]
  },
  {
   "attachments": {},
   "cell_type": "markdown",
   "metadata": {},
   "source": [
    "## 🎓 Bonus Question\n",
    "\n",
    "Create a playlist of the most popular song of each year from 1980 to 2020.\n",
    "- The output should be of type `List` with `41` values of type `str` (one song for each year)\n",
    "e.g `['song1',song2',song3'...]`\n",
    "\n",
    "**NOTE**: In case of ties, pick the song with the higher value for `energy`."
   ]
  },
  {
   "cell_type": "code",
   "execution_count": 37,
   "metadata": {},
   "outputs": [],
   "source": [
    "# Change the variable 'attempt' to the string \"attempted\"\n",
    "# if you want to attempt bonus question\n",
    "# else keep it unchanged if you wish to skip this question\n",
    "\n",
    "attempt = 'attempted'"
   ]
  },
  {
   "cell_type": "code",
   "execution_count": 38,
   "metadata": {},
   "outputs": [
    {
     "name": "stdout",
     "output_type": "stream",
     "text": [
      "['Back In Black', \"Don't Stop Believin'\", 'Africa', 'Every Breath You Take', 'Wake Me up Before You Go-Go', 'Take on Me', \"Livin' On A Prayer\", 'I Wanna Dance with Somebody (Who Loves Me)', 'Fast Car', \"Free Fallin'\", 'Thunderstruck', 'Under the Bridge', 'Killing In The Name', 'Creep', 'Basket Case', \"Gangsta's Paradise\", 'Wannabe', 'Bitter Sweet Symphony', \"The Kids Aren't Alright\", 'Californication', 'In the End', 'Chop Suey!', \"'Till I Collapse\", 'Numb', 'Yeah! (feat. Lil Jon & Ludacris)', \"Hips Don't Lie (feat. Wyclef Jean)\", 'Snow (Hey Oh)', 'Stronger', 'Umbrella', 'Bad Romance', 'Hey, Soul Sister', 'Pumped Up Kicks', \"Can't Hold Us - feat. Ray Dalton\", 'All of Me', 'Photograph', 'Play Date', 'goosebumps', 'Believer', 'SICKO MODE', 'ily (i love you baby) (feat. Emilee)', 'death bed (coffee for your head) (feat. beabadoobee)']\n"
     ]
    }
   ],
   "source": [
    "# your code here\n",
    "songs_1980_to_2020 = df[(df['year'] >= 1980) & (df['year'] <= 2020)]\n",
    "\n",
    "playlist = []\n",
    "\n",
    "for year in range(1980, 2021):\n",
    "    songs_for_year = songs_1980_to_2020[songs_1980_to_2020['year'] == year]\n",
    "    \n",
    "    if not songs_for_year.empty:\n",
    "        most_popular_song = songs_for_year.sort_values(by=['popularity', 'energy'], ascending=[False, False]).iloc[0]\n",
    "        \n",
    "        playlist.append(most_popular_song['name'])\n",
    "\n",
    "print(playlist)\n"
   ]
  },
  {
   "cell_type": "code",
   "execution_count": 39,
   "metadata": {},
   "outputs": [
    {
     "name": "stdout",
     "output_type": "stream",
     "text": [
      "['Back In Black', \"Don't Stop Believin'\", 'Africa', 'Every Breath You Take', 'Wake Me up Before You Go-Go', 'Take on Me', \"Livin' On A Prayer\", 'I Wanna Dance with Somebody (Who Loves Me)', 'Fast Car', \"Free Fallin'\", 'Thunderstruck', 'Under the Bridge', 'Killing In The Name', 'Creep', 'Basket Case', \"Gangsta's Paradise\", 'Wannabe', 'Bitter Sweet Symphony', \"The Kids Aren't Alright\", 'Californication', 'In the End', 'Chop Suey!', \"'Till I Collapse\", 'Numb', 'Yeah! (feat. Lil Jon & Ludacris)', \"Hips Don't Lie (feat. Wyclef Jean)\", 'Snow (Hey Oh)', 'Stronger', 'Umbrella', 'Bad Romance', 'Hey, Soul Sister', 'Pumped Up Kicks', \"Can't Hold Us - feat. Ray Dalton\", 'All of Me', 'Photograph', 'Play Date', 'goosebumps', 'Believer', 'SICKO MODE', 'ily (i love you baby) (feat. Emilee)', 'death bed (coffee for your head) (feat. beabadoobee)']\n"
     ]
    }
   ],
   "source": [
    "### edTest(test_bonus) ###\n",
    "answer_bonus =playlist\n",
    "print(answer_bonus)"
   ]
  }
 ],
 "metadata": {
  "kernelspec": {
   "display_name": "Python 3 (ipykernel)",
   "language": "python",
   "name": "python3"
  },
  "language_info": {
   "codemirror_mode": {
    "name": "ipython",
    "version": 3
   },
   "file_extension": ".py",
   "mimetype": "text/x-python",
   "name": "python",
   "nbconvert_exporter": "python",
   "pygments_lexer": "ipython3",
   "version": "3.9.7"
  }
 },
 "nbformat": 4,
 "nbformat_minor": 4
}
