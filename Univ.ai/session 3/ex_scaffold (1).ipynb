{
 "cells": [
  {
   "attachments": {},
   "cell_type": "markdown",
   "metadata": {},
   "source": [
    "# The Book Keeper's Apprentice - Dicts & List\n",
    " "
   ]
  },
  {
   "cell_type": "code",
   "execution_count": 1,
   "metadata": {},
   "outputs": [],
   "source": [
    "# Importing libraries\n",
    "import time\n",
    "from pprint import pprint\n",
    "\n",
    "# Importing data\n",
    "from helper import books_dict, authors_list, books_list"
   ]
  },
  {
   "cell_type": "code",
   "execution_count": 2,
   "metadata": {},
   "outputs": [
    {
     "name": "stdout",
     "output_type": "stream",
     "text": [
      "['Michael W. Dean', 'Patricia Schultz', 'Dick Francis', 'Isaac Asimov', 'Pablo Neruda', 'Ralph Ginzburg', 'Michael Ochs', 'Marthe Le Van', 'Owen    Jones', 'George Balanchine']\n",
      "['$30 Film School: How to Write  Direct  Produce  Shoot  Edit  Distribute  Tour With  and Sell Your Own No-Budget Digital Movie', '1 000 Places to See Before You Die', '10 lb Penalty', '100 Great Fantasy Short Short Stories', '100 Love Sonnets', '100 Years of Lynchings', '1000 Record Covers', '1000 Rings: Inspiring Adornments for the Hand', '1001 Illuminated Initial Letters: 27 Full-Color Plates', '101 Stories of the Great Ballets: The Scene-by-Scene Stories of the Most Popular Ballets  Old and New']\n"
     ]
    },
    {
     "data": {
      "text/plain": [
       "10019"
      ]
     },
     "execution_count": 2,
     "metadata": {},
     "output_type": "execute_result"
    }
   ],
   "source": [
    "# Investigate the `books_dict` dictionary and the two lists\n",
    "# `authors_list`, # `books_list`\n",
    "print(authors_list[:10])\n",
    "print(books_list[:10])\n",
    "len(authors_list)\n",
    "len(books_list)"
   ]
  },
  {
   "attachments": {},
   "cell_type": "markdown",
   "metadata": {},
   "source": [
    "### ⏸ How many elements are there in the two lists provided?\n",
    "\n",
    "\n",
    "#### A. 20019\n",
    "#### B. 10220\n",
    "#### C. 10019\n",
    "\n",
    "HINT: Use `len()` on `authors_list` and `books_list`"
   ]
  },
  {
   "cell_type": "code",
   "execution_count": 3,
   "metadata": {},
   "outputs": [],
   "source": [
    "### edTest(test_0) ###\n",
    "## DO NOT REMOVE ABOVE LINE ##\n",
    "\n",
    "# Submit an answer choice as a string below \n",
    "# (eg. if you choose option C, put 'C')\n",
    "your_answer = 'C'"
   ]
  },
  {
   "attachments": {},
   "cell_type": "markdown",
   "metadata": {},
   "source": [
    "## Part 1 - Searching for Book 1: `\"1 000 Places to See Before You Die\"`"
   ]
  },
  {
   "attachments": {},
   "cell_type": "markdown",
   "metadata": {},
   "source": [
    "#### Using `books_list`, fetch the author name for `\"1 000 Places to See Before You Die\"` *(exact string match)*"
   ]
  },
  {
   "cell_type": "code",
   "execution_count": 4,
   "metadata": {},
   "outputs": [
    {
     "name": "stdout",
     "output_type": "stream",
     "text": [
      "Searching through the list...\n",
      "The author of the book is Patricia Schultz\n",
      "--- Searching took 0.00141 seconds --- \n"
     ]
    }
   ],
   "source": [
    "### edTest(test_1) ###\n",
    "## DO NOT REMOVE ABOVE LINE ##\n",
    "\n",
    "# Let's start the clock\n",
    "start_time = time.time()\n",
    "\n",
    "print(\"Searching through the list...\")\n",
    "\n",
    "# Enter the book title\n",
    "book_title = \"1 000 Places to See Before You Die\"\n",
    "\n",
    "# Go through the books list and find the index associated with book_title\n",
    "# Find the author name using that index on authors_list\n",
    "for i in range(len(books_list)):\n",
    "    if books_list[i] == book_title:\n",
    "        author_name = authors_list[i]\n",
    "        break\n",
    "\n",
    "print(f\"The author of the book is {author_name}\")\n",
    "dict_duration_book_1 = time.time() - start_time\n",
    "print(f\"--- Searching took {dict_duration_book_1:.5f} seconds --- \")"
   ]
  },
  {
   "attachments": {},
   "cell_type": "markdown",
   "metadata": {},
   "source": [
    "#### Using `books_dict`, fetch the author name for`\"1 000 Places to See Before You Die\"`\n",
    "\n",
    "Search for the books from the dictionary and fetch the author name."
   ]
  },
  {
   "cell_type": "code",
   "execution_count": 5,
   "metadata": {},
   "outputs": [
    {
     "name": "stdout",
     "output_type": "stream",
     "text": [
      "Searching through the dict...\n",
      "The author of the book is Patricia Schultz\n",
      "--- Searching took 0.00021 seconds --- \n"
     ]
    }
   ],
   "source": [
    "### edTest(test_2) ###\n",
    "## DO NOT REMOVE ABOVE LINE ##\n",
    "\n",
    "# Let's start the clock\n",
    "start_time = time.time()\n",
    "\n",
    "print(\"Searching through the dict...\")\n",
    "\n",
    "# Book title\n",
    "book_title = \"1 000 places to see before you die\"\n",
    "\n",
    "# Fetch the value from `books_dict` using the title key\n",
    "author_name = authors_list[i]\n",
    "\n",
    "print(f\"The author of the book is {author_name}\")\n",
    "\n",
    "# Let's measure how much time it took\n",
    "dict_duration_book_1 = time.time() - start_time\n",
    "print(f\"--- Searching took {dict_duration_book_1:.5f} seconds --- \")"
   ]
  },
  {
   "attachments": {},
   "cell_type": "markdown",
   "metadata": {},
   "source": [
    "### Head to Head\n",
    "Let's compare the amount of time it took for list search vs dictionary search"
   ]
  },
  {
   "cell_type": "code",
   "execution_count": 6,
   "metadata": {},
   "outputs": [],
   "source": [
    "# Calculate the ratio of the time taken by list search to dictionary search\n",
    "speed_ratio = ___\n",
    "print(f\"Ratio of list search to dictionary search is {speed_ratio:.3f}\")"
   ]
  },
  {
   "attachments": {},
   "cell_type": "markdown",
   "metadata": {},
   "source": [
    "Please note that in this case, your `book_index` was relatively small. This means that the book is placed in earlier positions. (Check value of `i` in the list search loop above to verify)."
   ]
  },
  {
   "attachments": {},
   "cell_type": "markdown",
   "metadata": {},
   "source": [
    "## Part 2 - Searching for book 2: `\"Youth in Revolt: The Journals of Nick Twisp\"`"
   ]
  },
  {
   "attachments": {},
   "cell_type": "markdown",
   "metadata": {},
   "source": [
    "#### Using `books_list`, fetch the author name of \"Youth in Revolt: The Journals of Nick Twisp\""
   ]
  },
  {
   "cell_type": "code",
   "execution_count": 6,
   "metadata": {},
   "outputs": [
    {
     "name": "stdout",
     "output_type": "stream",
     "text": [
      "Searching through the list...\n",
      "The author of the book is C.D. Payne\n",
      "--- Searching took 0.00337 seconds ---\n"
     ]
    }
   ],
   "source": [
    "### edTest(test_3) ###\n",
    "## DO NOT REMOVE ABOVE LINE ##\n",
    "\n",
    "# Let's start the clock\n",
    "start_time = time.time()\n",
    "\n",
    "print(\"Searching through the list...\")\n",
    "\n",
    "# Title of the book\n",
    "book_title = \"Youth in Revolt: The Journals of Nick Twisp\"\n",
    "\n",
    "# Go through the books list and find the index associated with book_title\n",
    "# Find the author name using that index on authors_list\n",
    "for i in range(len(books_list)):\n",
    "    if books_list[i]==book_title:\n",
    "        author_name=authors_list[i]\n",
    "        break\n",
    "\n",
    "# Print the name of the author of the book\n",
    "print(f\"The author of the book is {author_name}\")\n",
    "\n",
    "# Let's measure how much time it took\n",
    "list_duration_book_2 = time.time() - start_time\n",
    "print(f\"--- Searching took {list_duration_book_2:.5f} seconds ---\")"
   ]
  },
  {
   "attachments": {},
   "cell_type": "markdown",
   "metadata": {},
   "source": [
    "#### Using `books_dict`, fetch the author name of `\"Youth in Revolt: The Journals of Nick Twisp\"`"
   ]
  },
  {
   "cell_type": "code",
   "execution_count": 7,
   "metadata": {},
   "outputs": [
    {
     "name": "stdout",
     "output_type": "stream",
     "text": [
      "Searching through the list...\n",
      "The author of the book is C.D. Payne\n",
      "--- Searching took 0.00247 seconds ---\n"
     ]
    }
   ],
   "source": [
    "### edTest(test_4) ###\n",
    "## DO NOT REMOVE ABOVE LINE ##\n",
    "\n",
    "# Let's start the clock\n",
    "start_time = time.time()\n",
    "start_time = time.time()\n",
    "\n",
    "print(\"Searching through the list...\")\n",
    "\n",
    "# Title of the book\n",
    "book_title = \"Youth in Revolt: The Journals of Nick Twisp\"\n",
    "\n",
    "# Go through the books list and find the index associated with book_title\n",
    "# Find the author name using that index on authors_list\n",
    "for i in range(len(books_list)):\n",
    "    if books_list[i]==book_title:\n",
    "        author_name=authors_list[i]\n",
    "        break    # Print the name of the author of the book\n",
    "print(f\"The author of the book is {author_name}\")\n",
    "\n",
    "# Let's measure how much time it took\n",
    "list_duration_book_2 = time.time() - start_time\n",
    "print(f\"--- Searching took {list_duration_book_2:.5f} seconds ---\")\n"
   ]
  },
  {
   "cell_type": "code",
   "execution_count": 9,
   "metadata": {},
   "outputs": [],
   "source": [
    "# Calculate the ratio of the time taken by list search to dictionary search\n",
    "speed_ratio = ___\n",
    "print(f\"Ratio of list search to dictionary search is {speed_ratio:.3f}\")"
   ]
  },
  {
   "attachments": {},
   "cell_type": "markdown",
   "metadata": {},
   "source": [
    "Do you observe the relation between position and the time it is taking to fetch values from that position? How is it differing for a list vs. a dictionary?"
   ]
  },
  {
   "attachments": {},
   "cell_type": "markdown",
   "metadata": {},
   "source": [
    "### ⏸ Which took lesser time - searching through a list or searching through the dictionary? Why?\n",
    "\n",
    "#### A. Dictionary was much faster in the second search\n",
    "#### B. List was much faster in the second search\n",
    "#### C. Dictionary was much faster in the first search\n"
   ]
  },
  {
   "cell_type": "code",
   "execution_count": 8,
   "metadata": {},
   "outputs": [],
   "source": [
    "### edTest(test_5) ###\n",
    "## DO NOT REMOVE ABOVE LINE ##\n",
    "\n",
    "# Submit an answer choice as a string below \n",
    "# (eg. if you choose option C, put 'C')\n",
    "your_answer = 'A'"
   ]
  }
 ],
 "metadata": {
  "kernelspec": {
   "display_name": "Python 3 (ipykernel)",
   "language": "python",
   "name": "python3"
  },
  "language_info": {
   "codemirror_mode": {
    "name": "ipython",
    "version": 3
   },
   "file_extension": ".py",
   "mimetype": "text/x-python",
   "name": "python",
   "nbconvert_exporter": "python",
   "pygments_lexer": "ipython3",
   "version": "3.9.7"
  }
 },
 "nbformat": 4,
 "nbformat_minor": 4
}
