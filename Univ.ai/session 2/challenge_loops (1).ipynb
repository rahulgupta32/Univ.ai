{
 "cells": [
  {
   "attachments": {},
   "cell_type": "markdown",
   "metadata": {},
   "source": [
    "## Manipulating lists using python loops.\n",
    "> Indexing is very useful to manipulate lists, however, certain selections of a list need us to iterate over the each element of a list before making a selection."
   ]
  },
  {
   "cell_type": "code",
   "execution_count": 12,
   "metadata": {},
   "outputs": [],
   "source": [
    "from helper import test_list"
   ]
  },
  {
   "cell_type": "code",
   "execution_count": 13,
   "metadata": {},
   "outputs": [
    {
     "data": {
      "text/plain": [
       "[0, 1, 2, 3, 4, 5, 6, 7, 8, 9]"
      ]
     },
     "execution_count": 13,
     "metadata": {},
     "output_type": "execute_result"
    }
   ],
   "source": [
    "# print the first 10 elements of the `test_list`\n",
    "test_list[:10]"
   ]
  },
  {
   "cell_type": "code",
   "execution_count": 15,
   "metadata": {},
   "outputs": [
    {
     "name": "stdout",
     "output_type": "stream",
     "text": [
      "[0, 1, 2, 3, 4, 5, 6, 7, 8, 9]\n"
     ]
    }
   ],
   "source": [
    "#Check the contents of `test_list` after sorting it\n",
    "sorted_list =sorted(test_list)\n",
    "# Print the first ten elements of sorted_list\n",
    "print(sorted_list[:10])\n",
    "# You will notice that unlike the previous exercise, the `test_list` here skips many even and odd numbers\n",
    "# i.e sorted_list maybe [0,3,6,10,17,...]"
   ]
  },
  {
   "attachments": {},
   "cell_type": "markdown",
   "metadata": {},
   "source": [
    "### ⏸ Which list method can you use to add a single element to the list ? \n",
    "\n",
    "#### A. `append()`\n",
    "#### B. `extend()`\n",
    "#### C. `add()`\n",
    "#### D. `pop()`\n"
   ]
  },
  {
   "cell_type": "code",
   "execution_count": 16,
   "metadata": {},
   "outputs": [],
   "source": [
    "### edTest(test_chow1) ###\n",
    "# Submit an answer choice as a string below (eg. if you choose option A put 'A')\n",
    "answer1 = 'A'"
   ]
  },
  {
   "cell_type": "code",
   "execution_count": 18,
   "metadata": {},
   "outputs": [
    {
     "name": "stdout",
     "output_type": "stream",
     "text": [
      "[0, 2, 4, 6, 8, 10, 12, 14, 16, 18]\n"
     ]
    }
   ],
   "source": [
    "# This time, use a loop to find all even numbers and append them to 'even_list'\n",
    "even_list = []\n",
    "for num in range(100):  # Adjust the range as needed\n",
    "    if num % 2 == 0:\n",
    "        even_list.append(num)\n",
    "\n",
    "        \n",
    "# Check if the list consists of only even integers        \n",
    "print(even_list[:10])        "
   ]
  },
  {
   "cell_type": "code",
   "execution_count": 19,
   "metadata": {},
   "outputs": [
    {
     "name": "stdout",
     "output_type": "stream",
     "text": [
      "[1, 3, 5, 7, 9, 11, 13, 15, 17, 19]\n"
     ]
    }
   ],
   "source": [
    "# Again use a loop to find all odd numbers and append them to 'odd_list'\n",
    "odd_list = []\n",
    "for num in range(100):  # Adjust the range as needed\n",
    "    if num % 2 != 0:\n",
    "        odd_list.append(num)\n",
    "    \n",
    "# Check if the list consists of only odd integers            \n",
    "print(odd_list[:10])        "
   ]
  },
  {
   "cell_type": "code",
   "execution_count": 20,
   "metadata": {},
   "outputs": [
    {
     "name": "stdout",
     "output_type": "stream",
     "text": [
      "[2, 3, 5, 7]\n"
     ]
    }
   ],
   "source": [
    "### edTest(test_1) ###\n",
    "# Use a loop to find all the prime numbers and append them to `primes_list`\n",
    "# For the given list, get a list of prime numbers using a for loop\n",
    "def is_prime(num):\n",
    "    if num <= 1:\n",
    "        return False\n",
    "    for i in range(2, int(num ** 0.5) + 1):\n",
    "        if num % i == 0:\n",
    "            return False\n",
    "    return True\n",
    "\n",
    "# Your initial list of numbers\n",
    "numbers_list = [2, 3, 4, 5, 6, 7, 8, 9, 10]\n",
    "\n",
    "primes_list = []\n",
    "\n",
    "for num in numbers_list:\n",
    "    if is_prime(num):\n",
    "        primes_list.append(num)\n",
    "        \n",
    "# Check if the list consists of only prime numbers\n",
    "print(primes_list[:10])        "
   ]
  },
  {
   "attachments": {},
   "cell_type": "markdown",
   "metadata": {},
   "source": [
    "### 🍲 For the code below, when will the code print `Nice choice!` ?\n",
    "\n",
    "```python\n",
    "while True:\n",
    "    name = input('Who is your favorite professor?')\n",
    "    if name == 'Pavlos':\n",
    "        break\n",
    "print(\"Nice choice!\")\n",
    "```\n",
    "\n",
    "#### A. user inputs `pavlos`\n",
    "#### B. user uses `command/ctrl + C` to break out of the loop\n",
    "#### C. user inputs `Pavlos`\n",
    "#### D. All of the above\n"
   ]
  },
  {
   "cell_type": "code",
   "execution_count": 21,
   "metadata": {},
   "outputs": [],
   "source": [
    "### edTest(test_chow2) ###\n",
    "# Submit an answer choice as a string below (eg. if you choose option A put 'A')\n",
    "answer2 = 'C'"
   ]
  }
 ],
 "metadata": {
  "kernelspec": {
   "display_name": "Python 3 (ipykernel)",
   "language": "python",
   "name": "python3"
  },
  "language_info": {
   "codemirror_mode": {
    "name": "ipython",
    "version": 3
   },
   "file_extension": ".py",
   "mimetype": "text/x-python",
   "name": "python",
   "nbconvert_exporter": "python",
   "pygments_lexer": "ipython3",
   "version": "3.9.7"
  }
 },
 "nbformat": 4,
 "nbformat_minor": 4
}
