{
 "cells": [
  {
   "attachments": {},
   "cell_type": "markdown",
   "metadata": {},
   "source": [
    "## 🤹🏻‍♀️ List manipulation\n",
    "\n",
    "Manipulating lists will be a big part of your data science journey. \n",
    "We will start with a few simple operations here."
   ]
  },
  {
   "cell_type": "code",
   "execution_count": 4,
   "metadata": {},
   "outputs": [],
   "source": [
    "# This imports a test_list we've provided for you\n",
    "from helper import test_list"
   ]
  },
  {
   "cell_type": "code",
   "execution_count": 5,
   "metadata": {},
   "outputs": [
    {
     "data": {
      "text/plain": [
       "[873, 715, 948, 242, 379, 349, 94, 161, 474, 945]"
      ]
     },
     "execution_count": 5,
     "metadata": {},
     "output_type": "execute_result"
    }
   ],
   "source": [
    "# Run this cell for viewing the test_list\n",
    "# that was just imported\n",
    "test_list[:10]"
   ]
  },
  {
   "cell_type": "code",
   "execution_count": 6,
   "metadata": {},
   "outputs": [
    {
     "name": "stdout",
     "output_type": "stream",
     "text": [
      "[873, 715, 948, 242, 379]\n"
     ]
    }
   ],
   "source": [
    "## view the first 5 elements of  `test_list`\n",
    "mini_list = test_list[:5]\n",
    "print(mini_list)"
   ]
  },
  {
   "cell_type": "code",
   "execution_count": 10,
   "metadata": {},
   "outputs": [
    {
     "name": "stdout",
     "output_type": "stream",
     "text": [
      "999\n"
     ]
    }
   ],
   "source": [
    "# Find the largest number in the `test_list`\n",
    "max_val = max(test_list)\n",
    "print(max_val)"
   ]
  },
  {
   "cell_type": "code",
   "execution_count": 11,
   "metadata": {},
   "outputs": [
    {
     "name": "stdout",
     "output_type": "stream",
     "text": [
      "499500\n"
     ]
    }
   ],
   "source": [
    "# Find the sum of the list\n",
    "sum_of_list = sum(test_list)\n",
    "print(sum_of_list)"
   ]
  },
  {
   "attachments": {},
   "cell_type": "markdown",
   "metadata": {},
   "source": [
    "### ⏸ For a list of numbers `num_list`, which expression will give the average?\n",
    "\n",
    "#### A. `num_list.mean()`\n",
    "#### B. `num_list.sum()/num_list.len()`\n",
    "#### C. `len(num_list)/sum(num_list)`\n",
    "#### D. `sum(num_list)/len(num_list)`\n"
   ]
  },
  {
   "cell_type": "code",
   "execution_count": 9,
   "metadata": {},
   "outputs": [],
   "source": [
    "### edTest(test_chow1) ###\n",
    "# Submit an answer choice as a string below \n",
    "#(eg. if you choose option A put 'A')\n",
    "answer1 = 'D'"
   ]
  },
  {
   "cell_type": "code",
   "execution_count": 13,
   "metadata": {},
   "outputs": [
    {
     "name": "stdout",
     "output_type": "stream",
     "text": [
      "499.5\n"
     ]
    }
   ],
   "source": [
    "# ### edTest(test_1) ###\n",
    "# Find the average of the list (test_list)\n",
    "sum_of_list = sum(test_list)\n",
    "length_of_list = len(test_list)\n",
    "average = sum_of_list/length_of_list\n",
    "print(average)"
   ]
  },
  {
   "cell_type": "code",
   "execution_count": 15,
   "metadata": {},
   "outputs": [
    {
     "name": "stdout",
     "output_type": "stream",
     "text": [
      "[0, 1, 2, 3, 4, 5, 6, 7, 8, 9]\n"
     ]
    }
   ],
   "source": [
    "# Make a new list, `sorted_list` to sort the given list\n",
    "sorted_list =sorted( test_list)\n",
    "# print the first ten elements of the list \n",
    "print(sorted_list[:10]);"
   ]
  },
  {
   "cell_type": "code",
   "execution_count": 16,
   "metadata": {},
   "outputs": [
    {
     "name": "stdout",
     "output_type": "stream",
     "text": [
      "[0, 2, 4, 6, 8, 10, 12, 14, 16, 18]\n"
     ]
    }
   ],
   "source": [
    "# Using the sorted_list created above\n",
    "# Make a new list called `even_list`, \n",
    "# consisting of only the even numbers in the list\n",
    "even_list = [number for number in sorted_list if number % 2 == 0]\n",
    "# print the first ten elements of the new list \n",
    "print(even_list[:10])"
   ]
  },
  {
   "cell_type": "code",
   "execution_count": 17,
   "metadata": {},
   "outputs": [
    {
     "name": "stdout",
     "output_type": "stream",
     "text": [
      "[1, 3, 5, 7, 9, 11, 13, 15, 17, 19]\n"
     ]
    }
   ],
   "source": [
    "# Using the sorted_list agan\n",
    "# Make a new list, `odd_list`,\n",
    "# consisting of only the odd numbers in the list\n",
    "odd_list = [number for number in sorted_list if number % 2 != 0]\n",
    "# print the first ten elements of the new list \n",
    "print(odd_list[:10])"
   ]
  },
  {
   "cell_type": "code",
   "execution_count": 18,
   "metadata": {},
   "outputs": [
    {
     "name": "stdout",
     "output_type": "stream",
     "text": [
      "[999, 998, 997, 996, 995, 994, 993, 992, 991, 990]\n"
     ]
    }
   ],
   "source": [
    "# Using indexing to reverse the sorted list and print the first ten elements\n",
    "reverse_list = sorted_list[::-1]\n",
    "print(reverse_list[:10])"
   ]
  },
  {
   "cell_type": "code",
   "execution_count": 19,
   "metadata": {},
   "outputs": [
    {
     "data": {
      "text/plain": [
       "False"
      ]
     },
     "execution_count": 19,
     "metadata": {},
     "output_type": "execute_result"
    }
   ],
   "source": [
    "# ### edTest(test_combined) ###\n",
    "# Combine the `even_list` and the `odd_list` \n",
    "# by using the `+` operator and compare it with the \n",
    "# `sorted_list` to check if they are identical\n",
    "\n",
    "combined_list = even_list + odd_list\n",
    "combined_list == sorted_list"
   ]
  },
  {
   "cell_type": "code",
   "execution_count": 20,
   "metadata": {},
   "outputs": [
    {
     "name": "stdout",
     "output_type": "stream",
     "text": [
      "Removed element 8\n"
     ]
    }
   ],
   "source": [
    "### edTest(test_pop) ###\n",
    "# Remove an element at index 4 from our combined list\n",
    "removed_element = combined_list.pop(4)\n",
    "print(f'Removed element {removed_element}')"
   ]
  },
  {
   "cell_type": "code",
   "execution_count": 21,
   "metadata": {},
   "outputs": [
    {
     "data": {
      "text/plain": [
       "[0, 2, 4, 6, 10]"
      ]
     },
     "execution_count": 21,
     "metadata": {},
     "output_type": "execute_result"
    }
   ],
   "source": [
    "# Check if the element you just removed, i.e. 8, is present in combined_list\n",
    "combined_list[:5]"
   ]
  },
  {
   "attachments": {},
   "cell_type": "markdown",
   "metadata": {},
   "source": [
    "### ⏸ Which of the following expressions will make `new_list == sorted_list` as `True`?\n",
    "\n",
    "#### A. `new_list = combined_list.sort()`\n",
    "#### B. `new_list = sorted(combined_list)`\n",
    "#### C. `new_list = sort(combined_list)`\n",
    "#### D. All of the above\n"
   ]
  },
  {
   "cell_type": "code",
   "execution_count": 36,
   "metadata": {},
   "outputs": [],
   "source": [
    "### edTest(test_chow2) ###\n",
    "# Submit an answer choice as a string below \n",
    "#(eg. if you choose option A,B,C put 'A,B,C')\n",
    "answer2 = 'B'"
   ]
  }
 ],
 "metadata": {
  "kernelspec": {
   "display_name": "Python 3 (ipykernel)",
   "language": "python",
   "name": "python3"
  },
  "language_info": {
   "codemirror_mode": {
    "name": "ipython",
    "version": 3
   },
   "file_extension": ".py",
   "mimetype": "text/x-python",
   "name": "python",
   "nbconvert_exporter": "python",
   "pygments_lexer": "ipython3",
   "version": "3.9.7"
  }
 },
 "nbformat": 4,
 "nbformat_minor": 4
}
