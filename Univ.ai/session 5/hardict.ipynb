{
 "cells": [
  {
   "attachments": {},
   "cell_type": "markdown",
   "metadata": {},
   "source": [
    "## `Build your own Dictionary!`\n",
    "\n",
    "This is a somewhat challenging excercise, but we are confident that you can complete it.\n"
   ]
  },
  {
   "cell_type": "code",
   "execution_count": 16,
   "metadata": {},
   "outputs": [
    {
     "name": "stdout",
     "output_type": "stream",
     "text": [
      "{'name': 'John', 'age': '30', 'city': 'New York'}\n",
      "John\n",
      "New York\n"
     ]
    }
   ],
   "source": [
    "### edTest(test_class) ###\n",
    "class MyDict(object):\n",
    "    def __init__(self, size=1000):\n",
    "        self._size = size\n",
    "        self._length = 0\n",
    "        self._storage = [[] for _ in range(size)]\n",
    "\n",
    "    def _hash_key(self, key):\n",
    "        return hash(key) % self._size\n",
    "\n",
    "    def __setitem__(self, key, value):\n",
    "        storage_idx = self._hash_key(key)\n",
    "        flag = False\n",
    "\n",
    "        for item in self._storage[storage_idx]:\n",
    "            if item[0] == key:\n",
    "                item[1] = value\n",
    "                flag = True\n",
    "                break\n",
    "        \n",
    "        if not flag:\n",
    "            self._storage[storage_idx].append([key, value])\n",
    "            self._length += 1\n",
    "\n",
    "    def __getitem__(self, key):\n",
    "        storage_idx = self._hash_key(key)\n",
    "        \n",
    "        for item in self._storage[storage_idx]:\n",
    "            if item[0] == key:\n",
    "                return item[1]\n",
    "        \n",
    "        raise KeyError(f\"'{key}' not found!\")\n",
    "\n",
    "    def __repr__(self):\n",
    "        result = []\n",
    "        for slot in self._storage:\n",
    "            for item in slot:\n",
    "                result.append(f\"'{item[0]}': '{item[1]}'\")\n",
    "        \n",
    "        return \"{\" + \", \".join(result) + \"}\"\n",
    "\n",
    "# Example usage\n",
    "if __name__ == \"__main__\":\n",
    "    my_dict = MyDict()\n",
    "    my_dict[\"name\"] = \"John\"\n",
    "    my_dict[\"age\"] = 30\n",
    "    my_dict[\"city\"] = \"New York\"\n",
    "\n",
    "    print(my_dict)\n",
    "    print(my_dict[\"name\"])\n",
    "    print(my_dict[\"city\"])\n"
   ]
  },
  {
   "attachments": {},
   "cell_type": "markdown",
   "metadata": {},
   "source": [
    "Create and test an object instance of your class:"
   ]
  },
  {
   "cell_type": "code",
   "execution_count": 17,
   "metadata": {},
   "outputs": [],
   "source": [
    "#instantiate a MyDict\n",
    "my_dict = MyDict()"
   ]
  },
  {
   "attachments": {},
   "cell_type": "markdown",
   "metadata": {},
   "source": [
    "Assign the following key-value pairs:\n",
    "\n",
    "`\"cat\" : \"tiger\"`,\n",
    "\n",
    "`\"dog\" : \"wolf\"`,\n",
    "\n",
    "`\"monkey\" : \"human\"`"
   ]
  },
  {
   "cell_type": "code",
   "execution_count": 18,
   "metadata": {},
   "outputs": [
    {
     "name": "stdout",
     "output_type": "stream",
     "text": [
      "{'dog': 'wolf', 'monkey': 'human', 'cat': 'tiger'}\n"
     ]
    }
   ],
   "source": [
    "#assign the key value painrs\n",
    "# Assign key-value pairs\n",
    "my_dict[\"cat\"] = \"tiger\"\n",
    "my_dict[\"dog\"] = \"wolf\"\n",
    "my_dict[\"monkey\"] = \"human\"\n",
    "\n",
    "# Print the updated dictionary representation\n",
    "print(my_dict)"
   ]
  },
  {
   "cell_type": "code",
   "execution_count": 19,
   "metadata": {},
   "outputs": [
    {
     "name": "stdout",
     "output_type": "stream",
     "text": [
      "The value matching key cat is tiger\n",
      "The value matching key dog is wolf\n",
      "The value matching key monkey is human\n"
     ]
    }
   ],
   "source": [
    "#loop the the dictionary elements print the pairs of keys and values\n",
    "for key in [\"cat\", \"dog\", \"monkey\"]:\n",
    "    print(f\"The value matching key {key} is {my_dict[key]}\")\n"
   ]
  },
  {
   "cell_type": "code",
   "execution_count": 20,
   "metadata": {},
   "outputs": [
    {
     "name": "stdout",
     "output_type": "stream",
     "text": [
      "{'dog': 'wolf', 'monkey': 'human', 'cat': 'tiger'}\n"
     ]
    }
   ],
   "source": [
    "#print your dictionary\n",
    "print(my_dict)\n"
   ]
  },
  {
   "cell_type": "code",
   "execution_count": 21,
   "metadata": {},
   "outputs": [
    {
     "data": {
      "text/plain": [
       "{'dog': 'wolf', 'monkey': 'human', 'cat': 'tiger'}"
      ]
     },
     "execution_count": 21,
     "metadata": {},
     "output_type": "execute_result"
    }
   ],
   "source": [
    "#show the object representation of your dictionary\n",
    "my_dict"
   ]
  },
  {
   "attachments": {},
   "cell_type": "markdown",
   "metadata": {},
   "source": [
    "### ⏸ If we had defined __str__ instead of __repr__ in the above code and then run the above what would have happened?\n",
    "\n",
    "`>>> my_dict`\n",
    "\n",
    "#### A. We would get the same expected output\n",
    "#### B. We would get an error\n",
    "#### C. The dictionary would print but not in the same order\n",
    "#### D. We would get a memory location such as: `<__main__.MyDict at 0x7ff7d0ebb700>`"
   ]
  },
  {
   "cell_type": "code",
   "execution_count": 22,
   "metadata": {},
   "outputs": [],
   "source": [
    "### edTest(test_q1) ###\n",
    "answer ='D'\n"
   ]
  },
  {
   "attachments": {},
   "cell_type": "markdown",
   "metadata": {},
   "source": [
    "### ⏸ In which of the following ways is our dictionary class an example of cs abstraction?\n",
    "\n",
    "*There may be multiple right answers therefore your your answer should be a list comma separated, for example ['a' , 'b' , 'c']*\n",
    "\n",
    "#### A. If n is the length of our storage list and m is the length of the number of keys, then by implimenting the dictionary we have gone from O(n) to O(m) in terms of computational complexity and thus our code is more **efficient and powerful**.\n",
    "\n",
    "#### B. We have **generalized** the concept of a list and hash function into something more flexible, scalable, complex, and adaptable.\n",
    "#### C. We have **hidden** potentially confusing and difficult **implementation details** of the our class from the user. By camouflaging most of the mechanisms driving the class we have left it easy to call and use.\n",
    "#### D. The user can think in terms of an **intuitive concept** instead of the underlying hashed list and therefore we have made the code easier to use for the user to comprehend and interact with."
   ]
  },
  {
   "cell_type": "code",
   "execution_count": 23,
   "metadata": {},
   "outputs": [],
   "source": [
    "### edTest(test_q2) ###\n",
    "answer = ['b' , 'c' , 'd']"
   ]
  }
 ],
 "metadata": {
  "kernelspec": {
   "display_name": "Python 3 (ipykernel)",
   "language": "python",
   "name": "python3"
  },
  "language_info": {
   "codemirror_mode": {
    "name": "ipython",
    "version": 3
   },
   "file_extension": ".py",
   "mimetype": "text/x-python",
   "name": "python",
   "nbconvert_exporter": "python",
   "pygments_lexer": "ipython3",
   "version": "3.9.7"
  }
 },
 "nbformat": 4,
 "nbformat_minor": 4
}
