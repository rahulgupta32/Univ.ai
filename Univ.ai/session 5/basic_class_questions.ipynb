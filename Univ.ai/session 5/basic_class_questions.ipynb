{
 "cells": [
  {
   "attachments": {},
   "cell_type": "markdown",
   "metadata": {},
   "source": [
    "## Your first class: `Tesla`"
   ]
  },
  {
   "attachments": {},
   "cell_type": "markdown",
   "metadata": {},
   "source": [
    "Read the doctring of the follow toy class and follow the instructions to complete it. Afterwards two questions await you!\n",
    "\n",
    "Remember: attributes and methods can be accessed with dot notation ie `my_tesla.vroom()`"
   ]
  },
  {
   "cell_type": "code",
   "execution_count": 6,
   "metadata": {},
   "outputs": [],
   "source": [
    "### edTest(test_class) ###\n",
    "class Tesla:\n",
    "    \"\"\"\n",
    "    This is the docstring section of a class.\n",
    "    Adding this to the top of your python class or \n",
    "    function is standard practice.\n",
    "    See the solutions in one week for the proper form!\n",
    "\n",
    "    Lets make a simple class!\n",
    "    Define the following methods:\n",
    "\n",
    "    methods\n",
    "    -------\n",
    "    vroom: \n",
    "        Assign the string \"vroom! vroom!\" to the attribute `sound`. \n",
    "        Then print self.sound.\n",
    "         \n",
    "    make: \n",
    "        Assign the car's `color` to the string \"red\".\n",
    "        Also assign the string \"2020 model s\" to `model`. \n",
    "        \n",
    "    info: \n",
    "        Assign `self.color + ' ' + self.model` to info_\n",
    "        Then print the info_. The output should read 'red 2020 model s'\n",
    "\n",
    "    Save the following attributes:\n",
    "        self.sound\n",
    "        self.model\n",
    "        self.color\n",
    "        self.info_\n",
    "    \"\"\"\n",
    "    \n",
    "    def __init__(self):\n",
    "        self.sound = \"\"\n",
    "        self.model = \"\"\n",
    "        self.color = \"\"\n",
    "        self.info_ = \"\"\n",
    "    \n",
    "    def vroom(self):\n",
    "        self.sound = \"vroom! vroom!\"\n",
    "        print(self.sound)\n",
    "        \n",
    "    def make(self):\n",
    "        self.color = \"red\"\n",
    "        self.model = \"2020 model s\"\n",
    "        \n",
    "    def info(self):\n",
    "        self.info_ = self.color + ' ' + self.model\n",
    "        print(self.info_)\n"
   ]
  },
  {
   "cell_type": "code",
   "execution_count": 7,
   "metadata": {},
   "outputs": [],
   "source": [
    "### Test(test_instance) ###\n",
    "# Call the instance of your class\n",
    "mytesla = Tesla()\n"
   ]
  },
  {
   "cell_type": "code",
   "execution_count": 8,
   "metadata": {},
   "outputs": [
    {
     "name": "stdout",
     "output_type": "stream",
     "text": [
      "vroom! vroom!\n"
     ]
    }
   ],
   "source": [
    "# Example : Call the vroom function\n",
    "mytesla.vroom()"
   ]
  },
  {
   "cell_type": "code",
   "execution_count": 9,
   "metadata": {},
   "outputs": [],
   "source": [
    "# Call the make function\n",
    "mytesla.make()\n"
   ]
  },
  {
   "cell_type": "code",
   "execution_count": 10,
   "metadata": {},
   "outputs": [
    {
     "name": "stdout",
     "output_type": "stream",
     "text": [
      "red 2020 model s\n"
     ]
    }
   ],
   "source": [
    "### edTest(test_instance) ###\n",
    "# Call the info function\n",
    "mytesla.info()"
   ]
  },
  {
   "attachments": {},
   "cell_type": "markdown",
   "metadata": {},
   "source": [
    "### ⏸ What happens if you don't put `self` in the `vroom()` function call within the class ? \n",
    "\n",
    "#### A. Nothing goes wrong\n",
    "#### B. The function call `mytesla.vroom()` gives an error\n",
    "#### C. The function call `mytesla.vroom()` gives a warning"
   ]
  },
  {
   "cell_type": "code",
   "execution_count": 11,
   "metadata": {},
   "outputs": [],
   "source": [
    "### edTest(test_chow1) ###\n",
    "# Submit an answer choice as a string below (eg. if you choose option A put 'A')\n",
    "answer = 'B'"
   ]
  },
  {
   "attachments": {},
   "cell_type": "markdown",
   "metadata": {},
   "source": [
    "### ⏸ What is the output if you run the following commands:\n",
    "`mytesla.color = 'black'`\n",
    "\n",
    "`mytesla.color == 'black'`\n",
    "#### A. `True`\n",
    "#### B. `False`\n",
    "#### C. `TypeError: 'Tesla' object does not support attribute reassignment`"
   ]
  },
  {
   "cell_type": "code",
   "execution_count": 12,
   "metadata": {},
   "outputs": [],
   "source": [
    "### edTest(test_chow2) ###\n",
    "# Submit an answer choice as a string below (eg. if you choose option A put 'A')\n",
    "answer = 'A'"
   ]
  }
 ],
 "metadata": {
  "kernelspec": {
   "display_name": "Python 3 (ipykernel)",
   "language": "python",
   "name": "python3"
  },
  "language_info": {
   "codemirror_mode": {
    "name": "ipython",
    "version": 3
   },
   "file_extension": ".py",
   "mimetype": "text/x-python",
   "name": "python",
   "nbconvert_exporter": "python",
   "pygments_lexer": "ipython3",
   "version": "3.9.7"
  }
 },
 "nbformat": 4,
 "nbformat_minor": 4
}
