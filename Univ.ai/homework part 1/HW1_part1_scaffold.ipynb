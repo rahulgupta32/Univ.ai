{
 "cells": [
  {
   "cell_type": "markdown",
   "metadata": {
    "id": "R2UFbt0_-jJi"
   },
   "source": [
    "![](https://drive.google.com/uc?id=1-KqvmRic4EEYrDblHAwY0cne0__2OSsh)\n",
    "\n",
    "# AI0: The Basics of Data Science\n",
    "## Homework 1: String Manipulation, Data Structures and Classes\n",
    "\n",
    "#### **PART 1 [45 points]: Creating your own Tic-Tac-Toe simulation using Lists & Functions**\n",
    "\n",
    "**Univ.AI**<br/>\n",
    "\n",
    "<hr style=\"height:2.4pt\">"
   ]
  },
  {
   "cell_type": "code",
   "execution_count": 1,
   "metadata": {
    "id": "jBDMbFwH-jJt"
   },
   "outputs": [],
   "source": [
    "#RUN THIS CELL\n",
    "import requests\n",
    "from IPython.core.display import HTML"
   ]
  },
  {
   "cell_type": "code",
   "execution_count": 2,
   "metadata": {
    "id": "BbgGLAYO-jJx"
   },
   "outputs": [],
   "source": [
    "# Import necessary libraries\n",
    "import re\n",
    "import random\n",
    "import collections\n",
    "import numpy as np"
   ]
  },
  {
   "cell_type": "markdown",
   "metadata": {
    "id": "JjrmDPKv-q20"
   },
   "source": [
    "### INSTRUCTIONS\n",
    "\n",
    "\n",
    "- This homework is a jupyter notebook. You can work on it on the platform  (recommended) or download it to your local machine and upload a copy without deleting the ***### edTest ###*** cells.\n",
    "\n",
    "- Remember to hit the `Save` button each time you edit this file to avoid losing any progress. \n",
    "\n",
    "- Running cells out of order is a common pitfall in Jupyter Notebooks. To make sure your code works restart the kernel and run the whole notebook again before you submit. Use the `Run all` button.\n",
    "\n",
    "- If you choose to download the notebook and work locally, please make sure to retain the same file name when submitting it. To submit the homework, upload the working notebook on the platform and click the `Submit` button on the top right corner. The platform will alert you of a new file with the same name. Click `Overwrite` to continue with your new version.\n",
    "\n",
    "- `Submit` the homework well before the given deadline. Submissions after the deadline will not be graded.\n",
    "\n",
    "- We have tried to include all the libraries you may need to do the assignment in the `import` statement at the top of this notebook. We strongly suggest that you use those and not others as we may not be familiar with them.\n",
    "\n",
    "- ***Comment your code well. This would help the graders in case there is any issue with the notebook while running. It is important to remember that the graders will not troubleshoot your code.***\n",
    "\n",
    "<font color=\"red\"> \n",
    "\n",
    "**IMPORTANT** \n",
    "\n",
    "- Plagiarism of code/blocks of text is not acceptable for any Univ.AI submissions.\n",
    "- You are allowed to refer to a publicly available source of information for a SMALL chunk of code  provided you cite it clearly. \n",
    "- Copying the code blatantly without attribution is not permitted in any case. \n",
    "- Sharing code between homework teams is strictly not allowed. In case of any confusion, you are advised to ask the staff on the Discussion Forum rather than assume the course of action needed.\n",
    "- If caught plagiarizing, you risk expulsion from the program.\n",
    "- All course materials, including but not limited to homework assignments, exercises, lecture content, and supplementary resources, are the exclusive property of Univ.AI and the course instructors. These materials are provided to enhance your learning experience and should not be redistributed, shared, or published without explicit permission.\n",
    "\n",
    "</font>\n",
    "\n",
    "\n",
    "\n",
    "<hr style=\"height:2pt\">"
   ]
  },
  {
   "cell_type": "markdown",
   "metadata": {
    "id": "w7Xsi-Xz-jJ0"
   },
   "source": [
    "### Your Name\n",
    "Rahul Kumar Gupta"
   ]
  },
  {
   "cell_type": "markdown",
   "metadata": {},
   "source": [
    "___"
   ]
  },
  {
   "cell_type": "markdown",
   "metadata": {
    "id": "lT5fR3Mm-jJ1"
   },
   "source": [
    "<div class=\"alert alert-block alert-danger\" style=\"color:black;background-color:#E7F4FA\">\n",
    "    \n",
    "## **PART 1 [45 points]: Creating your own Tic-Tac-Toe simulation using Lists & Functions**\n",
    "<br />    \n",
    "\n",
    "Tic-tac-toe (or noughts and crosses) is a simple strategy game in which two players take turns placing a mark on a 3x3 board, attempting to make a row, column, or diagonal of three with their mark.\n",
    "\n",
    "<div style=\"text-align: center;\">\n",
    "<img src=\"https://media.giphy.com/media/LtGpcWj3donEg3Doj2/giphy.gif\"  style=\"display: block; margin: 0 auto;\">\n",
    "</div>\n",
    "\n",
    "In the first part of the homework, you will use the tools & concepts you have learned in the past few weeks to simulate a seemingly simple game of Tic-Tac-Toe.\n",
    "\n",
    "You will:\n",
    "1. Create a tic-tac-toe board.\n",
    "2. Place markers on the board.\n",
    "3. Evaluate if either player has won.\n",
    "4. Use this to simulate two basic strategies.    \n",
    "    \n",
    "<br />\n",
    "</div>\n",
    "    "
   ]
  },
  {
   "cell_type": "markdown",
   "metadata": {
    "id": "rtT6o3FP-jJ2"
   },
   "source": [
    "<div class=\"alert alert-block alert-danger\" style=\"color:black;background-color:#E7F4FA\">\n",
    "\n",
    "## **PART 1: Questions**\n",
    "<br />\n",
    "\n",
    "### **1.1 [5 points]  CREATION OF TIC-TAC-TOE BOARD**\n",
    "<br />\n",
    "\n",
    "* For our tic-tac-toe board, we will use a nested list with dimensions 3 by 3.\n",
    "* Make a function `create_board()` that creates such a board with the value of each cell set to the integer 0.\n",
    "* Call `create_board()` and store it.\n",
    "\n",
    "<br /><br />\n",
    "\n",
    "    \n",
    "### **1.2 [10 points] PLACING MARKERS ON BOARD**\n",
    "<br />\n",
    "\n",
    "Players 1 and 2 will take turns changing the values of this array from a 0 to a 1 or 2, indicating the number of the player who places a marker there. We will then determine which positions are available to either player for placing their marker.\n",
    "\n",
    "<br /><br />\n",
    "\n",
    "**1.2.1** - Create a function to place a marker.\n",
    "* Create a function `place(board, player, position)`, where:\n",
    "    * player is the current player (an integer 1 or 2).\n",
    "    * position is a tuple of length 2 specifying a desired location to place their marker.\n",
    "    * Your function should only allow the current player to place a marker on the board only if that position is empty (zero). (This means, you'll change the board position from 0 to the player number).\n",
    "* Use `create_board()` to store a board as board, and use place to have Player 1 place a marker on location (0, 0).\n",
    "\n",
    "<br /><br />\n",
    "\n",
    "**1.2.2** - Determine which positions are available to either player for placing their marker.\n",
    "\n",
    "* Create a function `possibilities(board)` that returns a list of all positions (tuples) on the board that are not occupied (0). <br/>\n",
    "* With the board already defined from the previous section, call `possibilities(board)` to see what it returns.\n",
    "\n",
    "<br /><br />\n",
    "\n",
    "**1.2.3** - Make both players place three markers each on available positions on board.\n",
    "\n",
    "* Write a function `random_place(board, player)` that places a marker for the current player at random among all the available positions (those currently set to 0).\n",
    "    * Find possible placements with `possibilities(board)`.\n",
    "    * Select one possible placement at random using `random.choice(selection)`.\n",
    "* Create a new board and call `random_place(board, player)` to place three pieces each on board for players 1 and 2. Print your board subsequently.\n",
    "    \n",
    "<br /><br />\n",
    "    \n",
    "### **1.3 [15 points] DETERMINING WHO WON**\n",
    "<br />\n",
    "\n",
    "**1.3.1** - Check if there is a row wise win. (This means that the player has placed consecutively across a row.)\n",
    "\n",
    "* Make a function `row_win(board, player)` that takes the player (integer) and determines if any row consists of only their marker.\n",
    "* Have it return True if this condition is met and False otherwise.\n",
    "* With the board already defined from previous exercises, call `row_win` to check if Player 1 has a complete row.\n",
    "\n",
    "<br /><br />\n",
    "\n",
    "**1.3.2** - Check if there is a column wise win. (This means that the player has placed consecutively across a column.)\n",
    "\n",
    "* Make a function col_win(board, player) that takes the player (integer) and determines if any column consists of only their marker.\n",
    "* Have it return True if this condition is met and False otherwise.\n",
    "* With the board already defined from the previous section, call col_win to check if Player 1 has a complete row.\n",
    "\n",
    "<br /><br />\n",
    "\n",
    "**1.3.3** - Check if there is a diagonal wise win. (This means that the player has placed consecutively across both diagonals.)\n",
    "\n",
    "* Finally, create a function diag_win(board, player) that tests if either diagonal of the board consists of only their marker.\n",
    "* Have it return True if this condition is met, and False otherwise.\n",
    "* With the board slightly modified from the previous section, call diag_win to check if Player 2 has a complete diagonal.\n",
    "\n",
    "<br /><br />\n",
    "\n",
    "**1.3.4** - Create a function to determine the winner.\n",
    "\n",
    "* Create a function `evaluate(board)` that uses `row_win`, `col_win`, and `diag_win` functions for both players.\n",
    "* If one of them has won, return that player's number. If the board is full but no one has won, return -1. Otherwise, return 0.\n",
    "* With the board already defined from previous section, call `evaluate` to see if either player has won the game yet.\n",
    "    \n",
    "<br /><br />  \n",
    "    \n",
    "### **1.4 [15 points] SIMULATING THE GAME**\n",
    "<br />\n",
    "\n",
    "You will use all the functions you have made to simulate an entire game.\n",
    "\n",
    "**1.4.1** - Simulate a game using random positions i.e. without using a strategy.\n",
    "    \n",
    "* `create_board()`, `random_place(board, player)`, and `evaluate(board`) have been created in previous exercises. Create a function `play_game()` that:\n",
    "    * Creates a board.\n",
    "    * Alternates taking turns between two players (beginning with Player 1), placing a marker during each turn.\n",
    "    * Evaluates the board for a winner after each placement.\n",
    "    * Continues the game until one player wins (returning 1 or 2 to reflect the winning player), or the game is a draw (returning -1).\n",
    "* Call `play_game` 1000 times, and store the results of the game in a list called `results`.\n",
    "\n",
    "<br /><br />\n",
    "\n",
    "**1.4.2** - Simulate a game using the strategy - \"always start in the middle square\".\n",
    "\n",
    "* Create a function play_strategic_game(), where Player 1 always starts with the middle square, and otherwise both players place their markers randomly.\n",
    "* Call play_strategic_game 1000 times.\n",
    "\n",
    "<br /><br />\n",
    "<br />\n",
    "\n",
    "</div>"
   ]
  },
  {
   "cell_type": "markdown",
   "metadata": {
    "id": "LcsbbKKa-jJ4"
   },
   "source": [
    "<div class=\"alert alert-block alert-danger\" style=\"color:black;background-color:#E7F4FA\">\n",
    "    \n",
    "## **PART 1: Solutions**\n",
    "<br />\n",
    "\n",
    "### **1.1 [5 points] CREATION OF TIC-TAC-TOE BOARD**\n",
    "<br />\n",
    "\n",
    "* For our tic-tac-toe board, we will use a nested list with dimensions 3 by 3.\n",
    "* Make a function `create_board()` that creates such a board with the value of each cell set to the integer 0.\n",
    "* Call `create_board()` and store it.\n",
    "<br /><br />\n",
    "\n",
    "    \n",
    "</div>"
   ]
  },
  {
   "cell_type": "code",
   "execution_count": 3,
   "metadata": {
    "id": "r8dbDDVu-jJ5"
   },
   "outputs": [],
   "source": [
    "#Helper function to display board --> Use `display_board` whenever you want to print board.\n",
    "def display_board(board):\n",
    "    for i in board:\n",
    "        print(i)"
   ]
  },
  {
   "cell_type": "code",
   "execution_count": 4,
   "metadata": {
    "id": "zxC806Ai-jJ6"
   },
   "outputs": [
    {
     "name": "stdout",
     "output_type": "stream",
     "text": [
      "[[0, 0, 0], [0, 0, 0], [0, 0, 0]]\n"
     ]
    }
   ],
   "source": [
    "### edTest(test_1) ###\n",
    "## DO NOT REMOVE ABOVE LINE ##\n",
    "\n",
    "#------------START OF FUNCTION DEFINITION--------------------------#\n",
    "\n",
    "# Define the create_board() function\n",
    "def create_board():\n",
    "    # Initialize a list of list containing 0s\n",
    "    board = [\n",
    "             [0, 0, 0],\n",
    "             [0, 0, 0],\n",
    "             [0, 0, 0]\n",
    "            ]\n",
    "    # Return the board initialized\n",
    "    return board\n",
    "\n",
    "#--------------END OF FUNCTION DEFINITION -------------------------#\n",
    "\n",
    "\n",
    "# Store your new board in variable and use this variable for the next couple of questions\n",
    "board = create_board()\n",
    "\n",
    "# Display your board - use `display_board()` helper function\n",
    "print(board)"
   ]
  },
  {
   "cell_type": "markdown",
   "metadata": {
    "id": "sgSP061I-jJ7"
   },
   "source": [
    "<div class=\"alert alert-block alert-danger\" style=\"color:black;background-color:#E7F4FA\">\n",
    "\n",
    "### **1.2 [10 points] PLACING MARKERS ON BOARD**\n",
    "<br />\n",
    "\n",
    "Players 1 and 2 will take turns changing values of this array from a 0 to a 1 or 2, indicating the number of the player who places a marker there. We will then determine which positions are available to either player for placing their marker.\n",
    "\n",
    "<br /><br />\n",
    "\n",
    "**1.2.1** - Create a function to place a marker.\n",
    "* Create a function `place(board, player, position)`, where:\n",
    "    * player is the current player (an integer 1 or 2).\n",
    "    * position is a tuple of length 2 specifying a desired location to place their marker.\n",
    "    * Your function should only allow the current player to place a marker on the board (change the board position to their number) only if that position is empty (zero). (This means, you'll change the board position from 0 to the player number).\n",
    "* Use `create_board()` to store a board as board, and use place to have Player 1 place a marker on location (0, 0).\n",
    "\n",
    "<br /><br />\n",
    "\n",
    "\n",
    "    \n",
    "</div>"
   ]
  },
  {
   "cell_type": "code",
   "execution_count": 5,
   "metadata": {
    "id": "eIx7AkjD-jJ8"
   },
   "outputs": [
    {
     "name": "stdout",
     "output_type": "stream",
     "text": [
      "[[1, 0, 0], [0, 0, 0], [0, 0, 0]]\n"
     ]
    }
   ],
   "source": [
    "### edTest(test_2) ###\n",
    "## DO NOT REMOVE ABOVE LINE ##\n",
    "\n",
    "#------------START OF FUNCTION DEFINITION--------------------------#\n",
    "\n",
    "# Define the `place(board, player, position)`\n",
    "def place(board, player, position):\n",
    "\n",
    "    # Check if board position is empty by checking if board[row index][column index] == 0.\n",
    "    # Remember `position[0]` gives you the row index and `position[1]` gives the column index\n",
    "    if board[position[0]][position[1]] == 0:\n",
    "        # if yes, store number of the player in that board position\n",
    "        board[position[0]][position[1]] = player\n",
    "    else:\n",
    "        # else print \"This place has been taken.\"\n",
    "        print(\"This place has been taken.\")\n",
    "\n",
    "#--------------END OF FUNCTION DEFINITION -------------------------#\n",
    "\n",
    "# Call function `place(board, player, position)`\n",
    "place(board, 1, (0, 0))\n",
    "\n",
    "# Display your marked board\n",
    "print(board)\n"
   ]
  },
  {
   "cell_type": "markdown",
   "metadata": {
    "id": "c1cm58-2-jJ8"
   },
   "source": [
    "<div class=\"alert alert-block alert-danger\" style=\"color:black;background-color:#E7F4FA\">\n",
    "\n",
    "**1.2.2** - Determine which positions are available to either player for placing their marker.\n",
    "\n",
    "* Create a function `possibilities(board)` that returns a list of all positions (tuples) on the board that are not occupied (0). <br/>\n",
    "* With the board already defined from previous section, call `possibilities(board)` to see what it returns.\n",
    "\n",
    "<br /><br />\n",
    "    \n",
    "</div>"
   ]
  },
  {
   "cell_type": "code",
   "execution_count": 6,
   "metadata": {
    "id": "0pm8p8k9-jJ9"
   },
   "outputs": [
    {
     "name": "stdout",
     "output_type": "stream",
     "text": [
      "[(0, 1), (0, 2), (1, 0), (1, 1), (1, 2), (2, 0), (2, 1), (2, 2)]\n"
     ]
    }
   ],
   "source": [
    "### edTest(test_3) ###\n",
    "## DO NOT REMOVE ABOVE LINE ##\n",
    "\n",
    "#------------START OF FUNCTION DEFINITION--------------------------#\n",
    "\n",
    "# Define the `possibilities(board)` function\n",
    "# Function to return possibilities where Player can place markers\n",
    "# which are basically all those positions that are not occupied.\n",
    "def possibilities(board):\n",
    "\n",
    "    # Intialize an empty list named `locations`\n",
    "    locations = []\n",
    "\n",
    "    # Loop through the rows of the board (Hint: Loop through the range of the length of the board)\n",
    "    for row in range(len(board)):\n",
    "\n",
    "        # Fetch the row from the board by using 'row' index (Hint: This is the nested list inside)\n",
    "        row_instance = board[row]\n",
    "\n",
    "        # Loop through columns of the row_instance (Hint: Loop through the range of the length of the row_instance)\n",
    "        for col in range(len(row_instance)):\n",
    "\n",
    "            # if the board position indexed by 'row' and 'col' contains '0'\n",
    "            if board[row][col] == 0:\n",
    "\n",
    "                # Append this position index i.e row and col, as a tuple to locations list\n",
    "                locations.append((row, col))\n",
    "\n",
    "    # Return the locations\n",
    "    return locations\n",
    "\n",
    "#--------------END OF FUNCTION DEFINITION -------------------------#\n",
    "\n",
    "# Call the function and store results\n",
    "p = possibilities(board)\n",
    "print(p)\n"
   ]
  },
  {
   "cell_type": "markdown",
   "metadata": {
    "id": "eAy9XZhR-jJ9"
   },
   "source": [
    "<div class=\"alert alert-block alert-danger\" style=\"color:black;background-color:#E7F4FA\">\n",
    "\n",
    "**1.2.3** - Make both players place three markers each on available positions on board.\n",
    "\n",
    "* Write a function `random_place(board, player)` that places a marker for the current player at random among all the available positions (those currently set to 0).\n",
    "    * Find possible placements with `possibilities(board)`.\n",
    "    * Select one possible placement at random using `random.choice(selection)`.\n",
    "* Create a new board and call `random_place(board, player)` to place three markers each on board for players 1 and 2. Print your board subsequently.\n",
    "    \n",
    "<br /><br />\n",
    "    \n",
    "</div>"
   ]
  },
  {
   "cell_type": "code",
   "execution_count": 7,
   "metadata": {
    "id": "SHnIIhet-jJ-"
   },
   "outputs": [
    {
     "name": "stdout",
     "output_type": "stream",
     "text": [
      "[[1, 0, 1], [2, 2, 0], [1, 2, 0]]\n"
     ]
    }
   ],
   "source": [
    "### edTest(test_4) ###\n",
    "## DO NOT REMOVE ABOVE LINE ##\n",
    "\n",
    "# setting random seed to 22 - DO NOT CHANGE THIS.\n",
    "random.seed(22)\n",
    "\n",
    "#------------START OF FUNCTION DEFINITION--------------------------#\n",
    "\n",
    "# Define the `random_place(board, player)` function\n",
    "# Create a function to randomly place markers in available positions\n",
    "def random_place(board, player):\n",
    "\n",
    "    # get the locations of the available positions (Hint: Use previously defined `possibilities` function)\n",
    "    locs = possibilities(board)\n",
    "\n",
    "    # Using random.choice select one position from `locs`\n",
    "    pos = random.choice(locs)\n",
    "\n",
    "    # place player marker on the board in the location chosen (Hint: Use the `place` function defined)\n",
    "    place(board, player, pos)\n",
    "\n",
    "#--------------END OF FUNCTION DEFINITION -------------------------#\n",
    "\n",
    "# Create a new board\n",
    "board = create_board()\n",
    "\n",
    "# Loop through the no. of rows and randomly place the markers\n",
    "# in available positions for both player 1 and player 2\n",
    "for i in range(3):\n",
    "    # place random markers for player 1\n",
    "    random_place(board, 1)\n",
    "    # place random markers for player 2\n",
    "    random_place(board, 2)\n",
    "\n",
    "# Display the board\n",
    "print(board)\n"
   ]
  },
  {
   "cell_type": "markdown",
   "metadata": {
    "id": "nBgBKgKE-jJ-"
   },
   "source": [
    "<div class=\"alert alert-block alert-danger\" style=\"color:black;background-color:#E7F4FA\">\n",
    "\n",
    "### **1.3 [15 points] DETERMINING WHO WON**\n",
    "<br />\n",
    "\n",
    "**1.3.1** - Check if there is a row wise win. (This means that the player has placed consecutively across a row.)\n",
    "\n",
    "* Make a function `row_win(board, player)` that takes the player (integer) and determines if any row consists of only their marker.\n",
    "* Have it return True if this condition is met and False otherwise.\n",
    "* With the board already defined from previous exercises, call `row_win` to check if Player 1 has a complete row.\n",
    "\n",
    "<br /><br />\n",
    "    \n",
    "</div>"
   ]
  },
  {
   "cell_type": "code",
   "execution_count": 8,
   "metadata": {
    "id": "zkyHPR5Z-jJ-"
   },
   "outputs": [],
   "source": [
    "### edTest(test_5) ###\n",
    "## DO NOT REMOVE ABOVE LINE ##\n",
    "\n",
    "#------------START OF FUNCTION DEFINITION--------------------------#\n",
    "\n",
    "# Define the `row_win(board, player)` function\n",
    "# Eg:\n",
    "# [2,1,2]\n",
    "# [2,2,2]\n",
    "# [1,2,1]\n",
    "# Since there are 3 '2s' in row no. 2, player 2 has a row wise win.\n",
    "\n",
    "def row_win(board, player):\n",
    "\n",
    "    # Loop through the individual rows in the board\n",
    "    for row in board:\n",
    "\n",
    "        # if the count of player number in the row is 3\n",
    "        if row.count(player) == 3:\n",
    "\n",
    "            # return True (because the player has won.)\n",
    "            return True\n",
    "\n",
    "    # If no one has complete row win, return False\n",
    "    return False\n",
    "\n",
    "#--------------END OF FUNCTION DEFINITION -------------------------#\n",
    "\n",
    "# Call your function for player 1 and store the result\n",
    "is_winner = row_win(board, 1)\n"
   ]
  },
  {
   "cell_type": "markdown",
   "metadata": {
    "id": "kkx5wYKi-jJ_"
   },
   "source": [
    "<div class=\"alert alert-block alert-danger\" style=\"color:black;background-color:#E7F4FA\">\n",
    "\n",
    "**1.3.2** - Check if there is a column wise win. (This means that the player has placed consecutively across a column.)\n",
    "\n",
    "* Make a function col_win(board, player) that takes the player (integer) and determines if any column consists of only their marker.\n",
    "* Have it return True if this condition is met and False otherwise.\n",
    "* With the board already defined from the previous section, call col_win to check if Player 1 has a complete row.\n",
    "\n",
    "<br /><br />\n",
    "    \n",
    "</div>"
   ]
  },
  {
   "cell_type": "code",
   "execution_count": 9,
   "metadata": {
    "id": "qWOBBK_L-jJ_"
   },
   "outputs": [],
   "source": [
    "### edTest(test_6) ###\n",
    "## DO NOT REMOVE ABOVE LINE ##\n",
    "\n",
    "#------------START OF FUNCTION DEFINITION--------------------------#\n",
    "\n",
    "# Define the `col_win(board, player)` function\n",
    "# Eg:\n",
    "# [2,1,2]\n",
    "# [1,1,2]\n",
    "# [2,1,1]\n",
    "# Since there are 3 '1s' in the column 2, Player 1 has a column wise win.\n",
    "\n",
    "def col_win(board, player):\n",
    "\n",
    "    # Go through col_index of board by looping through range the no. of columns present\n",
    "    for col_index in range(len(board[0])):\n",
    "\n",
    "        # Intialize empty temp list to store col values\n",
    "        temp = []\n",
    "\n",
    "        # Loop through row in board\n",
    "        for row in board:\n",
    "\n",
    "            # Append the col wise values to temp list (Hint: obtain col_index'ed value from row)\n",
    "            temp.append(row[col_index])\n",
    "\n",
    "        # Check if the temp list contains only player markers i.e 3\n",
    "        if temp.count(player) == 3:\n",
    "\n",
    "            # return True since this means the player has won\n",
    "            return True\n",
    "\n",
    "    # return false if no col-wise win found\n",
    "    return False\n",
    "\n",
    "#--------------END OF FUNCTION DEFINITION -------------------------#\n",
    "\n",
    "# Call your function for player 1 and store the result\n",
    "is_winner = col_win(board, 1)\n"
   ]
  },
  {
   "cell_type": "markdown",
   "metadata": {
    "id": "3BT2cL-M-jKD"
   },
   "source": [
    "<div class=\"alert alert-block alert-danger\" style=\"color:black;background-color:#E7F4FA\">\n",
    "\n",
    "**1.3.3** - Check if there is a diagonal wise win. (This means that the player has placed consecutively across both diagonals.)\n",
    "\n",
    "* Finally, create a function diag_win(board, player) that tests if either diagonal of the board consists of only their marker.\n",
    "* Have it return True if this condition is met, and False otherwise.\n",
    "* With the board slightly modified from the previous section, call diag_win to check if Player 2 has a complete diagonal.\n",
    "\n",
    "<br /><br />\n",
    "\n",
    "</div>"
   ]
  },
  {
   "cell_type": "code",
   "execution_count": 10,
   "metadata": {
    "id": "lTDWox5n-jKE"
   },
   "outputs": [],
   "source": [
    "### edTest(test_7) ###\n",
    "## DO NOT REMOVE ABOVE LINE ##\n",
    "\n",
    "#------------START OF FUNCTION DEFINITION--------------------------#\n",
    "\n",
    "# Define the `diag_win(board, player)` function\n",
    "# Eg:\n",
    "# [1,2,2]\n",
    "# [2,1,2]\n",
    "# [2,1,1]\n",
    "# Since there are 3 '1s' across the diagonal, player 1 has a diagonal wise win.\n",
    "\n",
    "def diag_win(board, player):\n",
    "\n",
    "    # Checking elements in index position (0,0), (1,1), (2,2) i.e the diagonal left to right\n",
    "\n",
    "    # Initialize index value to 0\n",
    "    index = 0\n",
    "\n",
    "    # Create an empty temp list\n",
    "    temp = []\n",
    "\n",
    "    # Loop through the row in the board\n",
    "    for row in board:\n",
    "\n",
    "        # Append the diagonal values to the temp list (Hint: get the index'ed value from `row`)\n",
    "        temp.append(row[index])\n",
    "\n",
    "        # Increase index by 1\n",
    "        index += 1\n",
    "\n",
    "    # Check if all the values are of one player values i.e is 3\n",
    "    if temp.count(player) == 3:\n",
    "        # Return True since this means there is a diagonal wise win\n",
    "        return True\n",
    "\n",
    "    # Follow similar steps above except now, we are checking the diagonal from right to left\n",
    "    # Checking elements in index position (0,2), (1,1), (2,0)\n",
    "\n",
    "    # Initialize index value to the length of board minus 1\n",
    "    index = len(board) - 1\n",
    "\n",
    "    # Initialize empty temp list\n",
    "    temp = []\n",
    "\n",
    "    # Loop through the row in the board\n",
    "    for row in board:\n",
    "\n",
    "        # Append the diagonal values to the temp list (Hint: get the index'ed value from `row`)\n",
    "        temp.append(row[index])\n",
    "\n",
    "        # Decrease the index value by 1\n",
    "        index -= 1\n",
    "\n",
    "    # Check if all the values are of one player values\n",
    "    if temp.count(player) == 3:\n",
    "        # Return True since this means there is a diagonal wise win\n",
    "        return True\n",
    "\n",
    "    # else return False if there is no diagonal-wise win\n",
    "    return False\n",
    "\n",
    "#--------------END OF FUNCTION DEFINITION -------------------------#\n",
    "\n",
    "# Call your function to see if anyone has won\n",
    "is_winner = diag_win(board, 1)\n"
   ]
  },
  {
   "cell_type": "markdown",
   "metadata": {
    "id": "1VhbSEKo-jKF"
   },
   "source": [
    "<div class=\"alert alert-block alert-danger\" style=\"color:black;background-color:#E7F4FA\">\n",
    "\n",
    "**1.3.4** - Create a function to determine the winner.\n",
    "\n",
    "* Create a function `evaluate(board)` that uses `row_win`, `col_win`, and `diag_win` functions for both players.\n",
    "* If one of them has won, return that player's number. If the board is full but no one has won, return -1. Otherwise, return 0.\n",
    "* With the board already defined from the previous section, call `evaluate` to see if either player has won the game yet.\n",
    "    \n",
    "<br /><br />  \n",
    "\n",
    "</div>"
   ]
  },
  {
   "cell_type": "code",
   "execution_count": 11,
   "metadata": {
    "id": "UdEiu03U-jKG"
   },
   "outputs": [],
   "source": [
    "### edTest(test_8) ###\n",
    "## DO NOT REMOVE ABOVE LINE ##\n",
    "\n",
    "#------------START OF FUNCTION DEFINITION--------------------------#\n",
    "\n",
    "# Define the `evaluate(board)` function\n",
    "def evaluate(board):\n",
    "\n",
    "    # Intialize winner variable with 0\n",
    "    winner = 0\n",
    "\n",
    "    # Go through each player markers i.e [1,2]\n",
    "    for player in [1, 2]:\n",
    "\n",
    "        # Check for all types of wins i.e row_win or col_win or diag_win\n",
    "        if row_win(board, player) or col_win(board, player) or diag_win(board, player):\n",
    "\n",
    "            # if player has won in any of them, store them as winner\n",
    "            winner = player\n",
    "\n",
    "    # In the case there is no winner, we want to make sure of that all the positions\n",
    "    # has been played. If all positions has been played, and there is still no win,\n",
    "    # we will return -1 to denote a tie or draw.\n",
    "\n",
    "    # Check if there are any positions in the board that hasn't been played\n",
    "    # i.e are there any 0's in the board\n",
    "    # and check if winner is 0\n",
    "    if [y for x in board for y in x].count(0) == 0 and winner == 0:\n",
    "\n",
    "        # Return winner as -1 since both did not win\n",
    "        winner = -1\n",
    "\n",
    "    # Return winner\n",
    "    return winner\n",
    "\n",
    "#--------------END OF FUNCTION DEFINITION -------------------------#\n",
    "\n",
    "# Call your function and check if anyone won\n",
    "is_winner = evaluate(board)\n"
   ]
  },
  {
   "cell_type": "markdown",
   "metadata": {
    "id": "UbaY6F63-jKH"
   },
   "source": [
    "<div class=\"alert alert-block alert-danger\" style=\"color:black;background-color:#E7F4FA\">\n",
    "\n",
    "### **1.4 [15 points] SIMULATING THE GAME**\n",
    "<br />\n",
    "\n",
    "You will use all the functions you have made to simulate an entire game.\n",
    "\n",
    "**1.4.1** - Simulate a game using random positions i.e. without using a strategy.\n",
    "    \n",
    "* `create_board()`, `random_place(board, player)`, and `evaluate(board`) have been created in previous exercises. Create a function `play_game()` that:\n",
    "    * Creates a board.\n",
    "    * Alternates taking turns between two players (beginning with Player 1), placing a marker during each turn.\n",
    "    * Evaluates the board for a winner after each placement.\n",
    "    * Continues the game until one player wins (returning 1 or 2 to reflect the winning player), or the game is a draw (returning -1).\n",
    "* Call `play_game` 1000 times, and store the results of the game in a list called `results`.\n",
    "\n",
    "<br /><br />\n",
    "    \n",
    "</div>"
   ]
  },
  {
   "cell_type": "code",
   "execution_count": 12,
   "metadata": {
    "id": "7IXh8Xfp-jKH"
   },
   "outputs": [
    {
     "name": "stdout",
     "output_type": "stream",
     "text": [
      "No. of wins for Player 1: 560\n",
      "No. of wins for Player 2: 296\n",
      "No. of no wins: 144\n"
     ]
    }
   ],
   "source": [
    "### edTest(test_9) ###\n",
    "## DO NOT REMOVE ABOVE LINE ##\n",
    "\n",
    "#setting random seed to 22 - DO NOT CHANGE THIS.\n",
    "random.seed(22)\n",
    "\n",
    "#------------START OF FUNCTION DEFINITION--------------------------#\n",
    "\n",
    "# Define your function `play_game()`\n",
    "def play_game():\n",
    "\n",
    "    #Create a new board\n",
    "    board = create_board()\n",
    "\n",
    "    #Choose your first player marker i.e 1\n",
    "    player = 1\n",
    "\n",
    "    #Initialize result as 0\n",
    "    result = 0\n",
    "\n",
    "    #While result is still 0 i.e no win has happened\n",
    "    while result == 0:\n",
    "\n",
    "        #Randomly place the marker on the board calling the `random_place` function\n",
    "        random_place(board, player)\n",
    "\n",
    "        #Now it is time for the other player to place marker\n",
    "        #If player is not 2\n",
    "        if player % 2 != 0:\n",
    "            #make the new player 2 (this means the previous player was player 1)\n",
    "            player = 2\n",
    "        else:\n",
    "            #else make the new player 1 (this means the previous player was player 2)\n",
    "            player = 1\n",
    "\n",
    "        #evalute the board to check for winners by calling the `evalute` function\n",
    "        result = evaluate(board)\n",
    "\n",
    "    #return the result\n",
    "    return result\n",
    "\n",
    "#--------------END OF FUNCTION DEFINITION -------------------------#\n",
    "\n",
    "\n",
    "# Play the game 1000 times and store the results by calling `play_game`\n",
    "results = [play_game() for _ in range(1000)]\n",
    "\n",
    "# Store the no. of wins for Player 1 (Hint: You can use the .count function)\n",
    "player_1_wins = results.count(1)\n",
    "\n",
    "# Store the no. of wins for Player 2 (Hint: You can use the .count function)\n",
    "player_2_wins = results.count(2)\n",
    "\n",
    "# Store the no. of no wins (Hint: You can use the .count function)\n",
    "no_wins = results.count(-1)\n",
    "\n",
    "# How many wins for Player 1?\n",
    "print(f'No. of wins for Player 1: {player_1_wins}')\n",
    "\n",
    "# How many wins for Player 2?\n",
    "print(f'No. of wins for Player 2: {player_2_wins}')\n",
    "\n",
    "# How many no wins for both?\n",
    "print(f'No. of no wins: {no_wins}')\n"
   ]
  },
  {
   "cell_type": "markdown",
   "metadata": {
    "id": "Er0EdXuQ-jKI"
   },
   "source": [
    "<div class=\"alert alert-block alert-danger\" style=\"color:black;background-color:#E7F4FA\">\n",
    "\n",
    "**1.4.2** - Simulate a game using the strategy - \"always start in the middle square\".\n",
    "\n",
    "* Create a function play_strategic_game(), where Player 1 always starts with the middle square, and otherwise both players place their markers randomly.\n",
    "\n",
    "* Call play_strategic_game 1000 times.\n",
    "\n",
    "<br /><br />\n",
    "    \n",
    "</div>"
   ]
  },
  {
   "cell_type": "code",
   "execution_count": 13,
   "metadata": {
    "id": "3W8v3ENa-jKK"
   },
   "outputs": [
    {
     "name": "stdout",
     "output_type": "stream",
     "text": [
      "No. of wins for Player 1 : 690\n",
      "No. of wins for Player 2 : 208\n",
      "No. of no wins : 102\n"
     ]
    }
   ],
   "source": [
    "### edTest(test_10) ###\n",
    "## DO NOT REMOVE ABOVE LINE ##\n",
    "\n",
    "#setting random seed to 22 - DO NOT CHANGE THIS.\n",
    "random.seed(22)\n",
    "\n",
    "import random\n",
    "\n",
    "#setting random seed to 22 - DO NOT CHANGE THIS.\n",
    "random.seed(22)\n",
    "\n",
    "#------------START OF FUNCTION DEFINITION--------------------------#\n",
    "\n",
    "# Define your function `play_strategic_game()`\n",
    "def play_strategic_game():\n",
    "\n",
    "    #Create a new board\n",
    "    board = create_board()\n",
    "\n",
    "    #Player 1 strategy is to place the first marker always in the middle\n",
    "    #Place 1 in middle of the board\n",
    "    place(board, 1, (1, 1))\n",
    "\n",
    "    #Store 2 as player since player 1 turn above is done\n",
    "    player = 2\n",
    "\n",
    "    #Initialize the result as 0\n",
    "    result = 0\n",
    "\n",
    "    #While result is still 0 i.e no win has happened\n",
    "    while result == 0:\n",
    "\n",
    "        #Randomly place the marker on the board calling the `random_place` function\n",
    "        random_place(board, player)\n",
    "\n",
    "        #Now it is time for the other player to place marker\n",
    "        #If player is not 2\n",
    "        if player != 2:\n",
    "            #make the new player 2 (this means the previous player was player 1)\n",
    "            player = 2\n",
    "        else:\n",
    "            #else make the new player 1 (this means the previous player was player 2)\n",
    "            player = 1\n",
    "\n",
    "        #evalute the board to check for winners by calling the `evalute` function\n",
    "        result = evaluate(board)\n",
    "\n",
    "    #return result\n",
    "    return result\n",
    "\n",
    "#--------------END OF FUNCTION DEFINITION -------------------------#\n",
    "\n",
    "\n",
    "# Play the game 1000 times and store the results by calling `play_strategic_game`\n",
    "results = [play_strategic_game() for _ in range(1000)]\n",
    "\n",
    "# Store the no. of wins for Player 1 (Hint: You can use the .count function)\n",
    "player_1_wins = results.count(1)\n",
    "\n",
    "#Store the no. of wins for Player 2 (Hint: You can use the .count function)\n",
    "player_2_wins = results.count(2)\n",
    "\n",
    "#store the no. of no wins (Hint: You can use the .count function)\n",
    "no_wins = results.count(-1)\n",
    "\n",
    "#How many wins for Player 1?\n",
    "print(f'No. of wins for Player 1 : {player_1_wins}')\n",
    "\n",
    "#How many wins for Player 2?\n",
    "print(f'No. of wins for Player 2 : {player_2_wins}')\n",
    "\n",
    "#How many no wins for both?\n",
    "print(f'No. of no wins : {no_wins}')\n"
   ]
  },
  {
   "cell_type": "markdown",
   "metadata": {
    "id": "qIJwB36neBMJ"
   },
   "source": [
    "## ⏸ Pause & Think\n",
    "\n",
    "Take a few moments to summarize and discuss the steps taken to solve the given problem.\n",
    "\n"
   ]
  },
  {
   "cell_type": "markdown",
   "metadata": {
    "id": "nUSjPWzteb4h"
   },
   "source": [
    "Your answer here."
   ]
  },
  {
   "cell_type": "code",
   "execution_count": null,
   "metadata": {},
   "outputs": [],
   "source": []
  }
 ],
 "metadata": {
  "colab": {
   "provenance": [
    {
     "file_id": "1O6Ap8jg4pWLBwAAnSkNpb_esvOt3t55x",
     "timestamp": 1689850630028
    }
   ]
  },
  "kernelspec": {
   "display_name": "Python 3 (ipykernel)",
   "language": "python",
   "name": "python3"
  },
  "language_info": {
   "codemirror_mode": {
    "name": "ipython",
    "version": 3
   },
   "file_extension": ".py",
   "mimetype": "text/x-python",
   "name": "python",
   "nbconvert_exporter": "python",
   "pygments_lexer": "ipython3",
   "version": "3.9.7"
  }
 },
 "nbformat": 4,
 "nbformat_minor": 4
}
