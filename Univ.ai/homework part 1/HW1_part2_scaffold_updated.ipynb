{
 "cells": [
  {
   "cell_type": "markdown",
   "metadata": {},
   "source": [
    "![](https://drive.google.com/uc?id=1-KqvmRic4EEYrDblHAwY0cne0__2OSsh)\n",
    "\n",
    "# AI0: The Basics of Data Science\n",
    "## Homework 1: String Manipulation, Data Structures and Classes\n",
    "\n",
    "#### **PART 2 [50 points]: Creating your own Cipher using string manipulations**\n",
    "\n",
    "**Univ.AI**<br/>\n",
    "\n",
    "<hr style=\"height:2.4pt\">"
   ]
  },
  {
   "cell_type": "markdown",
   "metadata": {},
   "source": [
    "### INSTRUCTIONS\n",
    "\n",
    "\n",
    "- This homework is a jupyter notebook. You can work on it on the platform  (recommended) or download it to your local machine and upload a copy without deleting the ***### edTest ###*** cells.\n",
    "\n",
    "- Remember to hit the `Save` button each time you edit this file to avoid losing any progress. \n",
    "\n",
    "- Running cells out of order is a common pitfall in Jupyter Notebooks. To make sure your code works restart the kernel and run the whole notebook again before you submit. Use the `Run all` button.\n",
    "\n",
    "- If you choose to download the notebook and work locally, please make sure to retain the same file name when submitting it. To submit the homework, upload the working notebook on the platform and click the `Submit` button on the top right corner. The platform will alert you of a new file with the same name. Click `Overwrite` to continue with your new version.\n",
    "\n",
    "- `Submit` the homework well before the given deadline. Submissions after the deadline will not be graded.\n",
    "\n",
    "- We have tried to include all the libraries you may need to do the assignment in the `import` statement at the top of this notebook. We strongly suggest that you use those and not others as we may not be familiar with them.\n",
    "\n",
    "- ***Comment your code well. This would help the graders in case there is any issue with the notebook while running. It is important to remember that the graders will not troubleshoot your code.***\n",
    "\n",
    "<font color=\"red\"> \n",
    "\n",
    "**IMPORTANT** \n",
    "\n",
    "- Plagiarism of code/blocks of text is not acceptable for any Univ.AI submissions.\n",
    "- You are allowed to refer to a publicly available source of information for a SMALL chunk of code  provided you cite it clearly. \n",
    "- Copying the code blatantly without attribution is not permitted in any case. \n",
    "- Sharing code between homework teams is strictly not allowed. In case of any confusion, you are advised to ask the staff on the Discussion Forum rather than assume the course of action needed.\n",
    "- If caught plagiarizing, you risk expulsion from the program.\n",
    "- All course materials, including but not limited to homework assignments, exercises, lecture content, and supplementary resources, are the exclusive property of Univ.AI and the course instructors. These materials are provided to enhance your learning experience and should not be redistributed, shared, or published without explicit permission.\n",
    "\n",
    "</font>\n",
    "\n",
    "<hr style=\"height:2pt\">"
   ]
  },
  {
   "cell_type": "markdown",
   "metadata": {},
   "source": [
    "### Your Name\n",
    "Rahul Kumar Gupta"
   ]
  },
  {
   "cell_type": "markdown",
   "metadata": {},
   "source": [
    "___"
   ]
  },
  {
   "cell_type": "markdown",
   "metadata": {
    "id": "f6xxewxt_X8j"
   },
   "source": [
    "<div class=\"alert alert-block alert-danger\" style=\"color:black;background-color:#E7F4FA\">\n",
    "    \n",
    "## **PART 2 [50 points]: Creating your own Cipher using string manipulations**\n",
    "<br />    \n",
    "\n",
    "A cipher is a secret code for a language. In this case study, we will explore a cipher that is reported by contemporary Greek historians to have been used by Julius Caesar to send secret messages to generals during times of war.\n",
    "\n",
    "The Caesar cipher shifts each letter of a message to another letter in the alphabet located a fixed distance from the original letter. If our encryption key were `1`, we would shift `h` to the next letter `i`, `i` to the next letter `j`, and so on. If we reach the end of the alphabet, which for us is the space character, we simply loop back to `a`. To decode the message, we make a similar shift, except we move the same number of steps backward in the alphabet.\n",
    "\n",
    "To encode something is to change information from one form to another following a certain set of rules, such as using the Caesar shift to encode normal sentences. Decoding is to retrieve the original information from an encoded form.\n",
    "\n",
    "<div style=\"text-align: center;\">\n",
    "<img src=\"https://media.giphy.com/media/3IpHeyAdAmjQI/giphy.gif\"  style=\"display: block; margin: 0 auto;\">\n",
    "</div>\n",
    "\n",
    "In this part of the homework, you will use the tools & concepts you have learned past few weeks to slowly work out encoding, decoding a message and guessing the key of an encoded message. You will decode using a basic strategy of frequency counting.\n",
    "    \n",
    "</div>\n",
    "    "
   ]
  },
  {
   "cell_type": "code",
   "execution_count": 7,
   "metadata": {
    "id": "AuJS1zNQ_X8n"
   },
   "outputs": [],
   "source": [
    "# RUN THIS CELL\n",
    "# import libraries\n",
    "import string\n",
    "import this\n",
    "from collections import Counter"
   ]
  },
  {
   "cell_type": "markdown",
   "metadata": {
    "id": "dBoaFsx5_X8q"
   },
   "source": [
    "<div class=\"alert alert-block alert-danger\" style=\"color:black;background-color:#E7F4FA\">\n",
    "    \n",
    "## **2.1 Prepare tools [5 marks]**\n",
    "\n",
    "### Instructions\n",
    "\n",
    "- Create a string called `alphabet` consisting of all the lowercase alphabets (you can use string library methods).  \n",
    " **Note that we're only using lowercase letters in this exercise. Hence convert all strings to lowercase before encoding**\n",
    "\n",
    "- Create a dictionary with keys consisting of the characters in alphabet and values consisting of the numbers from 0 to 25.\n",
    "- Store this as `position`.\n",
    "</div>"
   ]
  },
  {
   "cell_type": "code",
   "execution_count": 8,
   "metadata": {
    "id": "PSwuQdFd_X8r"
   },
   "outputs": [],
   "source": [
    "# Your code here\n",
    "alphabet = string.ascii_lowercase"
   ]
  },
  {
   "cell_type": "code",
   "execution_count": 9,
   "metadata": {
    "id": "38yds0NY_X8r"
   },
   "outputs": [
    {
     "name": "stdout",
     "output_type": "stream",
     "text": [
      "{'a': 0, 'b': 1, 'c': 2, 'd': 3, 'e': 4, 'f': 5, 'g': 6, 'h': 7, 'i': 8, 'j': 9, 'k': 10, 'l': 11, 'm': 12, 'n': 13, 'o': 14, 'p': 15, 'q': 16, 'r': 17, 's': 18, 't': 19, 'u': 20, 'v': 21, 'w': 22, 'x': 23, 'y': 24, 'z': 25}\n"
     ]
    }
   ],
   "source": [
    "### edTest(test_position) ###\n",
    "# Your code here\n",
    "position = {a:index for index,a in enumerate(alphabet)}\n",
    "print(position)"
   ]
  },
  {
   "cell_type": "markdown",
   "metadata": {
    "id": "S71-bc8G_X8s"
   },
   "source": [
    "<div class=\"alert alert-block alert-danger\" style=\"color:black;background-color:#E7F4FA\">\n",
    "    \n",
    "## **2.2 Encode a message [5 marks]**\n",
    "### Instructions\n",
    "- You are provided with `message`.\n",
    "- Using `alphabet` and `position` create an encoded message where each character in `message` has been shifted forward by 1 position.\n",
    "\n",
    "- You can ensure the result remains within 0-26 using `result % 26`.\n",
    "- **Note : Keep in mind that the message has blank spaces `' '`. Shift alphabets by 1 position, but keep the blank spaces as it is.**\n",
    "- Store this as `encoded_message`.\n",
    "</div>"
   ]
  },
  {
   "cell_type": "code",
   "execution_count": 10,
   "metadata": {
    "id": "Z-pF6weq_X8s"
   },
   "outputs": [
    {
     "name": "stdout",
     "output_type": "stream",
     "text": [
      "uijt nfttbhf jt b mjf\n"
     ]
    }
   ],
   "source": [
    "### edTest(test_encode) ###\n",
    "# Your code below\n",
    "message = \"this message is a lie\"\n",
    "temp = ''\n",
    "for char in message:\n",
    "    if char in alphabet:\n",
    "        val = position[char]\n",
    "        val+=1 \n",
    "        val%=26\n",
    "        for key, value in position.items():\n",
    "            if value == val:\n",
    "                char = key\n",
    "   \n",
    "    temp+=char\n",
    "encoded_message = temp\n",
    "print(encoded_message)"
   ]
  },
  {
   "cell_type": "markdown",
   "metadata": {
    "id": "4kIrH3rT_X8t"
   },
   "source": [
    "<div class=\"alert alert-block alert-danger\" style=\"color:black;background-color:#E7F4FA\">\n",
    "\n",
    "## ⏸ What will be the result if I encode `encoded_message` with key 26? [1 mark]\n",
    "\n",
    "#### A. `'uijt nfttbhf jt b mjf'`\n",
    "#### B. `'sgjt ldrrzfd hr z khd'`\n",
    "#### C. `'this message is a lie'`\n",
    "#### D. `'vjku oguucig ku c nkg'`\n",
    "</div>"
   ]
  },
  {
   "cell_type": "code",
   "execution_count": 11,
   "metadata": {
    "id": "zfb8Y4BK_X8v"
   },
   "outputs": [],
   "source": [
    "### edTest(test_chow1) ###\n",
    "# Submit an answer choice as a string below (eg. if you choose option A put 'A')\n",
    "\n",
    "answer = 'C'"
   ]
  },
  {
   "cell_type": "markdown",
   "metadata": {
    "id": "qrPbqG4d_X8v"
   },
   "source": [
    "<div class=\"alert alert-block alert-danger\" style=\"color:black;background-color:#E7F4FA\">\n",
    "\n",
    "## **2.3 Define a Function [10 marks]**\n",
    "### Instructions\n",
    "- Define a function `encoding` that takes a message as input as well as an `int` encryption key `key` to encode a message with the Caesar cipher by shifting each letter in message by key positions.\n",
    "- Your function should return a **string** consisting of these encoded letters.\n",
    "- Use `encoding` to encode `message` using `key = 3` and save the result as `encoded_message`.\n",
    "Display `encoded_message`.\n",
    "\n",
    "**Note : Remember to check your function for multiple strings, we will be marking based on hidden test cases.**\n",
    "</div>"
   ]
  },
  {
   "cell_type": "code",
   "execution_count": 12,
   "metadata": {
    "id": "HRc3Yk_h_X8w"
   },
   "outputs": [],
   "source": [
    "### edTest(test_encodefn) ###\n",
    "# write your code here\n",
    "def encoding(message,key):\n",
    "    temp = ''\n",
    "    for char in message:\n",
    "        if char in alphabet:\n",
    "            val = position[char]\n",
    "            val += key\n",
    "            val%=26\n",
    "            for k, v in position.items():\n",
    "                if val == v:\n",
    "                    char = k\n",
    "        temp += char\n",
    "    return temp"
   ]
  },
  {
   "cell_type": "code",
   "execution_count": 13,
   "metadata": {},
   "outputs": [
    {
     "name": "stdout",
     "output_type": "stream",
     "text": [
      "uijt nfttbhf jt b mjf\n",
      "this message is a lie\n"
     ]
    }
   ],
   "source": [
    "mes = 'this message is a lie'\n",
    "encoded_mes = encoding(mes,1)\n",
    "print(encoded_mes)\n",
    "print(encoding(encoded_mes,26-1))"
   ]
  },
  {
   "cell_type": "markdown",
   "metadata": {
    "id": "3o2tSXIE_X8x"
   },
   "source": [
    "<div class=\"alert alert-block alert-danger\" style=\"color:black;background-color:#E7F4FA\">\n",
    "\n",
    "## ⏸ You encoded a message using the key 3, what key should you encode the encoded message with to get the original message back? [1 mark]\n",
    "\n",
    "#### A. `3`\n",
    "#### B. `27 - 3`\n",
    "#### C. `26 - 3`\n",
    "#### D. `6`\n",
    "</div>"
   ]
  },
  {
   "cell_type": "code",
   "execution_count": 14,
   "metadata": {
    "id": "K1sbbqfI_X8x"
   },
   "outputs": [],
   "source": [
    "### edTest(test_chow2) ###\n",
    "# Submit an answer choice as a string below (eg. if you choose option A put 'A')\n",
    "\n",
    "answer = 'C'"
   ]
  },
  {
   "cell_type": "markdown",
   "metadata": {
    "id": "bEN7e2XO_X8y"
   },
   "source": [
    "<div class=\"alert alert-block alert-danger\" style=\"color:black;background-color:#E7F4FA\">\n",
    "\n",
    "## **2.4 Decoding [5 marks]**\n",
    "### Instructions\n",
    "- Figure a way to use `encoding` function to decode `encoded_message`. (Hint : Try to figure out what happens when you encode `encoded_message` with different keys)\n",
    "- Store your decoded message as `decoded_message`.\n",
    "- Display `decoded_message` and compare it with the original `message`.\n",
    "</div>"
   ]
  },
  {
   "cell_type": "code",
   "execution_count": 15,
   "metadata": {
    "id": "KACaIJZl_X8y"
   },
   "outputs": [
    {
     "name": "stdout",
     "output_type": "stream",
     "text": [
      "this message is a lie\n"
     ]
    }
   ],
   "source": [
    "### edTest(test_decode) ###\n",
    "# write your code here!\n",
    "decoded_message = encoding(encoded_message,26-1)\n",
    "print(decoded_message)"
   ]
  },
  {
   "cell_type": "markdown",
   "metadata": {
    "id": "cF42pDLV_X8y"
   },
   "source": [
    "<div class=\"alert alert-block alert-danger\" style=\"color:black;background-color:#E7F4FA\">\n",
    "\n",
    "## **Zen of Python**\n",
    "\n",
    "Take a look at `encoded_message`. This message has been encoded using caesar cipher but the key is unknown.\n",
    "</div>"
   ]
  },
  {
   "cell_type": "code",
   "execution_count": 16,
   "metadata": {
    "id": "lygMqV-l_X8z"
   },
   "outputs": [
    {
     "data": {
      "text/plain": [
       "\"Gur Mra bs Clguba, ol Gvz Crgref\\n\\nOrnhgvshy vf orggre guna htyl.\\nRkcyvpvg vf orggre guna vzcyvpvg.\\nFvzcyr vf orggre guna pbzcyrk.\\nPbzcyrk vf orggre guna pbzcyvpngrq.\\nSyng vf orggre guna arfgrq.\\nFcnefr vf orggre guna qrafr.\\nErnqnovyvgl pbhagf.\\nFcrpvny pnfrf nera'g fcrpvny rabhtu gb oernx gur ehyrf.\\nNygubhtu cenpgvpnyvgl orngf chevgl.\\nReebef fubhyq arire cnff fvyragyl.\\nHayrff rkcyvpvgyl fvyraprq.\\nVa gur snpr bs nzovthvgl, ershfr gur grzcgngvba gb thrff.\\nGurer fubhyq or bar-- naq cersrenoyl bayl bar --boivbhf jnl gb qb vg.\\nNygubhtu gung jnl znl abg or boivbhf ng svefg hayrff lbh'er Qhgpu.\\nAbj vf orggre guna arire.\\nNygubhtu arire vf bsgra orggre guna *evtug* abj.\\nVs gur vzcyrzragngvba vf uneq gb rkcynva, vg'f n onq vqrn.\\nVs gur vzcyrzragngvba vf rnfl gb rkcynva, vg znl or n tbbq vqrn.\\nAnzrfcnprf ner bar ubaxvat terng vqrn -- yrg'f qb zber bs gubfr!\""
      ]
     },
     "execution_count": 16,
     "metadata": {},
     "output_type": "execute_result"
    }
   ],
   "source": [
    "#  RUN THIS CELL\n",
    "encoded_message = this.s\n",
    "encoded_message"
   ]
  },
  {
   "cell_type": "markdown",
   "metadata": {
    "id": "VlHlVkgU_X8z"
   },
   "source": [
    "<div class=\"alert alert-block alert-danger\" style=\"color:black;background-color:#E7F4FA\">\n",
    "\n",
    "## **2.5 Guess the key [10 marks]**\n",
    "A very common way of guessing the key is by counting the frequency of letters in the encoded message. It is usually found that normal text has the letter 'e' which occurs with the most frequency, hence the most frequent character after encoding the text will correspond to the letter 'e'. Since we know the positions of both the most frequent letter and the letter 'e', we can assign the guess key as :\n",
    "\n",
    "`guess_key = 26 - (position[most common] - position['e'])`\n",
    "</div>"
   ]
  },
  {
   "cell_type": "markdown",
   "metadata": {
    "id": "m26E6Oa0_X8z"
   },
   "source": [
    "<div class=\"alert alert-block alert-danger\" style=\"color:black;background-color:#E7F4FA\">\n",
    "\n",
    "### **2.5.1 Frequency [3 marks]**\n",
    "Find out the most frequent character in encoded message.\n",
    "Store the most common character in the `most_common` variable.\n",
    "\n",
    "</div>"
   ]
  },
  {
   "cell_type": "code",
   "execution_count": 17,
   "metadata": {
    "id": "lIJsGeQT_X80"
   },
   "outputs": [
    {
     "name": "stdout",
     "output_type": "stream",
     "text": [
      "r\n"
     ]
    }
   ],
   "source": [
    "### edTest(test_frequency) ###\n",
    "# Your code here\n",
    "freq={}\n",
    "for char in encoded_message:\n",
    "    if char in freq:\n",
    "        freq[char]+=1\n",
    "    else:\n",
    "        freq[char]=1\n",
    "temp_key = ''\n",
    "temp_val = 0\n",
    "for k, v in freq.items(): \n",
    "    if k in alphabet:\n",
    "        if temp_val< v:\n",
    "            temp_key = k\n",
    "            temp_val = v\n",
    "most_common = temp_key\n",
    "print(most_common)"
   ]
  },
  {
   "cell_type": "markdown",
   "metadata": {
    "id": "kA5YlNEI_X80"
   },
   "source": [
    "<div class=\"alert alert-block alert-danger\" style=\"color:black;background-color:#E7F4FA\">\n",
    "\n",
    "### **2.5.2 Guess [3 marks]**\n",
    "Calculate the `guess_key` according to the formula :\n",
    "\n",
    "`26 - (position[most common] - position['e'])`\n",
    "\n",
    "</div>"
   ]
  },
  {
   "cell_type": "code",
   "execution_count": 18,
   "metadata": {
    "id": "u5bfaeMk_X81"
   },
   "outputs": [
    {
     "name": "stdout",
     "output_type": "stream",
     "text": [
      "13\n"
     ]
    }
   ],
   "source": [
    "### edTest(test_key) ###\n",
    "# Your code here\n",
    "guess_key = 26 - (position[most_common] - position['e'])\n",
    "print(guess_key)"
   ]
  },
  {
   "cell_type": "markdown",
   "metadata": {
    "id": "NICwWeAr_X81"
   },
   "source": [
    "<div class=\"alert alert-block alert-danger\" style=\"color:black;background-color:#E7F4FA\">\n",
    "\n",
    "### **2.5.3 Decode [4 marks]**\n",
    "Decode the message using this `guess_key`.\n",
    "</div>"
   ]
  },
  {
   "cell_type": "code",
   "execution_count": 19,
   "metadata": {
    "id": "UDfprdlA_X81"
   },
   "outputs": [
    {
     "name": "stdout",
     "output_type": "stream",
     "text": [
      "the zen of python, by tim peters\n",
      "\n",
      "beautiful is better than ugly.\n",
      "explicit is better than implicit.\n",
      "simple is better than complex.\n",
      "complex is better than complicated.\n",
      "flat is better than nested.\n",
      "sparse is better than dense.\n",
      "readability counts.\n",
      "special cases aren't special enough to break the rules.\n",
      "although practicality beats purity.\n",
      "errors should never pass silently.\n",
      "unless explicitly silenced.\n",
      "in the face of ambiguity, refuse the temptation to guess.\n",
      "there should be one-- and preferably only one --obvious way to do it.\n",
      "although that way may not be obvious at first unless you're dutch.\n",
      "now is better than never.\n",
      "although never is often better than *right* now.\n",
      "if the implementation is hard to explain, it's a bad idea.\n",
      "if the implementation is easy to explain, it may be a good idea.\n",
      "namespaces are one honking great idea -- let's do more of those!\n"
     ]
    }
   ],
   "source": [
    "### edTest(test_dec) ###\n",
    "# Your code here\n",
    "decoded_message = encoding(encoded_message.lower(),guess_key)\n",
    "print(decoded_message)"
   ]
  },
  {
   "cell_type": "markdown",
   "metadata": {
    "id": "1QWMQiU2_X82"
   },
   "source": [
    "<div class=\"alert alert-block alert-danger\" style=\"color:black;background-color:#E7F4FA\">\n",
    "\n",
    "## **2.6 Write a Cipher class [13 marks]**\n",
    "### Instructions\n",
    "- Initialize using a key that is passed during instantiation.\n",
    "- Also, declare `alphabet` which has all lowercase alphabets and `position` which is a dictionary alphabet as key and its position as value. These should be instance variables of the class.\n",
    "- Declare a method called encode, it takes a string as input and encodes the string using the key from the class attribute.\n",
    "- Declare a method called `change_key`. It takes a key as input and modifies the class attribute `key` to the value passed\n",
    "- Declare a method called `guess_key`. It takes an encoded string as input and using the frequency counting method generates a guess key.\n",
    "\n",
    "- Test out your class and its different methods. We will grade you using hidden test cases, so make sure you are confident in your class before submitting it.\n",
    "</div>"
   ]
  },
  {
   "cell_type": "code",
   "execution_count": 20,
   "metadata": {
    "id": "EPRAQpxT_X82"
   },
   "outputs": [],
   "source": [
    "### edTest(test_class) ###\n",
    "#Your code here\n",
    "class Cipher():\n",
    "    \"\"\"\n",
    "    Follow the instructions of this docstring to finish this class.\n",
    "    Cipher will encode data and guess the key for encoded data!\n",
    "\n",
    "    Make sure to save the following instance attributes:\n",
    "    -------\n",
    "    self.key   : key required for implementing caesar cipher\n",
    "    self.alphabet   : string with all lowercase alphabets\n",
    "    self.position : dictionary with alphabets as keys and [0-25] as values\n",
    "\n",
    "    Finish the following Methods\n",
    "    -------\n",
    "    __init__:\n",
    "        1. assign instance variable key to the user value\n",
    "        2. make 2 instance variables 'alphabet' and 'position' as decribed\n",
    "\n",
    "    encode:\n",
    "        arguments: string\n",
    "        1. encode string according to the key in class attribute\n",
    "\n",
    "    change_key:\n",
    "        arguments: new key\n",
    "        1. change the class attribute 'key' to the user argument new key\n",
    "\n",
    "    guess_key:\n",
    "        arguments: string\n",
    "        1. count the frequency of letters in the string\n",
    "        2. generate guess_key by :\n",
    "            guess_key = 26 - (position[most_common] - position['e'])\n",
    "    \"\"\"\n",
    "    def __init__(self,key):\n",
    "        self.key = key\n",
    "        self.alphabet = string.ascii_lowercase\n",
    "        self.position = {char: value for value, char in enumerate(self.alphabet)}\n",
    "    def encode(self,message):\n",
    "        temp = ''\n",
    "        for char in message:\n",
    "            if char in alphabet:\n",
    "                val = position[char]\n",
    "                val+=self.key\n",
    "                val%=26\n",
    "                for k, v in position.items():\n",
    "                    if val==v:\n",
    "                        char = k\n",
    "            temp+=char\n",
    "        return temp\n",
    "    def change_key(self,new_key):\n",
    "        self.key = new_key\n",
    "    def guess_key(self,encoded_message):\n",
    "        freq={}\n",
    "        for char in encoded_message:\n",
    "            if char in freq:\n",
    "                freq[char]+=1\n",
    "            else:\n",
    "                freq[char]=1\n",
    "        temp_key = ''\n",
    "        temp_val = 0\n",
    "        for k, v in freq.items(): \n",
    "            if k in alphabet:\n",
    "                if temp_val< v:\n",
    "                    temp_key = k\n",
    "                    temp_val = v\n",
    "        most_common = temp_key\n",
    "        guess_key = 26 - (position[most_common] - position['e'])\n",
    "        return guess_key"
   ]
  },
  {
   "cell_type": "code",
   "execution_count": 22,
   "metadata": {
    "id": "L11G8zqi_X83"
   },
   "outputs": [
    {
     "name": "stdout",
     "output_type": "stream",
     "text": [
      "Rdkxo Kxpdu Gxswd Rahul Kumar Gupta\n"
     ]
    }
   ],
   "source": [
    "# Test your class here\n",
    "key = 3\n",
    "mystr = 'Rahul Kumar Gupta'\n",
    "\n",
    "mycipher = Cipher(key)\n",
    "encoded = mycipher.encode(mystr)\n",
    "mycipher.change_key(26-3)\n",
    "decoded = mycipher.encode(encoded)\n",
    "print(encoded,decoded)"
   ]
  },
  {
   "cell_type": "markdown",
   "metadata": {
    "id": "qIJwB36neBMJ"
   },
   "source": [
    "## ⏸ Pause & Think\n",
    "\n",
    "Take a few moments to summarize and discuss the steps taken to solve the given problem."
   ]
  },
  {
   "cell_type": "markdown",
   "metadata": {
    "id": "nUSjPWzteb4h"
   },
   "source": [
    "Your answer here."
   ]
  },
  {
   "cell_type": "code",
   "execution_count": 23,
   "metadata": {},
   "outputs": [
    {
     "data": {
      "text/plain": [
       "'firstly we went through what cipher encoding is. then we tried encoding and created a function for it. then we tried decoding the encoded text and finding the key used to encode the message. finally we created a class with all the functions'"
      ]
     },
     "execution_count": 23,
     "metadata": {},
     "output_type": "execute_result"
    }
   ],
   "source": [
    "\"firstly we went through what cipher encoding is. then we tried encoding and created a function for it. then we tried decoding the encoded text and finding the key used to encode the message. finally we created a class with all the functions\""
   ]
  }
 ],
 "metadata": {
  "colab": {
   "provenance": [
    {
     "file_id": "165u3EjLexJLHpzfNMWZH03R6aCmbOtmt",
     "timestamp": 1689867078872
    }
   ]
  },
  "kernelspec": {
   "display_name": "Python 3 (ipykernel)",
   "language": "python",
   "name": "python3"
  },
  "language_info": {
   "codemirror_mode": {
    "name": "ipython",
    "version": 3
   },
   "file_extension": ".py",
   "mimetype": "text/x-python",
   "name": "python",
   "nbconvert_exporter": "python",
   "pygments_lexer": "ipython3",
   "version": "3.9.7"
  }
 },
 "nbformat": 4,
 "nbformat_minor": 4
}
