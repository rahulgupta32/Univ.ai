{
 "cells": [
  {
   "attachments": {},
   "cell_type": "markdown",
   "metadata": {},
   "source": [
    "![](https://drive.google.com/uc?id=1-KqvmRic4EEYrDblHAwY0cne0__2OSsh)\n",
    "\n",
    "# AI0: The Basics of Data Science\n",
    "## Homework 2: Linear Regression & Classification\n",
    "\n",
    "**Univ.AI**<br/>\n",
    "\n",
    "<hr style=\"height:2.4pt\">"
   ]
  },
  {
   "attachments": {},
   "cell_type": "markdown",
   "metadata": {},
   "source": [
    "### INSTRUCTIONS\n",
    "\n",
    "- This homework is a jupyter notebook. You can work on it on the platform (recommended) or download it to your local machine and upload a copy without deleting the **### edTest ###** cells.\n",
    "\n",
    "- Remember to hit the `Save` button each time you edit this file to avoid losing any progress.\n",
    "\n",
    "- Running cells out of order is a common pitfall in Jupyter Notebooks. To make sure your code works restart the kernel and run the whole notebook again before you submit. Use the `Run all` button.\n",
    "\n",
    "- If you choose to download the notebook and work locally, please make sure to retain the same file name when submitting it. To submit the homework, upload the working notebook on the platform and click the `Submit` button on the top right corner. The platform will alert you of a new file with the same name. Click `Overwrite` to continue with your new version.\n",
    "\n",
    "- `Submit` the homework well before the given deadline. Submissions after the deadline will not be graded.\n",
    "\n",
    "- We have tried to include all the libraries you may need to do the assignment in the `import` statement at the top of this notebook. We strongly suggest that you use those and not others as we may not be familiar with them.\n",
    "\n",
    "- <i><b>Comment your code well. This would help the graders in case there is any issue with the notebook while running. It is important to remember that the graders will not troubleshoot your code.</b></i>\n",
    "\n",
    "<hr style=\"height:2pt\">"
   ]
  },
  {
   "cell_type": "code",
   "execution_count": 1,
   "metadata": {},
   "outputs": [],
   "source": [
    "# Importing necessary libraries\n",
    "import numpy as np\n",
    "import pandas as pd\n",
    "import matplotlib.pyplot as plt\n",
    "from sklearn.metrics import r2_score\n",
    "from sklearn.metrics import accuracy_score\n",
    "from sklearn.linear_model import LinearRegression\n",
    "from sklearn.neighbors import KNeighborsClassifier\n",
    "from sklearn.model_selection import train_test_split"
   ]
  },
  {
   "cell_type": "code",
   "execution_count": 2,
   "metadata": {},
   "outputs": [],
   "source": [
    "# EDIT THIS CODE TO LOAD THE SAVED DF FROM THE LAST PART OF THE HOMEWORK\n",
    "df = pd.read_csv('movies_clean.csv')"
   ]
  },
  {
   "attachments": {},
   "cell_type": "markdown",
   "metadata": {},
   "source": [
    "<div class=\"alert alert-block alert-danger\" style=\"color:black;background-color:#E7F4FA\">\n",
    "    \n",
    "## **PART 2 [70 points]: Regression and Classification**\n",
    "\n",
    "In Part 2 of this case study, we will primarily use the following two models: \n",
    "- Linear regression for prediction\n",
    "- k-Nearest Neighbours (kNN) for classification \n",
    "\n",
    "We will use linear regression to predict revenue, and we will use kNN to classify whether a movie was profitable or not."
   ]
  },
  {
   "attachments": {},
   "cell_type": "markdown",
   "metadata": {},
   "source": [
    "<div class=\"alert alert-block alert-danger\" style=\"color:black;background-color:#E7F4FA\">\n",
    "\n",
    "# **2.1 Regression [30 points]**\n",
    "\n",
    "## **2.1.1 Data Preprocessing [10 points]**\n",
    "\n",
    "We need to prepare the data to be used to perform regression using sklearn's implementation.\n",
    "\n",
    "### **Instructions**\n",
    "\n",
    "- Define `regression_target` as `revenue` which is an entry in the original dataframe.\n",
    "- Define `regression_outcome` as the selection of the labels in the `revenue` column.\n",
    "- Use the `train_test_split()` function from sklearn to get indices (`itrain`, `itest`) so as to divide the original data. We will use `itrain` to index data to be used for training and `itest` to index data to be used for testing. Use a test size of 20\\%.\n",
    "\n",
    "</div>"
   ]
  },
  {
   "cell_type": "code",
   "execution_count": 3,
   "metadata": {},
   "outputs": [],
   "source": [
    "# Define `regresssion_target` as 'revenue'\n",
    "regression_target = df['revenue']\n",
    "\n",
    "# Fetch the `regression_target` data from the df\n",
    "regression_outcome = regression_target.values\n",
    "\n",
    "# Define a list containing the names of all features being used for model training\n",
    "all_features = ['budget', 'popularity', 'runtime', 'vote_count', 'vote_average', 'Action', 'Adventure', 'Fantasy', \n",
    "                  'Science Fiction', 'Crime', 'Drama', 'Thriller', 'Animation', 'Family', 'Western', 'Comedy', 'Romance', \n",
    "                  'Horror', 'Mystery', 'War', 'History', 'Music', 'Documentary', 'TV Movie', 'Foreign']\n",
    "\n",
    "#Fetch the dataframe containing data of all the features defined in `all_features`\n",
    "features_df = df[all_features]"
   ]
  },
  {
   "cell_type": "code",
   "execution_count": 4,
   "metadata": {},
   "outputs": [],
   "source": [
    "### edTest(test_1) ###\n",
    "## DO NOT REMOVE ABOVE LINE ##\n",
    "\n",
    "# Get the training and test data by performing train test split\n",
    "# using sklearn's `train_test_split()` with test size as 20% and random_state=43\n",
    "\n",
    "# Note that we want to fetch the indices \n",
    "# therefore pass the range(len(df)) into the function \n",
    "itrain, itest = train_test_split(range(len(df)), test_size=0.20, random_state=43)\n",
    "\n",
    "# Using itrain, fetch the X_train values from features_df\n",
    "# HINT: use .iloc[itrain].values\n",
    "X_train = features_df.iloc[itrain].values\n",
    "\n",
    "# Using itrain, fetch the y_train values from regression_outcome\n",
    "y_train = regression_outcome[itrain]\n",
    "\n",
    "# Using itest, fetch the X_test values from features_df\n",
    "X_test = features_df.iloc[itest].values\n",
    "\n",
    "# Using itest, fetch the y_test values from regression_outcome\n",
    "y_test = regression_outcome[itest]"
   ]
  },
  {
   "attachments": {},
   "cell_type": "markdown",
   "metadata": {},
   "source": [
    "<div class=\"alert alert-block alert-danger\" style=\"color:black;background-color:#E7F4FA\">\n",
    "    \n",
    "## **2.1.2 Regression Analysis [10 points]**\n",
    "\n",
    "In this exercise, we will create a linear regression object, fit it on the training data and make predictions on the test data.\n",
    "We will then measure its performance by using a metric called `r2_score`.\n",
    "The `r2_score` is a measure of how well the linear regression describes the data (similar to accuracy in classification).\n",
    "Read more about `r2_score` [here](https://www.geeksforgeeks.org/ml-r-squared-in-regression-analysis/).\n",
    "\n",
    "For classification models in part 2, we will use accuracy as the performance measure.\n",
    "\n",
    "### **Instructions** \n",
    "\n",
    "- Instantiate a `LinearRegression()` object and name it `linear_regression`.\n",
    "- Call its `.fit()` method on the `X_train,y_train` defined above.\n",
    "- Call its `.predict()` method on `X_test` and store the predictions as `y_pred`.\n",
    "- Use sklearn's implementation of `r2_score()` and report its value.\n",
    "\n",
    "</div>"
   ]
  },
  {
   "cell_type": "code",
   "execution_count": 5,
   "metadata": {},
   "outputs": [
    {
     "name": "stdout",
     "output_type": "stream",
     "text": [
      "The R2 Score is 0.4568\n"
     ]
    }
   ],
   "source": [
    "### edTest(test_2) ###\n",
    "## DO NOT REMOVE ABOVE LINE ##\n",
    "\n",
    "# Instantiate a LinearRegression object using sklearn\n",
    "linear_regression = LinearRegression()\n",
    "\n",
    "# Fit X_train and y_train using linear_regression object\n",
    "linear_regression.fit(X_train, y_train)\n",
    "\n",
    "# Call predict on linear_regression object using X_test\n",
    "y_pred = linear_regression.predict(X_test)\n",
    "\n",
    "# Calculate r2_score by using sklearn's built-in function for the same\n",
    "r2score = r2_score(y_test, y_pred)\n",
    "print(f\"The R2 Score is {r2score:.4f}\")"
   ]
  },
  {
   "attachments": {},
   "cell_type": "markdown",
   "metadata": {},
   "source": [
    "<div class=\"alert alert-block alert-danger\" style=\"color:black;background-color:#E7F4FA\">\n",
    "    \n",
    "## **2.1.3 Regression Analysis without outliers [10 points]**\n",
    "\n",
    "In Exercise 2, we saw that predicting revenue was only moderately successful. It might be the case that predicting movies with actually zero revenue is difficult. \n",
    "\n",
    "In the next three exercises, we will exclude these movies, and re-run the analyses to determine if the fits improve. One may understand this as 'cleaning' the outliers, a step often performed in order to make sure that these extreme values do not mess with the data distribution. \n",
    "\n",
    "In this exercise, we will rerun the regression analysis for this subsetted dataset without the so-called 'outliers'.\n",
    "\n",
    "### **Instructions**\n",
    "\n",
    "- Define `positive_revenue_df` as the subset of movies in `df` with `revenue` greater than zero.\n",
    "- Make a function that automates the splitting of the dataframes from before\n",
    "\n",
    "</div>"
   ]
  },
  {
   "cell_type": "code",
   "execution_count": 6,
   "metadata": {},
   "outputs": [],
   "source": [
    "# Fetch subset of df that contains 'revenue' > 0\n",
    "positive_revenue_df = df[df['revenue'] > 0]\n",
    "\n",
    "# Define `regresssion_target` as 'revenue' \n",
    "regression_target = 'revenue'\n",
    "regression_outcome = positive_revenue_df[regression_target]\n",
    "\n",
    "# Fetch the `regression_target` data from the positive_revenue_df\n",
    "features_df = positive_revenue_df[all_features]"
   ]
  },
  {
   "cell_type": "code",
   "execution_count": 7,
   "metadata": {},
   "outputs": [],
   "source": [
    "# Modularise the train_test_split steps in function\n",
    "# Input: features_dataframe, regression_outcome, test_size\n",
    "# Output: X_train, y_train, X_test, y_test\n",
    "def get_datasets(features_df_, regression_outcome_, test_size):\n",
    "    \n",
    "    # Get the training and test data by performing train test split as above\n",
    "    # Remember to use the test_size as mentioned in the function parameter and random_state = 43\n",
    "    itrain, itest = train_test_split(range(len(features_df_)), test_size=test_size, random_state=43)\n",
    "    \n",
    "    # Using itrain, fetch the X_train values from features_df_\n",
    "    X_train = features_df_.iloc[itrain].values\n",
    "    \n",
    "    # Using itrain, fetch the y_train values from regression_outcome_\n",
    "    y_train = regression_outcome_.iloc[itrain].values\n",
    "    \n",
    "    # Using itest, fetch the X_test values from features_df_\n",
    "    X_test = features_df_.iloc[itest].values\n",
    "    \n",
    "    # Using itest, fetch the y_test values from regression_outcome_\n",
    "    y_test = regression_outcome_.iloc[itest].values\n",
    "\n",
    "    return X_train, y_train, X_test, y_test"
   ]
  },
  {
   "cell_type": "code",
   "execution_count": 8,
   "metadata": {},
   "outputs": [
    {
     "name": "stdout",
     "output_type": "stream",
     "text": [
      "The R2 Score without outliers is 0.6420\n"
     ]
    }
   ],
   "source": [
    "### edTest(test_3) ###\n",
    "## DO NOT REMOVE ABOVE LINE ##\n",
    "\n",
    "# Call the `get_datasets` function on the `features_df` and `regression_outcome`\n",
    "# with test size 20% \n",
    "X_train, y_train, X_test, y_test = get_datasets(features_df, regression_outcome, test_size=0.20)\n",
    "\n",
    "# Reinstantiate the regression model\n",
    "linear_regression = LinearRegression()\n",
    "\n",
    "# Fit X_train and y_train using linear_regression object\n",
    "linear_regression.fit(X_train, y_train)\n",
    "\n",
    "# Call predict on linear_regression object using X_test\n",
    "y_pred = linear_regression.predict(X_test)\n",
    "\n",
    "# Calculate the r2_score using sklearn's built-in function\n",
    "# This score should not match the score from the previous section!\n",
    "r2score = r2_score(y_test, y_pred)\n",
    "print(f\"The R2 Score without outliers is {r2score:.4f}\")"
   ]
  },
  {
   "attachments": {},
   "cell_type": "markdown",
   "metadata": {},
   "source": [
    "<div class=\"alert alert-block alert-danger\" style=\"color:black;background-color:#E7F4FA\">\n",
    "    \n",
    "# **2.2 Classification [40 points]**\n",
    "\n",
    "In this section, we will attempt to classify if a movie is `profitable` or not. To do so, we will use the k-Nearest neighbours classification algorithm. Below is an overview of the algorithm for performing k-NN classification.\n",
    "\n",
    "## **k-Nearest Neighbours Algorithm**\n",
    "\n",
    "1. Load the training data\n",
    "\n",
    "2. Initialize `k` to your chosen number of nearest neighbors.\n",
    "\n",
    "3. Calculate the distances between the test example and every training example using euclidean distances.\n",
    "\n",
    "4. Find the first `k` *nearest* training entries.\n",
    "\n",
    "5. Get the labels of the selected `k` entries.\n",
    "\n",
    "6. Get the most frequent label among the `k` entries.\n",
    "\n",
    "7. In case of tie, flip a coin and pick one of the two labels.\n",
    "\n",
    "![](https://i.ibb.co/zGWG1MT/knn-classify.png)\n",
    "\n",
    "Read [this](https://towardsdatascience.com/machine-learning-basics-with-the-k-nearest-neighbors-algorithm-6a6e71d01761) article for a through introduction to the kNN algorithm.\n",
    "\n",
    "</div>"
   ]
  },
  {
   "attachments": {},
   "cell_type": "markdown",
   "metadata": {},
   "source": [
    "<div class=\"alert alert-block alert-danger\" style=\"color:black;background-color:#E7F4FA\">\n",
    "    \n",
    "## **2.2.1 Data Preprocessing [10 points]**\n",
    "\n",
    "Before you build your own kNN classifier, let us prepare the the data.\n",
    "\n",
    "### **Instructions** \n",
    "\n",
    "- Define `classification_target` as `profitable` which is an entry in the original dataframe.\n",
    "- Define `classification_outcome` as the selection of the labels in the `profitable` column.\n",
    "- Use the same split (`itrain`, `itest`) as before but this time select the output on the `classification_outcome` instead and name it as `y_train_classification` and `y_test_classification`.\n",
    "\n",
    "</div>"
   ]
  },
  {
   "cell_type": "code",
   "execution_count": 9,
   "metadata": {},
   "outputs": [],
   "source": [
    "# Define `classification_target` as 'profitable`\n",
    "classification_target = 'profitable'\n",
    "\n",
    "# Fetch the `classification_target` data from the df\n",
    "classification_outcome = df[classification_target]\n",
    "\n",
    "# Define a list containing the names of all features being used for model training\n",
    "all_features = ['budget', 'popularity', 'runtime', 'vote_count', 'vote_average', 'Action', 'Adventure', 'Fantasy', \n",
    "                  'Science Fiction', 'Crime', 'Drama', 'Thriller', 'Animation', 'Family', 'Western', 'Comedy', 'Romance', \n",
    "                  'Horror', 'Mystery', 'War', 'History', 'Music', 'Documentary', 'TV Movie', 'Foreign']\n",
    "\n",
    "#Fetch the dataframe containing data of all the features defined in `all_features`\n",
    "features_df = df[all_features]"
   ]
  },
  {
   "cell_type": "code",
   "execution_count": 10,
   "metadata": {},
   "outputs": [],
   "source": [
    "### edTest(test_4) ###\n",
    "## DO NOT REMOVE ABOVE LINE ##\n",
    "\n",
    "# Call the `get_datasets` function on the `features_df` and `classification_outcome`\n",
    "# with test size 20% \n",
    "X_train, y_train_classification, X_test, y_test_classification =  get_datasets(features_df, classification_outcome, test_size=0.20)"
   ]
  },
  {
   "attachments": {},
   "cell_type": "markdown",
   "metadata": {},
   "source": [
    "<div class=\"alert alert-block alert-danger\" style=\"color:black;background-color:#E7F4FA\">\n",
    "    \n",
    "##  **2.2.2 Custom k-Nearest Neighbours Classifier**\n",
    "\n",
    "It's finally time to build your `myKNN` classifier class!\n",
    "\n",
    "### **Instructions**\n",
    "\n",
    "- Follow the instructions in the `__init__` docstring.\n",
    "- Declare an instance method `fit`, which intializes two attributes, `self.X_train` and `self.y_train`.\n",
    "- Declare an internal instance method called `_vote` which performs voting between the k nearest labels and returns an overall predicted label based on the count.\n",
    "- Declare an instance method `predict` which takes test values, performs the k nearest neighbors search using the algorithm mentioned above, and returns a set of predicted labels. You will need your `_vote` method here. \n",
    "\n",
    "Follow the docstrings more for detailed instructions.\n",
    "\n",
    "</div>"
   ]
  },
  {
   "cell_type": "code",
   "execution_count": 11,
   "metadata": {},
   "outputs": [],
   "source": [
    "np.random.seed(0)\n",
    "\n",
    "#Create your myKNN Class\n",
    "class myKNN:\n",
    "    \n",
    "    def __init__(self, n_neighbors=3):\n",
    "        \"\"\"\n",
    "        Initializes the classifier with the number of neighbors. \n",
    "        (Set a default value of 3). \n",
    "        Save the result as k. \n",
    "        \"\"\"\n",
    "        self.k = n_neighbors\n",
    "    \n",
    "    def fit(self, X_train, y_train):\n",
    "        \"\"\"\n",
    "        Initializes instance variables X_train and y_train with \n",
    "        respective values.   .    \n",
    "        \"\"\"\n",
    "        self.X_train = X_train\n",
    "        self.y_train = y_train\n",
    "        \n",
    "    def _vote(self, labels):\n",
    "        \"\"\"\n",
    "        Takes the nearest neighbors, takes a mean vote (their average label) \n",
    "        INSTRUCTIONS\n",
    "        1. take the mean vote\n",
    "        2. if there is a tie, add to or subtract from `mean_vote` a random positive or negative amount\n",
    "        3. if the mean vote is greater than 0.5 return 1, else return 0\n",
    "        \"\"\"\n",
    "\n",
    "        # 1\n",
    "        mean_vote = np.mean(labels)\n",
    "        \n",
    "        # 2\n",
    "        if mean_vote == 0.5:\n",
    "            mean_vote += np.random.randint(-1000,1000)/1e6\n",
    "        \n",
    "        # 3\n",
    "        return 1 if mean_vote > 0.5 else 0   \n",
    "        \n",
    "    def predict(self, X_test):\n",
    "        \"\"\"If you have trouble with this exercise take a look again at exercise 3 from session 7 : Fundamentals of numpy for datascience\n",
    "        INSTRUCTIONS\n",
    "        1. Calculate the distances between the test example and every training example using euclidean distances.\n",
    "        2. Find the first k nearest training entries.\n",
    "        Use np.argsort to find the indices of the nearest labels. Documentation for np.argsort here: https://numpy.org/doc/stable/reference/generated/numpy.argsort.html\n",
    "        3. cast the np.array to integers.\n",
    "        4. apply the _vote method along the proper axis such that you return the majority vote\n",
    "           for the nearest neighbors of each point in the test set\n",
    "           Documentation for `np.apply_along_axis here => https://numpy.org/doc/stable/reference/generated/numpy.apply_along_axis.html\n",
    "        \"\"\"\n",
    "\n",
    "        # 1\n",
    "        comparisons = ((X_test.reshape(X_test.shape[0], 1, X_test.shape[1]) - self.X_train)**2).sum(axis=2)\n",
    "\n",
    "        # 2\n",
    "        nearest_neighbors = np.argsort(comparisons, axis=1)[:, :self.k]\n",
    "\n",
    "        # 3\n",
    "        nearest_labels = self.y_train[nearest_neighbors]\n",
    "        nearest_labels = nearest_labels.astype(int)\n",
    "        \n",
    "        # 4\n",
    "        predictions = np.apply_along_axis(self._vote, axis=1, arr=nearest_labels)\n",
    "        \n",
    "        # Return predictions\n",
    "        return predictions\n",
    "                "
   ]
  },
  {
   "attachments": {},
   "cell_type": "markdown",
   "metadata": {},
   "source": [
    "<div class=\"alert alert-block alert-danger\" style=\"color:black;background-color:#E7F4FA\">\n",
    "    \n",
    "## **2.2.3 Custom kNN Classifier Implementation [10 points]**\n",
    "\n",
    "Time to use your `myKNN` classifier class to intiantite a classifer and make a prediction.\n",
    "\n",
    "### **Instructions**\n",
    "\n",
    "- Intialize an object of `myKNN` and name it `knn_classifier` with `k=4`.\n",
    "- Call the `.fit()` method on `X_train` and `y_train`.\n",
    "- Call the `.predict()` method on `X_test` and store the predictions as `classification_predictions`.\n",
    "- Call the `accuracy_score` function and report the accuracy of the predictions as compared to `y_test`.\n",
    "\n",
    "</div>"
   ]
  },
  {
   "cell_type": "code",
   "execution_count": 12,
   "metadata": {},
   "outputs": [
    {
     "name": "stdout",
     "output_type": "stream",
     "text": [
      "Accuracy of myKNN classifier is 76.24%\n"
     ]
    },
    {
     "data": {
      "text/plain": [
       "array([1, 1, 1, 0, 1, 1, 1, 1, 1, 0, 1, 1, 1, 1, 1, 1, 1, 0, 1, 1, 1, 1,\n",
       "       1, 1, 1, 1, 1, 1, 1, 1, 1, 1, 1, 0, 1, 0, 1, 1, 0, 1, 1, 1, 1, 0,\n",
       "       1, 0, 0, 1, 1, 1, 1, 0, 0, 1, 1, 1, 0, 1, 1, 1, 0, 0, 1, 1, 1, 1,\n",
       "       1, 1, 0, 0, 1, 1, 1, 1, 1, 0, 1, 1, 1, 1, 1, 1, 1, 1, 1, 0, 1, 1,\n",
       "       1, 1, 1, 1, 1, 0, 1, 0, 1, 1, 1, 1, 1, 1, 1, 1, 1, 1, 1, 0, 1, 0,\n",
       "       1, 1, 0, 1, 1, 1, 1, 1, 1, 1, 1, 1, 1, 1, 0, 1, 1, 1, 1, 1, 1, 1,\n",
       "       1, 1, 0, 1, 1, 1, 1, 1, 1, 1, 1, 1, 0, 1, 1, 1, 1, 1, 1, 0, 1, 1,\n",
       "       1, 1, 1, 1, 1, 0, 1, 1, 1, 1, 1, 1, 1, 0, 1, 0, 1, 1, 1, 1, 1, 1,\n",
       "       1, 1, 1, 0, 1, 1, 1, 0, 1, 0, 0, 1, 1, 1, 0, 1, 1, 1, 1, 1, 1, 1,\n",
       "       1, 1, 1, 1, 1, 0, 1, 1, 0, 1, 0, 0, 1, 1, 0, 1, 0, 1, 0, 1, 1, 1,\n",
       "       1, 1, 0, 0, 1, 1, 1, 0, 1, 1, 0, 1, 1, 1, 1, 1, 1, 1, 0, 1, 1, 1,\n",
       "       1, 1, 1, 0, 1, 0, 1, 0, 1, 1, 1, 1, 0, 1, 1, 0, 1, 1, 0, 1, 1, 1,\n",
       "       0, 1, 1, 1, 1, 1, 1, 1, 1, 1, 0, 0, 1, 1, 1, 0, 1, 1])"
      ]
     },
     "execution_count": 12,
     "metadata": {},
     "output_type": "execute_result"
    }
   ],
   "source": [
    "### edTest(test_5) ###\n",
    "## DO NOT REMOVE ABOVE LINE ##\n",
    "\n",
    "# Instantiate myKNN Classifier with 4 neighbours\n",
    "knn_classifier = myKNN(n_neighbors=4)\n",
    "\n",
    "# Fit X_train and y_train on your newly instantiated classifier \n",
    "knn_classifier.fit(X_train, y_train_classification)\n",
    "\n",
    "# Predict on X_test using the trained classifer\n",
    "classification_predictions = knn_classifier.predict(X_test)\n",
    "\n",
    "# Get the accuracy score by using `accuracy_score` from sklearn.metrics\n",
    "accuracy = accuracy_score(y_test_classification, classification_predictions)\n",
    "print(f\"Accuracy of myKNN classifier is {accuracy*100:.2f}%\")\n",
    "classification_predictions"
   ]
  },
  {
   "attachments": {},
   "cell_type": "markdown",
   "metadata": {},
   "source": [
    "<div class=\"alert alert-block alert-danger\" style=\"color:black;background-color:#E7F4FA\">\n",
    "    \n",
    "## **2.2.4 SciKit-Learn's k-Nearest Neighbours Classifier [15 points]**\n",
    "\n",
    "Compare your implementation with the `sklearn`'s version of kNN classifier.\n",
    "\n",
    "### **Instructions**\n",
    "\n",
    "- Intialize the sklearn classifier with `n_neighbors=4` with the variable name `sknn`.\n",
    "- Call the `.fit()` method of the classifier. \n",
    "- Call the `.predict()` method on `X_test` and store the predicted labels as `skclassification_predictions`.\n",
    "- Call the `accuracy_score` function to compare the predictions with the test set.\n",
    "- Compare the predictions of your custom classifier with the sklearn's implementation.\n",
    "\n",
    "</div>"
   ]
  },
  {
   "cell_type": "code",
   "execution_count": 13,
   "metadata": {},
   "outputs": [
    {
     "name": "stdout",
     "output_type": "stream",
     "text": [
      "Accuracy of sklearn's kNN classifier is 76.24%\n",
      "[1 1 1 0 1 1 1 1 1 0 1 1 1 1 1 1 1 0 1 1 1 1 1 1 1 1 1 1 1 1 1 0 1 0 1 0 0\n",
      " 1 0 1 1 1 1 0 1 0 0 0 1 1 1 0 0 1 1 1 0 1 1 1 0 0 1 1 1 1 1 1 0 0 1 0 0 0\n",
      " 1 0 1 1 1 1 1 1 1 1 1 0 1 0 1 1 1 1 1 0 1 0 1 1 1 1 1 1 0 1 1 1 1 0 1 0 1\n",
      " 1 0 1 1 1 1 1 1 1 1 0 1 0 0 1 1 1 1 1 1 0 1 1 0 1 1 1 1 1 1 1 1 1 0 1 1 1\n",
      " 1 1 1 0 1 1 1 1 1 1 1 0 1 1 1 1 1 1 1 0 0 0 1 1 1 1 1 1 1 1 1 0 1 1 1 0 1\n",
      " 0 0 1 0 1 0 1 1 1 1 1 1 1 1 1 1 1 0 0 1 1 0 1 0 0 1 1 0 1 0 1 0 1 1 0 1 1\n",
      " 0 0 1 1 1 0 1 1 0 1 1 1 1 1 1 1 0 1 1 1 1 1 1 0 1 0 1 0 1 1 1 1 0 0 0 0 1\n",
      " 1 0 1 1 1 0 1 1 1 0 1 1 1 1 1 0 0 1 1 1 0 1 1]\n"
     ]
    }
   ],
   "source": [
    "### edTest(test_6) ###\n",
    "## DO NOT REMOVE ABOVE LINE ##\n",
    "\n",
    "# Instantiate KNeighborsClassifier with 4 neighbours\n",
    "sknn = KNeighborsClassifier(n_neighbors=4)\n",
    "\n",
    "# Fit X_train and y_train on your newly instantiated classifier \n",
    "sknn.fit(X_train, y_train_classification)\n",
    "\n",
    "# Predict on X_test using the trained classifer\n",
    "skclassification_predictions = sknn.predict(X_test)\n",
    "\n",
    "# Get the accuracy score by using `accuracy_score` from sklearn.metrics\n",
    "accuracy = accuracy_score(y_test_classification, skclassification_predictions)\n",
    "print(f\"Accuracy of sklearn's kNN classifier is {accuracy*100:.2f}%\")\n",
    "print(skclassification_predictions)"
   ]
  },
  {
   "cell_type": "code",
   "execution_count": 14,
   "metadata": {},
   "outputs": [
    {
     "name": "stdout",
     "output_type": "stream",
     "text": [
      "The predictions from the myKNN classifier and sklearn's kNN classifier are the same?\n",
      "False\n"
     ]
    }
   ],
   "source": [
    "### edTest(test_7) ###\n",
    "## DO NOT REMOVE ABOVE LINE ##\n",
    "\n",
    "# Checking to see if predictions from both the classifiers are same\n",
    "result = all(skclassification_predictions == classification_predictions)\n",
    "print(\"The predictions from the myKNN classifier and sklearn's kNN classifier are the same?\")\n",
    "print(result)"
   ]
  },
  {
   "attachments": {},
   "cell_type": "markdown",
   "metadata": {},
   "source": [
    "<div class=\"alert alert-block alert-danger\" style=\"color:black;background-color:#E7F4FA\">\n",
    "\n",
    "\n",
    "### ⏸ **Pause & Think [5 points]**\n",
    "\n",
    "Change the no. of neighbours from an 4 to 3 and perform comparisons on custom classifier vs. sklearn's classifier. Are the predictions still the same? What is the pattern you are observing?\n",
    "\n",
    "```\n",
    "A. Predictions are same for both classifiers when k is odd. \n",
    "B. Predictions are same for both classifiers when k is even. \n",
    "C. Predictions are same for both classifiers when k is prime. \n",
    "D. Predictions are same for both classifiers when k is multiple of 23.\n",
    "```\n",
    "\n",
    "</div>"
   ]
  },
  {
   "cell_type": "code",
   "execution_count": 15,
   "metadata": {},
   "outputs": [
    {
     "name": "stdout",
     "output_type": "stream",
     "text": [
      "The predictions from the myKNN classifier and sklearn's kNN classifier are the same?\n",
      "True\n"
     ]
    }
   ],
   "source": [
    "### edTest(test_8) ###\n",
    "## DO NOT REMOVE ABOVE LINE ##\n",
    "\n",
    "#-------------CUSTOM---------------#\n",
    "\n",
    "# Instantiate myKNN Classifier with 3 neighbours\n",
    "knn_classifier = myKNN(n_neighbors=3)\n",
    "\n",
    "# Fit the training data using the myKNN Classifier\n",
    "knn_classifier.fit(X_train, y_train_classification)\n",
    "\n",
    "# Predict on X_test using the trained classifer\n",
    "classification_predictions = knn_classifier.predict(X_test)\n",
    "\n",
    "#------------SKLEARN--------------#\n",
    "\n",
    "# Instantiate sklearn's KNeighborsClassifier with 3 neighbours\n",
    "sknn = KNeighborsClassifier(n_neighbors=3)\n",
    "\n",
    "# Fit the training data using the sklearn's kNN Classifier\n",
    "sknn.fit(X_train, y_train_classification)\n",
    "\n",
    "# Predict on X_test using the trained classifer\n",
    "skclassification_predictions = sknn.predict(X_test)\n",
    "\n",
    "\n",
    "#------------COMPARISON--------------#\n",
    "\n",
    "# Checking to see if predictions from both the classifiers are same\n",
    "print(\"The predictions from the myKNN classifier and sklearn's kNN classifier are the same?\")\n",
    "print(all(skclassification_predictions == classification_predictions))\n",
    "\n",
    "\n",
    "# Mention your answer for the Pause & Think question here - for example: 'A'\n",
    "answer = 'A'"
   ]
  },
  {
   "attachments": {},
   "cell_type": "markdown",
   "metadata": {},
   "source": [
    "<div class=\"alert alert-block alert-danger\" style=\"color:black;background-color:#E7F4FA\">\n",
    "\n",
    "### **Investigation of the behaviour observed**\n",
    "\n",
    "Isn't it surprising to see the difference in the accuracy between odd and even number of neighbours in our custom versus that of sklearn? Let's go investigate why this is happening.\n",
    "\n",
    "</div>"
   ]
  },
  {
   "cell_type": "code",
   "execution_count": 16,
   "metadata": {},
   "outputs": [],
   "source": [
    "# Function to flip labels i.e if ground truth label is 1, it will now be 0 \n",
    "# and vice versa. \n",
    "def flip_labels(labels):\n",
    "    return (labels + 1)%2"
   ]
  },
  {
   "cell_type": "code",
   "execution_count": 17,
   "metadata": {},
   "outputs": [],
   "source": [
    "# Helper function to fit and run the data based on the input for custom or sklearn classifier\n",
    "def fit_and_run(y_train, y_test, sk_learn = True, flip = False, n_neighbors = 3):\n",
    "    \n",
    "    if flip:\n",
    "        y_train = flip_labels(y_train)\n",
    "        y_test = flip_labels(y_test)\n",
    "    \n",
    "    if sk_learn:\n",
    "        sknn_ = KNeighborsClassifier(n_neighbors = n_neighbors)\n",
    "        sknn_.fit(X_train, y_train)\n",
    "        preds = sknn_.predict(X_test)\n",
    "        acc_score = accuracy_score(preds, y_test)\n",
    "        return acc_score\n",
    "    else:\n",
    "        knn_ = myKNN(n_neighbors = n_neighbors)\n",
    "        knn_.fit(X_train, y_train)\n",
    "        preds = knn_.predict(X_test)\n",
    "        acc_score = accuracy_score(preds, y_test)\n",
    "        return acc_score"
   ]
  },
  {
   "cell_type": "code",
   "execution_count": 18,
   "metadata": {},
   "outputs": [
    {
     "name": "stdout",
     "output_type": "stream",
     "text": [
      "Accuracy of sklearn's kNN classifier is 76.24%\n",
      "Accuracy of sklearn's kNN classifier with flipped labels is 79.43%\n"
     ]
    }
   ],
   "source": [
    "# Call the function defined below to  for sklearn\n",
    "n_neighbors = 4\n",
    "accuracy_sk = fit_and_run(y_train_classification, y_test_classification , sk_learn = True, n_neighbors = n_neighbors)\n",
    "print(f\"Accuracy of sklearn's kNN classifier is {accuracy_sk*100:.2f}%\")\n",
    "accuracy_sk_flip = fit_and_run(y_train_classification, y_test_classification, sk_learn = True, flip = True, n_neighbors = n_neighbors)\n",
    "print(f\"Accuracy of sklearn's kNN classifier with flipped labels is {accuracy_sk_flip*100:.2f}%\")"
   ]
  },
  {
   "cell_type": "code",
   "execution_count": 21,
   "metadata": {},
   "outputs": [
    {
     "name": "stdout",
     "output_type": "stream",
     "text": [
      "Accuracy of myKNN classifier is 78.37%\n",
      "Accuracy of myKNN classifier with flipped labels is 79.43%\n"
     ]
    }
   ],
   "source": [
    "# Call the function defined above for custom implementation\n",
    "n_neighbors = 4\n",
    "accuracy_mk = fit_and_run(y_train_classification, y_test_classification , sk_learn = False, n_neighbors = n_neighbors)\n",
    "print(f\"Accuracy of myKNN classifier is {accuracy_mk*100:.2f}%\")\n",
    "accuracy_mk_flip = fit_and_run(y_train_classification, y_test_classification, sk_learn = False, flip = True, n_neighbors = n_neighbors)\n",
    "print(f\"Accuracy of myKNN classifier with flipped labels is {accuracy_mk_flip*100:.2f}%\")"
   ]
  },
  {
   "cell_type": "markdown",
   "metadata": {},
   "source": [
    "Flipping of labels should not necessarily affect the accuracy of the model since at the end, the model is looking at the same thing. To understand this better, imagine you are classifying if an image is that of a dog or cat. In one case the dog label can be represented as 1 and cat as 0, or vice versa. \n",
    "\n",
    "In both these cases, there is no impact on model training/accuracy since it is merely a representation choice. But why is it that we observe a difference in accuracy in sklearn's classifier?"
   ]
  },
  {
   "cell_type": "code",
   "execution_count": 22,
   "metadata": {},
   "outputs": [],
   "source": [
    "# Run over several values of k and with the labels flipped\n",
    "knn = []\n",
    "knn_flipped = []\n",
    "sklearn = []\n",
    "sklearn_flipped = []\n",
    "\n",
    "for n_neighbors in range(1, 50):\n",
    "    knn1 = fit_and_run(y_train_classification, y_test_classification, sk_learn = False, flip = False, n_neighbors = n_neighbors)\n",
    "    knn2 = fit_and_run(y_train_classification, y_test_classification, sk_learn = False, flip = True, n_neighbors = n_neighbors)\n",
    "    sk1 = fit_and_run(y_train_classification, y_test_classification, sk_learn = True, flip = False, n_neighbors = n_neighbors)\n",
    "    sk2 = fit_and_run(y_train_classification, y_test_classification, sk_learn = True, flip = True, n_neighbors = n_neighbors)   \n",
    "    knn.append(knn1)\n",
    "    knn_flipped.append(knn2)\n",
    "    sklearn.append(sk1)\n",
    "    sklearn_flipped.append(sk2)"
   ]
  },
  {
   "cell_type": "code",
   "execution_count": 23,
   "metadata": {},
   "outputs": [
    {
     "data": {
      "image/png": "[encoded data removed]",
      "text/plain": [
       "<Figure size 1200x400 with 2 Axes>"
      ]
     },
     "metadata": {},
     "output_type": "display_data"
    }
   ],
   "source": [
    "# Run this cell below to visualize the output\n",
    "fig, ax = plt.subplots(1,2,figsize=(12,4))\n",
    "\n",
    "ax[0].plot(sklearn, '--', label = 'Original Labels', color = '#00e1ff',lw=2)\n",
    "ax[0].plot(sklearn_flipped, '--', label = 'Flipped Labels', color='darkblue',lw=2)\n",
    "ax[0].set_title('SciKit-Learn Implementation', fontsize=14)\n",
    "ax[0].legend()\n",
    "\n",
    "ax[1].plot(knn, label='Original labels', color='#00e1ff', lw=2)\n",
    "ax[1].plot(knn_flipped, label='Flipped Labels', color='darkblue', lw=2)\n",
    "ax[1].set_title('Custom Implementation', fontsize=14)\n",
    "ax[1].legend()\n",
    "\n",
    "plt.show()"
   ]
  },
  {
   "attachments": {},
   "cell_type": "markdown",
   "metadata": {},
   "source": [
    "Upon investigation of the method employed to classify labels that are exactly mid point between two choices, sklearn's classifier is made to choose the default answer as the least-value label. \n",
    "\n",
    "For example, if we had [1,0,1,0,1,0], where there are equal numbers of 1 and equal numbers of 0, what would the KNN Classifer classify this as? In the case of sklearn's implementation it seems to be taking 0, the least-value label. By observing the last graph visualized, clearly the accuracy in sklearn seems to be hindered due to this method of implementation. \n",
    "\n",
    "However, when you implemented your own KNNClassifer, remember that in the case of an equal mean case, we randomly add or subract a number from the `mean_vote`. This has improved the accuracy, allowing for the model to perform relatively better than sklearn's implementation! "
   ]
  }
 ],
 "metadata": {
  "kernelspec": {
   "display_name": "Python 3 (ipykernel)",
   "language": "python",
   "name": "python3"
  },
  "language_info": {
   "codemirror_mode": {
    "name": "ipython",
    "version": 3
   },
   "file_extension": ".py",
   "mimetype": "text/x-python",
   "name": "python",
   "nbconvert_exporter": "python",
   "pygments_lexer": "ipython3",
   "version": "3.9.7"
  }
 },
 "nbformat": 4,
 "nbformat_minor": 4
}
