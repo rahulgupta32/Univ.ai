{
 "cells": [
  {
   "attachments": {},
   "cell_type": "markdown",
   "metadata": {},
   "source": [
    "# Zip, *, Enumerate\n",
    "\n"
   ]
  },
  {
   "cell_type": "code",
   "execution_count": 1,
   "metadata": {},
   "outputs": [],
   "source": [
    "# Import the necessary libraries\n",
    "from pprint import pprint\n",
    "import numpy as np\n",
    "from helper import names_list, books_borrowed, dob, planned_return, actual_return, categories, isbn"
   ]
  },
  {
   "attachments": {},
   "cell_type": "markdown",
   "metadata": {},
   "source": [
    "## Keeping track of all the books borrowed\n",
    "\n",
    "As the worthy apprentice of the library, you have created records containing details of books borrowed. This includes:\n",
    "1. `names_list` - Name of the person who has borrowed the books\n",
    "2. `books_borrowed` - Name of the books they have borrowed\n",
    "3. `dob` - The date of borrowing\n",
    "4. `planned_return` - The date of planned return\n",
    "5. `actual_return` - The date of actual return\n",
    "6. `categories` - The catorgory corresponding to the book borrowed\n",
    "7. `isbn` - The ISBN of the book"
   ]
  },
  {
   "cell_type": "code",
   "execution_count": 2,
   "metadata": {},
   "outputs": [
    {
     "name": "stdout",
     "output_type": "stream",
     "text": [
      "Name       Book Borrowed                   DOB    Plan_Ret     Act_Ret     Category        ISBN\n",
      "--------------------------------------------------------------------------------------------------\n",
      "Longinus   Emerald fire             10.09.1923  10.10.1923                  Fantasy  9722329982\n",
      "Tom        Defense against Trolls    8.08.1923  08.09.1923              Non-fiction  9722329983\n",
      "Longinus   Saphire Pearls           10.09.1923  10.10.1923                  Fantasy  9722329987\n",
      "Mary Eliza Flying & Snitch           1.08.1923   1.09.1923  11.09.1923  Educational  9722329985\n",
      "Percy      The Greek Mythos         17.07.1923  10.08.1923                  History  9722329988\n"
     ]
    }
   ],
   "source": [
    "# Run the code cell below to see zip() in action\n",
    "\n",
    "print(\"Name\".ljust(10), \"Book Borrowed\".ljust(23),\\\n",
    " \"DOB\".rjust(11), \"Plan_Ret\".rjust(11), \\\n",
    " \"Act_Ret\".rjust(11), \"Category\".rjust(12),\"ISBN\".rjust(11))\n",
    "print(\"--------------------------------------------------------------------------------------------------\")\n",
    "\n",
    "# Using zip, print the details of the books:\n",
    "for name, book, dob_, planned_ret, actual_ret, cat, no_ in \\\n",
    "zip(names_list, books_borrowed, dob, planned_return, actual_return, categories, isbn):\n",
    "    print(name.ljust(10), book.ljust(23), dob_.rjust(11), \\\n",
    "    planned_ret.rjust(11), actual_ret.rjust(11), cat.rjust(12), no_.rjust(11))\n"
   ]
  },
  {
   "attachments": {},
   "cell_type": "markdown",
   "metadata": {},
   "source": [
    "## Group all books and categories together\n",
    "\n",
    "Using Zip method group all the `books_borrowed` and `categories` together. Use the book_borrowed and categories lists from the previous cell."
   ]
  },
  {
   "cell_type": "code",
   "execution_count": 3,
   "metadata": {},
   "outputs": [
    {
     "name": "stdout",
     "output_type": "stream",
     "text": [
      "Emerald fire --> Fantasy\n",
      "Defense against Trolls --> Non-fiction\n",
      "Saphire Pearls --> Fantasy\n",
      "Flying & Snitch --> Educational\n",
      "The Greek Mythos --> History\n",
      "Emerald Fire --> Fantasy\n"
     ]
    }
   ],
   "source": [
    "### edTest(test_1) ###\n",
    "## DO NOT REMOVE ABOVE LINE ##\n",
    "\n",
    "# Using zip, iterate through the two lists - \"books_borrowed\" & \"categories\"\n",
    "for i, j in zip(books_borrowed, categories):\n",
    "    #print each book borrowed ---> respective category\n",
    "    print(i + \" --> \"+ j)"
   ]
  },
  {
   "attachments": {},
   "cell_type": "markdown",
   "metadata": {},
   "source": [
    "## Sorting lists using Zip and *\n",
    "\n",
    "Sort `books_borrowed` alphabetically whilst keeping the reference to the `isbn` intact. For this, use zip and *."
   ]
  },
  {
   "cell_type": "code",
   "execution_count": 4,
   "metadata": {},
   "outputs": [
    {
     "name": "stdout",
     "output_type": "stream",
     "text": [
      "9722329982 Emerald fire\n",
      "9722329983 Defense against Trolls\n",
      "9722329987 Saphire Pearls\n",
      "9722329985 Flying & Snitch\n",
      "9722329988 The Greek Mythos\n",
      "9722329990 Emerald Fire\n"
     ]
    }
   ],
   "source": [
    "# Run the code below to see zipped books_borrowed and isbn lists before sorting\n",
    "for isbn_no, book in zip(isbn, books_borrowed):\n",
    "    print(isbn_no, book)"
   ]
  },
  {
   "cell_type": "code",
   "execution_count": 5,
   "metadata": {},
   "outputs": [],
   "source": [
    "### edTest(test_2) ###\n",
    "## DO NOT REMOVE ABOVE LINE ##\n",
    "\n",
    "# Using zip & *, sort the list 'books_borrowed' alphabetically while ensuring  \n",
    "# that reference to the respective 'isbn' value remains the same\n",
    "book_sorted, isbn_sorted =zip(*sorted(zip(books_borrowed,isbn)))\n",
    "# book_sorted=sorted((list(book_sorted)),list(isbn_sorted),key=lambda x,y :x,y)"
   ]
  },
  {
   "cell_type": "code",
   "execution_count": 6,
   "metadata": {},
   "outputs": [
    {
     "name": "stdout",
     "output_type": "stream",
     "text": [
      "9722329983 Defense against Trolls\n",
      "9722329990 Emerald Fire\n",
      "9722329982 Emerald fire\n",
      "9722329985 Flying & Snitch\n",
      "9722329987 Saphire Pearls\n",
      "9722329988 The Greek Mythos\n"
     ]
    }
   ],
   "source": [
    "# Run the code below to see zipped books_borrowed and isbn lists after sorting\n",
    "for isbn_no, book in zip(isbn_sorted, book_sorted):\n",
    "    print(isbn_no, book)"
   ]
  },
  {
   "attachments": {},
   "cell_type": "markdown",
   "metadata": {},
   "source": [
    "Notice that the corresponding isbn is same, and the zipped list is sorted now."
   ]
  },
  {
   "attachments": {},
   "cell_type": "markdown",
   "metadata": {},
   "source": [
    "### ⏸ What would happen if you do the following instead ?\n",
    "`isbn_sorted, books_sorted = zip(*sorted(zip(isbn, books_borrowed)))`\n",
    "\n",
    "#### A. The lists would be sorted in accordance with the `isbn_no` and not the `books_borrowed`.\n",
    "#### B. `UnboundLocalError`\n",
    "#### C. No change in the output"
   ]
  },
  {
   "cell_type": "code",
   "execution_count": 11,
   "metadata": {},
   "outputs": [],
   "source": [
    "### edTest(test_3) ###\n",
    "## DO NOT REMOVE ABOVE LINE ##\n",
    "\n",
    "# Submit an answer choice as a string below \n",
    "# (eg. if you choose option C, put 'C')\n",
    "answer_quiz = 'A'"
   ]
  },
  {
   "attachments": {},
   "cell_type": "markdown",
   "metadata": {},
   "source": [
    "## Zip and Enumerate\n",
    "\n",
    "Let us enumerate the zipped lists to have a better and organized indexing. "
   ]
  },
  {
   "cell_type": "code",
   "execution_count": 12,
   "metadata": {},
   "outputs": [
    {
     "name": "stdout",
     "output_type": "stream",
     "text": [
      "No  ISBN       Book name\n",
      "1 9722329982 Emerald fire\n",
      "2 9722329983 Defense against Trolls\n",
      "3 9722329987 Saphire Pearls\n",
      "4 9722329985 Flying & Snitch\n",
      "5 9722329988 The Greek Mythos\n",
      "6 9722329990 Emerald Fire\n"
     ]
    }
   ],
   "source": [
    "# Zip & Enumerate through the lists - 'isbn' & 'books_borrowed' while\n",
    "# making sure to start enumeration form 1\n",
    "print('No','ISBN'.rjust(5), 'Book name'.rjust(15))\n",
    "# keep counter starting from 1\n",
    "for i,j in enumerate(zip(isbn, books_borrowed), start=1):\n",
    "    # print the counter, isbn and book\n",
    "    print(i,j[0],j[1])"
   ]
  },
  {
   "attachments": {},
   "cell_type": "markdown",
   "metadata": {},
   "source": [
    "### ⏸ Zipping and Unzipping\n",
    "\n",
    "Run the following snippet of code in your code cell and try fixing the error. Think about what may have caused the error."
   ]
  },
  {
   "cell_type": "code",
   "execution_count": 13,
   "metadata": {},
   "outputs": [
    {
     "name": "stdout",
     "output_type": "stream",
     "text": [
      "9722329982 Emerald fire\n",
      "9722329983 Defense against Trolls\n",
      "9722329987 Saphire Pearls\n",
      "9722329985 Flying & Snitch\n",
      "9722329988 The Greek Mythos\n",
      "9722329990 Emerald Fire\n"
     ]
    }
   ],
   "source": [
    "### edTest(test_fix) ###\n",
    "## DO NOT REMOVE ABOVE LINE ##\n",
    "\n",
    "# Fix the error\n",
    "for i, j in  zip(*(isbn, books_borrowed)):\n",
    "    print(i,j)"
   ]
  }
 ],
 "metadata": {
  "kernelspec": {
   "display_name": "Python 3 (ipykernel)",
   "language": "python",
   "name": "python3"
  },
  "language_info": {
   "codemirror_mode": {
    "name": "ipython",
    "version": 3
   },
   "file_extension": ".py",
   "mimetype": "text/x-python",
   "name": "python",
   "nbconvert_exporter": "python",
   "pygments_lexer": "ipython3",
   "version": "3.9.7"
  }
 },
 "nbformat": 4,
 "nbformat_minor": 4
}
