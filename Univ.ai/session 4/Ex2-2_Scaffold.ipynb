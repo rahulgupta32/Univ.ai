{
 "cells": [
  {
   "attachments": {},
   "cell_type": "markdown",
   "metadata": {},
   "source": [
    "# The Book Keeper's Apprentice - List & Dict Comprehension\n",
    "\n"
   ]
  },
  {
   "cell_type": "code",
   "execution_count": 8,
   "metadata": {},
   "outputs": [],
   "source": [
    "# Importing necessary libraries\n",
    "from pprint import pprint\n",
    "import numpy as np\n",
    "import pickle"
   ]
  },
  {
   "cell_type": "code",
   "execution_count": 10,
   "metadata": {},
   "outputs": [],
   "source": [
    "# Load the pickle file of the dictionary\n",
    "# {Key --> Author Name; Value --> No. of books they've written} \n",
    "with open('authors_books_freq.pkl', 'rb') as handle:\n",
    "    authors_books_freq = pickle.load(handle)"
   ]
  },
  {
   "attachments": {},
   "cell_type": "markdown",
   "metadata": {},
   "source": [
    "## Part 1 - Average number of books written by an authors\n",
    "\n",
    "Using list comprehension, find out the average no. of books written by an author."
   ]
  },
  {
   "cell_type": "code",
   "execution_count": 11,
   "metadata": {},
   "outputs": [
    {
     "name": "stdout",
     "output_type": "stream",
     "text": [
      "The average number of books written by an author is 13.\n"
     ]
    }
   ],
   "source": [
    "### edTest(test_1) ###\n",
    "## DO NOT REMOVE ABOVE LINE ##\n",
    "\n",
    "# Using list comprehension, store the values of `authors_books_freq` in `values_list` \n",
    "values_list = [value for value in authors_books_freq.values()]\n",
    "\n",
    "# Calculate the average\n",
    "avg_books = sum(values_list) / len(values_list)\n",
    "\n",
    "#print(f\"The average number of books written by an author is {avg_books:0.0f}.\")\n",
    "print(f\"The average number of books written by an author is {avg_books:0.0f}.\")"
   ]
  },
  {
   "attachments": {},
   "cell_type": "markdown",
   "metadata": {},
   "source": [
    "## Part 2 - How many books written by some '`Charles`'?\n",
    "\n",
    "Using list comprehension, count all the books written by authors with \"Charles\" in their name.\n"
   ]
  },
  {
   "cell_type": "code",
   "execution_count": 12,
   "metadata": {},
   "outputs": [
    {
     "name": "stdout",
     "output_type": "stream",
     "text": [
      "The total number of books written by authors containing the name 'Charles' is 514.\n"
     ]
    }
   ],
   "source": [
    "### edTest(test_2) ###\n",
    "## DO NOT REMOVE ABOVE LINE ##\n",
    "\n",
    "# If the name of the author contains a \"Charles\", store the number of books written\n",
    "# by that author in out_list. Use list comprehension.\n",
    "out_list = [value for (key, value) in authors_books_freq.items() if 'Charles' in key]\n",
    "\n",
    "# Count the total number of books in `out_list`\n",
    "count_of_books = sum(out_list)\n",
    "\n",
    "print(f\"The total number of books written by authors containing the name 'Charles' is {count_of_books}.\")"
   ]
  },
  {
   "attachments": {},
   "cell_type": "markdown",
   "metadata": {},
   "source": [
    "## Part 3 - How many 'William's?\n",
    "\n",
    "Create a list using list comprehension with the following logic: \n",
    "* if the name of the author contains a \"William\", then store 1, else, store 0.\n",
    "* Proceed to then calculate the the ratio of authors with the name `William` in their name."
   ]
  },
  {
   "cell_type": "code",
   "execution_count": 13,
   "metadata": {},
   "outputs": [
    {
     "name": "stdout",
     "output_type": "stream",
     "text": [
      "1.68% of all authors have a name 'William'. \n"
     ]
    }
   ],
   "source": [
    "### edTest(test_3) ###\n",
    "## DO NOT REMOVE ABOVE LINE ##\n",
    "\n",
    "# If the name of the author contains a \"William\", store 1 in out_list\n",
    "# else store 0.\n",
    "out_list = [1 if 'William' in key else 0 for (key, _) in authors_books_freq.items()]\n",
    "\n",
    "# Calculate the fraction of authors with \"William\" in their name.\n",
    "fraction = sum(out_list) / len(out_list)\n",
    "\n",
    "print(f\"{fraction*100:0.2f}% of all authors have a name 'William'. \")"
   ]
  },
  {
   "attachments": {},
   "cell_type": "markdown",
   "metadata": {},
   "source": [
    "## Part 4 - `\"Expert\"` or `\"Novice\"`?\n",
    "\n",
    "Using dictionary comprehension, create a new dictionary with:\n",
    "+ `key --->` the authors' name \n",
    "+ `value --->` \"Expert\" if the no. of books written by the author is more than 10 else \"Novice\"\n",
    "\n",
    "After creating the dictionary, print the ratio of to \"Novice\"to \"Expert\"."
   ]
  },
  {
   "cell_type": "code",
   "execution_count": 14,
   "metadata": {},
   "outputs": [
    {
     "name": "stdout",
     "output_type": "stream",
     "text": [
      "The ratio of Novice to Expert is 4.089264173703257\n"
     ]
    }
   ],
   "source": [
    "### edTest(test_4) ###\n",
    "## DO NOT REMOVE ABOVE LINE ##\n",
    "\n",
    "# Iterate through the 'authors_books_freq' and create a new dictionary with \n",
    "# key as the author's name,\n",
    "# value as \"Expert\" if the no. of books written is > 10 else store value as \"Novice\"\n",
    "new_dict = {author: \"Expert\" if num_books > 10 else \"Novice\" for (author, num_books) in authors_books_freq.items()}\n",
    "\n",
    "# Calculate the ratio of \"Novice\" to \"Expert\"\n",
    "novice_count = list(new_dict.values()).count(\"Novice\")\n",
    "expert_count = list(new_dict.values()).count(\"Expert\")\n",
    "ratio = novice_count / expert_count\n",
    "print(f\"The ratio of Novice to Expert is {ratio}\")"
   ]
  },
  {
   "cell_type": "code",
   "execution_count": 15,
   "metadata": {},
   "outputs": [
    {
     "name": "stdout",
     "output_type": "stream",
     "text": [
      "The author with the highest number of books is Mario Vargas Llosa with 1050 books.\n"
     ]
    }
   ],
   "source": [
    "highest_author = \"\"\n",
    "highest_count = 0\n",
    "\n",
    "# Iterate through the dictionary to find the author with the highest count\n",
    "for author, num_books in authors_books_freq.items():\n",
    "    if num_books > highest_count:\n",
    "        highest_count = num_books\n",
    "        highest_author = author\n",
    "\n",
    "# Print the author with the highest count\n",
    "print(f\"The author with the highest number of books is {highest_author} with {highest_count} books.\")"
   ]
  },
  {
   "attachments": {},
   "cell_type": "markdown",
   "metadata": {},
   "source": [
    "### ⏸ The Expert of them all!\n",
    "\n",
    "According to `authors_books_freq`, which author has the highest number of books attributed to him/her/them from the given options?\n",
    "#### A. `Roald Dahl`\n",
    "#### B. `Mario Vargas Llosa`\n",
    "#### C. `Pavlos Protopapas`\n",
    "#### D. `Charles Dickens`\n"
   ]
  },
  {
   "cell_type": "code",
   "execution_count": null,
   "metadata": {},
   "outputs": [],
   "source": [
    "### edTest(test_5) ###\n",
    "## DO NOT REMOVE ABOVE LINE ##\n",
    "\n",
    "# Submit an answer choice as a string below \n",
    "# (eg. if you choose option C, put 'C')\n",
    "\n",
    "your_answer = 'B'"
   ]
  }
 ],
 "metadata": {
  "kernelspec": {
   "display_name": "Python 3 (ipykernel)",
   "language": "python",
   "name": "python3"
  },
  "language_info": {
   "codemirror_mode": {
    "name": "ipython",
    "version": 3
   },
   "file_extension": ".py",
   "mimetype": "text/x-python",
   "name": "python",
   "nbconvert_exporter": "python",
   "pygments_lexer": "ipython3",
   "version": "3.9.7"
  }
 },
 "nbformat": 4,
 "nbformat_minor": 4
}
